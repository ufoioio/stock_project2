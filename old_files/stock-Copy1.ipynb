{
 "cells": [
  {
   "cell_type": "code",
   "execution_count": 1,
   "metadata": {},
   "outputs": [],
   "source": [
    "import sys\n",
    "from PyQt5.QtWidgets import QApplication\n",
    "from kiwoom_api.api import Kiwoom, DataFeeder, Executor"
   ]
  },
  {
   "cell_type": "code",
   "execution_count": 2,
   "metadata": {},
   "outputs": [
    {
     "name": "stderr",
     "output_type": "stream",
     "text": [
      "2020-06-02 16:02:23.944374 Connection Successful\n"
     ]
    }
   ],
   "source": [
    "app = QApplication(sys.argv)\n",
    "\n",
    "kiwoom = Kiwoom() # Kiwoom 인스턴스 생성\n",
    "kiwoom.commConnect() # API 접속\n",
    "feeder = DataFeeder(kiwoom)"
   ]
  },
  {
   "cell_type": "code",
   "execution_count": 18,
   "metadata": {},
   "outputs": [],
   "source": [
    "executor = Executor(kiwoom)"
   ]
  },
  {
   "cell_type": "code",
   "execution_count": 21,
   "metadata": {},
   "outputs": [],
   "source": [
    "accNo = feeder.accNo"
   ]
  },
  {
   "cell_type": "code",
   "execution_count": 22,
   "metadata": {},
   "outputs": [],
   "source": [
    "accNo = accNo.split(';')"
   ]
  },
  {
   "cell_type": "code",
   "execution_count": 23,
   "metadata": {},
   "outputs": [
    {
     "data": {
      "text/plain": [
       "['8137626111', '8748025331']"
      ]
     },
     "execution_count": 23,
     "metadata": {},
     "output_type": "execute_result"
    }
   ],
   "source": [
    "accNo"
   ]
  },
  {
   "cell_type": "code",
   "execution_count": 26,
   "metadata": {},
   "outputs": [
    {
     "name": "stderr",
     "output_type": "stream",
     "text": [
      "2020-06-02 16:07:10.082714  commRqData 계좌평가현황요청\n",
      "[00Z310] 모의투자 조회가 완료되었습니다\n",
      "{'BASC_DT': '2020-06-02',\n",
      " 'EVENT': 'eventReceiveTrData',\n",
      " 'REQUEST_NAME': '계좌평가현황요청',\n",
      " 'TIME': '2020-06-02 16:07:10.116555',\n",
      " 'TR_CODE': 'OPW00004'}\n"
     ]
    },
    {
     "data": {
      "text/plain": [
       "500000000"
      ]
     },
     "execution_count": 26,
     "metadata": {},
     "output_type": "execute_result"
    }
   ],
   "source": [
    "feeder.getDeposit(accNo[0])"
   ]
  },
  {
   "cell_type": "code",
   "execution_count": 19,
   "metadata": {},
   "outputs": [],
   "source": [
    "code = \"005930\"\n",
    "\n",
    "orderSpecDict = executor.createOrderSpec(\n",
    "    rqName=\"test\",\n",
    "    scrNo=\"0000\",\n",
    "    accNo=accNo[0],\n",
    "    orderType=1,  # 신규매수\n",
    "    code=code,\n",
    "    qty=1,\n",
    "    price=0,\n",
    "    hogaType=\"03\",\n",
    "    originOrderNo=\"\",\n",
    ")"
   ]
  },
  {
   "cell_type": "code",
   "execution_count": 20,
   "metadata": {},
   "outputs": [
    {
     "name": "stderr",
     "output_type": "stream",
     "text": [
      "[00Z218] 모의투자 장종료 상태입니다\n",
      "[00Z218] 모의투자 장종료 상태입니다\n"
     ]
    }
   ],
   "source": [
    "for _ in range(2):\n",
    "    orderResponse = executor.sendOrder(**orderSpecDict)"
   ]
  },
  {
   "cell_type": "code",
   "execution_count": null,
   "metadata": {},
   "outputs": [],
   "source": []
  },
  {
   "cell_type": "code",
   "execution_count": null,
   "metadata": {},
   "outputs": [],
   "source": []
  }
 ],
 "metadata": {
  "kernelspec": {
   "display_name": "Python 3",
   "language": "python",
   "name": "python3"
  },
  "language_info": {
   "codemirror_mode": {
    "name": "ipython",
    "version": 3
   },
   "file_extension": ".py",
   "mimetype": "text/x-python",
   "name": "python",
   "nbconvert_exporter": "python",
   "pygments_lexer": "ipython3",
   "version": "3.7.3"
  }
 },
 "nbformat": 4,
 "nbformat_minor": 4
}
