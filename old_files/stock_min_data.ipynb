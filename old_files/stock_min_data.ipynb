{
 "cells": [
  {
   "cell_type": "markdown",
   "metadata": {},
   "source": [
    "# 키움 로그인"
   ]
  },
  {
   "cell_type": "code",
   "execution_count": 1,
   "metadata": {},
   "outputs": [],
   "source": [
    "import sys\n",
    "from PyQt5.QtWidgets import QApplication\n",
    "from kiwoom_api.api import Kiwoom, DataFeeder, Executor"
   ]
  },
  {
   "cell_type": "code",
   "execution_count": 2,
   "metadata": {},
   "outputs": [
    {
     "name": "stderr",
     "output_type": "stream",
     "text": [
      "2020-06-12 14:11:40.827839 Connection Successful\n"
     ]
    }
   ],
   "source": [
    "app = QApplication(sys.argv)\n",
    "\n",
    "kiwoom = Kiwoom() # Kiwoom 인스턴스 생성\n",
    "kiwoom.commConnect() # API 접속\n",
    "feeder = DataFeeder(kiwoom)"
   ]
  },
  {
   "cell_type": "markdown",
   "metadata": {},
   "source": [
    "# 키움 분봉 주식데이터 가져오기"
   ]
  },
  {
   "cell_type": "code",
   "execution_count": 3,
   "metadata": {},
   "outputs": [],
   "source": [
    "import pandas as pd\n",
    "import time"
   ]
  },
  {
   "cell_type": "code",
   "execution_count": 4,
   "metadata": {},
   "outputs": [],
   "source": [
    "Kospi_codes = pd.read_csv('./KOSPI200.csv', header=None) #코스피200 목록 가져오기\n",
    "Kospi_codes.columns = ['codes', 'name']"
   ]
  },
  {
   "cell_type": "code",
   "execution_count": 5,
   "metadata": {},
   "outputs": [],
   "source": [
    "def min_request(trCode, n, **kwargs):   \n",
    "    for k, v in kwargs.items():\n",
    "        kiwoom.setInputValue(k, v)\n",
    "\n",
    "    kiwoom.commRqData('주식분봉차트조회요청', trCode, n, \"0000\")\n",
    "    return getattr(kiwoom, trCode)"
   ]
  },
  {
   "cell_type": "code",
   "execution_count": 6,
   "metadata": {},
   "outputs": [],
   "source": [
    "def get_min_data(code, n): #n : 몇번 가져올 것인가? 1회 900개\n",
    "    params = {\"종목코드\": code, \"틱범위\":1, \"수정주가구분\" : \"1\"}\n",
    "    \n",
    "    data = []\n",
    "    last_date = None\n",
    "    \n",
    "    for i in range(n):\n",
    "        time.sleep(0.3)\n",
    "\n",
    "        if i == 0:\n",
    "            tmp_data = min_request(trCode=\"OPT10080\", n=0, **params)\n",
    "        else:\n",
    "            tmp_data = min_request(trCode=\"OPT10080\", n=2, **params)\n",
    "                \n",
    "        if tmp_data['멀티데이터'][-1]['체결시간'] != last_date:\n",
    "            print(last_date)\n",
    "            data.append(tmp_data)\n",
    "            last_date = tmp_data['멀티데이터'][-1]['체결시간']\n",
    "        else:\n",
    "            print(code, \" 마지막 i=\",i)\n",
    "            break\n",
    "        \n",
    "    tmp = pd.DataFrame(data[0]['멀티데이터'])\n",
    "\n",
    "    for i in range(1, len(data)):\n",
    "        tmp = tmp.append(pd.DataFrame(data[i]['멀티데이터']))\n",
    "\n",
    "    tmp = tmp.reset_index(drop=True).loc[:, [\"체결시간\", \"현재가\", \"시가\", \"고가\", \"저가\", \"거래량\"]]\n",
    "        \n",
    "    return tmp"
   ]
  },
  {
   "cell_type": "code",
   "execution_count": 7,
   "metadata": {},
   "outputs": [
    {
     "name": "stdout",
     "output_type": "stream",
     "text": [
      "0 005930 삼성전자\n"
     ]
    },
    {
     "name": "stderr",
     "output_type": "stream",
     "text": [
      "2020-06-12 14:14:31.770158  commRqData 주식분봉차트조회요청\n",
      "{'BASC_DT': '2020-06-12',\n",
      " 'EVENT': 'eventReceiveTrData',\n",
      " 'REQUEST_NAME': '주식분봉차트조회요청',\n",
      " 'TIME': '2020-06-12 14:14:34.072035',\n",
      " 'TR_CODE': 'OPT10080'}\n"
     ]
    },
    {
     "name": "stdout",
     "output_type": "stream",
     "text": [
      "None\n"
     ]
    },
    {
     "name": "stderr",
     "output_type": "stream",
     "text": [
      "2020-06-12 14:14:34.489891  commRqData 주식분봉차트조회요청\n",
      "{'BASC_DT': '2020-06-12',\n",
      " 'EVENT': 'eventReceiveTrData',\n",
      " 'REQUEST_NAME': '주식분봉차트조회요청',\n",
      " 'TIME': '2020-06-12 14:14:34.813021',\n",
      " 'TR_CODE': 'OPT10080'}\n"
     ]
    },
    {
     "name": "stdout",
     "output_type": "stream",
     "text": [
      "20200610115900\n"
     ]
    },
    {
     "name": "stderr",
     "output_type": "stream",
     "text": [
      "2020-06-12 14:14:35.228984  commRqData 주식분봉차트조회요청\n",
      "{'BASC_DT': '2020-06-12',\n",
      " 'EVENT': 'eventReceiveTrData',\n",
      " 'REQUEST_NAME': '주식분봉차트조회요청',\n",
      " 'TIME': '2020-06-12 14:14:35.582994',\n",
      " 'TR_CODE': 'OPT10080'}\n"
     ]
    },
    {
     "name": "stdout",
     "output_type": "stream",
     "text": [
      "20200608094300\n"
     ]
    },
    {
     "name": "stderr",
     "output_type": "stream",
     "text": [
      "2020-06-12 14:14:36.002841  commRqData 주식분봉차트조회요청\n",
      "{'BASC_DT': '2020-06-12',\n",
      " 'EVENT': 'eventReceiveTrData',\n",
      " 'REQUEST_NAME': '주식분봉차트조회요청',\n",
      " 'TIME': '2020-06-12 14:14:36.362877',\n",
      " 'TR_CODE': 'OPT10080'}\n"
     ]
    },
    {
     "name": "stdout",
     "output_type": "stream",
     "text": [
      "20200603134900\n"
     ]
    },
    {
     "name": "stderr",
     "output_type": "stream",
     "text": [
      "2020-06-12 14:14:36.779762  commRqData 주식분봉차트조회요청\n",
      "{'BASC_DT': '2020-06-12',\n",
      " 'EVENT': 'eventReceiveTrData',\n",
      " 'REQUEST_NAME': '주식분봉차트조회요청',\n",
      " 'TIME': '2020-06-12 14:14:37.127857',\n",
      " 'TR_CODE': 'OPT10080'}\n"
     ]
    },
    {
     "name": "stdout",
     "output_type": "stream",
     "text": [
      "20200601113300\n"
     ]
    },
    {
     "ename": "KeyboardInterrupt",
     "evalue": "",
     "output_type": "error",
     "traceback": [
      "\u001b[1;31m---------------------------------------------------------------------------\u001b[0m",
      "\u001b[1;31mKeyboardInterrupt\u001b[0m                         Traceback (most recent call last)",
      "\u001b[1;32m<ipython-input-7-cb00962a6beb>\u001b[0m in \u001b[0;36m<module>\u001b[1;34m\u001b[0m\n\u001b[0;32m      2\u001b[0m     \u001b[0mcode\u001b[0m \u001b[1;33m=\u001b[0m \u001b[1;34m'%06d'\u001b[0m \u001b[1;33m%\u001b[0m \u001b[0mcode\u001b[0m\u001b[1;33m\u001b[0m\u001b[1;33m\u001b[0m\u001b[0m\n\u001b[0;32m      3\u001b[0m     \u001b[0mprint\u001b[0m\u001b[1;33m(\u001b[0m\u001b[0midx\u001b[0m\u001b[1;33m,\u001b[0m \u001b[0mcode\u001b[0m\u001b[1;33m,\u001b[0m \u001b[0mname\u001b[0m\u001b[1;33m)\u001b[0m\u001b[1;33m\u001b[0m\u001b[1;33m\u001b[0m\u001b[0m\n\u001b[1;32m----> 4\u001b[1;33m     \u001b[0mmin_data\u001b[0m \u001b[1;33m=\u001b[0m \u001b[0mget_min_data\u001b[0m\u001b[1;33m(\u001b[0m\u001b[0mcode\u001b[0m\u001b[1;33m,\u001b[0m \u001b[1;36m200\u001b[0m\u001b[1;33m)\u001b[0m\u001b[1;33m\u001b[0m\u001b[1;33m\u001b[0m\u001b[0m\n\u001b[0m\u001b[0;32m      5\u001b[0m     \u001b[0mmin_data\u001b[0m\u001b[1;33m.\u001b[0m\u001b[0mto_csv\u001b[0m\u001b[1;33m(\u001b[0m\u001b[1;34m'./min_data/{}_{}_.csv'\u001b[0m\u001b[1;33m.\u001b[0m\u001b[0mformat\u001b[0m\u001b[1;33m(\u001b[0m\u001b[0mname\u001b[0m\u001b[1;33m,\u001b[0m \u001b[0mcode\u001b[0m\u001b[1;33m)\u001b[0m\u001b[1;33m)\u001b[0m \u001b[1;31m#저장은 노트북파일과 동일한 폴더의 min_data에 저장한다.\u001b[0m\u001b[1;33m\u001b[0m\u001b[1;33m\u001b[0m\u001b[0m\n\u001b[0;32m      6\u001b[0m     \u001b[0mtime\u001b[0m\u001b[1;33m.\u001b[0m\u001b[0msleep\u001b[0m\u001b[1;33m(\u001b[0m\u001b[1;36m1\u001b[0m\u001b[1;33m)\u001b[0m\u001b[1;33m\u001b[0m\u001b[1;33m\u001b[0m\u001b[0m\n",
      "\u001b[1;32m<ipython-input-6-df7b58f776e4>\u001b[0m in \u001b[0;36mget_min_data\u001b[1;34m(code, n)\u001b[0m\n\u001b[0;32m      6\u001b[0m \u001b[1;33m\u001b[0m\u001b[0m\n\u001b[0;32m      7\u001b[0m     \u001b[1;32mfor\u001b[0m \u001b[0mi\u001b[0m \u001b[1;32min\u001b[0m \u001b[0mrange\u001b[0m\u001b[1;33m(\u001b[0m\u001b[0mn\u001b[0m\u001b[1;33m)\u001b[0m\u001b[1;33m:\u001b[0m\u001b[1;33m\u001b[0m\u001b[1;33m\u001b[0m\u001b[0m\n\u001b[1;32m----> 8\u001b[1;33m         \u001b[0mtime\u001b[0m\u001b[1;33m.\u001b[0m\u001b[0msleep\u001b[0m\u001b[1;33m(\u001b[0m\u001b[1;36m0.3\u001b[0m\u001b[1;33m)\u001b[0m\u001b[1;33m\u001b[0m\u001b[1;33m\u001b[0m\u001b[0m\n\u001b[0m\u001b[0;32m      9\u001b[0m \u001b[1;33m\u001b[0m\u001b[0m\n\u001b[0;32m     10\u001b[0m         \u001b[1;32mif\u001b[0m \u001b[0mi\u001b[0m \u001b[1;33m==\u001b[0m \u001b[1;36m0\u001b[0m\u001b[1;33m:\u001b[0m\u001b[1;33m\u001b[0m\u001b[1;33m\u001b[0m\u001b[0m\n",
      "\u001b[1;31mKeyboardInterrupt\u001b[0m: "
     ]
    }
   ],
   "source": [
    "for idx, code, name in Kospi_codes.iloc[:20,:].itertuples(): #코스피 상위 20개 목록의 주식을 가져온다.\n",
    "    code = '%06d' % code\n",
    "    print(idx, code, name)\n",
    "    min_data = get_min_data(code, 200)\n",
    "    min_data.to_csv('./min_data/{}_{}_.csv'.format(name, code)) #저장은 노트북파일과 동일한 폴더의 min_data에 저장한다.\n",
    "    time.sleep(1)"
   ]
  },
  {
   "cell_type": "code",
   "execution_count": null,
   "metadata": {},
   "outputs": [],
   "source": [
    "#2019-6-3일 9:00부터 가져온다."
   ]
  }
 ],
 "metadata": {
  "kernelspec": {
   "display_name": "Python 3",
   "language": "python",
   "name": "python3"
  },
  "language_info": {
   "codemirror_mode": {
    "name": "ipython",
    "version": 3
   },
   "file_extension": ".py",
   "mimetype": "text/x-python",
   "name": "python",
   "nbconvert_exporter": "python",
   "pygments_lexer": "ipython3",
   "version": "3.7.3"
  }
 },
 "nbformat": 4,
 "nbformat_minor": 4
}
