{
 "cells": [
  {
   "cell_type": "code",
   "execution_count": 25,
   "metadata": {},
   "outputs": [],
   "source": [
    "from collections import Counter\n",
    "\n",
    "from konlpy.corpus import kolaw\n",
    "from konlpy.tag import Hannanum, Kkma\n",
    "from konlpy.utils import concordance, pprint\n",
    "from matplotlib import pyplot"
   ]
  },
  {
   "cell_type": "code",
   "execution_count": 19,
   "metadata": {},
   "outputs": [
    {
     "name": "stdout",
     "output_type": "stream",
     "text": [
      "nchars  : 18884\n",
      "ntokens : 4178\n",
      "nmorphs : 1499\n",
      "\n",
      "Top 20 frequent morphemes:\n",
      "[(('의', 'J'), 396),\n",
      " (('.', 'S'), 340),\n",
      " (('하', 'X'), 291),\n",
      " (('에', 'J'), 283),\n",
      " (('ㄴ다', 'E'), 241),\n",
      " (('ㄴ', 'E'), 223),\n",
      " (('이', 'J'), 221),\n",
      " (('을', 'J'), 211),\n",
      " (('은', 'J'), 184),\n",
      " (('어', 'E'), 176),\n",
      " (('를', 'J'), 148),\n",
      " (('ㄹ', 'E'), 134),\n",
      " (('하', 'P'), 124),\n",
      " (('는', 'J'), 117),\n",
      " (('법률', 'N'), 115),\n",
      " ((',', 'S'), 99),\n",
      " (('는', 'E'), 97),\n",
      " (('있', 'P'), 96),\n",
      " (('되', 'X'), 94),\n",
      " (('수', 'N'), 91)]\n",
      "\n",
      "Locations of \"대한민국\" in the document:\n",
      "0\t대한민국헌법 유구한 역사와\n",
      "9\t대한국민은 3·1운동으로 건립된 대한민국임시정부의 법통과 불의에\n",
      "98\t총강 제1조 ① 대한민국은 민주공화국이다. ②대한민국의\n",
      "100\t① 대한민국은 민주공화국이다. ②대한민국의 주권은 국민에게\n",
      "110\t나온다. 제2조 ① 대한민국의 국민이 되는\n",
      "126\t의무를 진다. 제3조 대한민국의 영토는 한반도와\n",
      "133\t부속도서로 한다. 제4조 대한민국은 통일을 지향하며,\n",
      "147\t추진한다. 제5조 ① 대한민국은 국제평화의 유지에\n",
      "787\t군무원이 아닌 국민은 대한민국의 영역안에서는 중대한\n",
      "1836\t파견 또는 외국군대의 대한민국 영역안에서의 주류에\n",
      "3620\t경제 제119조 ① 대한민국의 경제질서는 개인과\n"
     ]
    },
    {
     "data": {
      "text/plain": [
       "[0, 9, 98, 100, 110, 126, 133, 147, 787, 1836, 3620]"
      ]
     },
     "execution_count": 19,
     "metadata": {},
     "output_type": "execute_result"
    }
   ],
   "source": [
    "doc = kolaw.open('constitution.txt').read()\n",
    "pos = Hannanum().pos(doc)\n",
    "cnt = Counter(pos)\n",
    "\n",
    "print('nchars  :', len(doc))\n",
    "print('ntokens :', len(doc.split()))\n",
    "print('nmorphs :', len(set(pos)))\n",
    "print('\\nTop 20 frequent morphemes:'); pprint(cnt.most_common(20))\n",
    "print('\\nLocations of \"대한민국\" in the document:')\n",
    "concordance(u'대한민국', doc, show=True)"
   ]
  },
  {
   "cell_type": "code",
   "execution_count": 20,
   "metadata": {},
   "outputs": [],
   "source": [
    "import os\n",
    "import pandas as pd"
   ]
  },
  {
   "cell_type": "code",
   "execution_count": 21,
   "metadata": {},
   "outputs": [],
   "source": [
    "article_path = \"./stock_data/stock_article0301_0531/article/삼성전자/\"\n",
    "seed_path = \"./stock_data/stock_article0301_0531/seed/삼성전자/\"\n",
    "\n",
    "files = os.listdir(article_path)"
   ]
  },
  {
   "cell_type": "code",
   "execution_count": 22,
   "metadata": {},
   "outputs": [],
   "source": [
    "news_data = pd.DataFrame()\n",
    "\n",
    "for file in files:\n",
    "    tmp_article = pd.read_csv(article_path+file).drop(['url'], axis=1)\n",
    "    tmp_seed = pd.read_csv(seed_path+file)\n",
    "    tmp = pd.concat([tmp_seed, tmp_article], axis=1)\n",
    "    \n",
    "    news_data = news_data.append(tmp, ignore_index=True)"
   ]
  },
  {
   "cell_type": "code",
   "execution_count": 23,
   "metadata": {},
   "outputs": [],
   "source": [
    "text_all = \" \".join(news_data.text.to_numpy().astype(str))"
   ]
  },
  {
   "cell_type": "code",
   "execution_count": 30,
   "metadata": {},
   "outputs": [
    {
     "name": "stderr",
     "output_type": "stream",
     "text": [
      "1it [00:01,  1.47s/it]"
     ]
    },
    {
     "name": "stdout",
     "output_type": "stream",
     "text": [
      "0\n"
     ]
    },
    {
     "name": "stderr",
     "output_type": "stream",
     "text": [
      "101it [00:45,  2.03it/s]"
     ]
    },
    {
     "name": "stdout",
     "output_type": "stream",
     "text": [
      "100\n"
     ]
    },
    {
     "name": "stderr",
     "output_type": "stream",
     "text": [
      "201it [01:24,  2.86it/s]"
     ]
    },
    {
     "name": "stdout",
     "output_type": "stream",
     "text": [
      "200\n"
     ]
    },
    {
     "name": "stderr",
     "output_type": "stream",
     "text": [
      "300it [02:08,  3.58it/s]"
     ]
    },
    {
     "name": "stdout",
     "output_type": "stream",
     "text": [
      "300\n"
     ]
    },
    {
     "name": "stderr",
     "output_type": "stream",
     "text": [
      "401it [02:50,  5.61it/s]"
     ]
    },
    {
     "name": "stdout",
     "output_type": "stream",
     "text": [
      "400\n"
     ]
    },
    {
     "name": "stderr",
     "output_type": "stream",
     "text": [
      "501it [03:22,  4.90it/s]"
     ]
    },
    {
     "name": "stdout",
     "output_type": "stream",
     "text": [
      "500\n"
     ]
    },
    {
     "name": "stderr",
     "output_type": "stream",
     "text": [
      "601it [04:10,  2.51it/s]"
     ]
    },
    {
     "name": "stdout",
     "output_type": "stream",
     "text": [
      "600\n"
     ]
    },
    {
     "name": "stderr",
     "output_type": "stream",
     "text": [
      "701it [04:49,  3.49it/s]"
     ]
    },
    {
     "name": "stdout",
     "output_type": "stream",
     "text": [
      "700\n"
     ]
    },
    {
     "name": "stderr",
     "output_type": "stream",
     "text": [
      "801it [05:30,  2.64it/s]"
     ]
    },
    {
     "name": "stdout",
     "output_type": "stream",
     "text": [
      "800\n"
     ]
    },
    {
     "name": "stderr",
     "output_type": "stream",
     "text": [
      "901it [06:03,  2.53it/s]"
     ]
    },
    {
     "name": "stdout",
     "output_type": "stream",
     "text": [
      "900\n"
     ]
    },
    {
     "name": "stderr",
     "output_type": "stream",
     "text": [
      "1001it [06:36,  3.47it/s]"
     ]
    },
    {
     "name": "stdout",
     "output_type": "stream",
     "text": [
      "1000\n"
     ]
    },
    {
     "name": "stderr",
     "output_type": "stream",
     "text": [
      "1101it [07:10,  1.99it/s]"
     ]
    },
    {
     "name": "stdout",
     "output_type": "stream",
     "text": [
      "1100\n"
     ]
    },
    {
     "name": "stderr",
     "output_type": "stream",
     "text": [
      "1201it [07:44,  2.13it/s]"
     ]
    },
    {
     "name": "stdout",
     "output_type": "stream",
     "text": [
      "1200\n"
     ]
    },
    {
     "name": "stderr",
     "output_type": "stream",
     "text": [
      "1301it [08:18,  2.69it/s]"
     ]
    },
    {
     "name": "stdout",
     "output_type": "stream",
     "text": [
      "1300\n"
     ]
    },
    {
     "name": "stderr",
     "output_type": "stream",
     "text": [
      "1401it [09:05,  2.25it/s]"
     ]
    },
    {
     "name": "stdout",
     "output_type": "stream",
     "text": [
      "1400\n"
     ]
    },
    {
     "name": "stderr",
     "output_type": "stream",
     "text": [
      "1501it [09:39,  1.85it/s]"
     ]
    },
    {
     "name": "stdout",
     "output_type": "stream",
     "text": [
      "1500\n"
     ]
    },
    {
     "name": "stderr",
     "output_type": "stream",
     "text": [
      "1602it [10:18,  3.79it/s]"
     ]
    },
    {
     "name": "stdout",
     "output_type": "stream",
     "text": [
      "1600\n"
     ]
    },
    {
     "name": "stderr",
     "output_type": "stream",
     "text": [
      "1701it [10:53,  3.41it/s]"
     ]
    },
    {
     "name": "stdout",
     "output_type": "stream",
     "text": [
      "1700\n"
     ]
    },
    {
     "name": "stderr",
     "output_type": "stream",
     "text": [
      "1801it [11:24,  4.00it/s]"
     ]
    },
    {
     "name": "stdout",
     "output_type": "stream",
     "text": [
      "1800\n"
     ]
    },
    {
     "name": "stderr",
     "output_type": "stream",
     "text": [
      "1901it [11:56,  1.85it/s]"
     ]
    },
    {
     "name": "stdout",
     "output_type": "stream",
     "text": [
      "1900\n"
     ]
    },
    {
     "name": "stderr",
     "output_type": "stream",
     "text": [
      "2001it [12:40,  2.89it/s]"
     ]
    },
    {
     "name": "stdout",
     "output_type": "stream",
     "text": [
      "2000\n"
     ]
    },
    {
     "name": "stderr",
     "output_type": "stream",
     "text": [
      "2101it [13:11,  2.79it/s]"
     ]
    },
    {
     "name": "stdout",
     "output_type": "stream",
     "text": [
      "2100\n"
     ]
    },
    {
     "name": "stderr",
     "output_type": "stream",
     "text": [
      "2200it [13:47,  2.91it/s]"
     ]
    },
    {
     "name": "stdout",
     "output_type": "stream",
     "text": [
      "2200\n"
     ]
    },
    {
     "name": "stderr",
     "output_type": "stream",
     "text": [
      "2301it [14:25,  4.79it/s]"
     ]
    },
    {
     "name": "stdout",
     "output_type": "stream",
     "text": [
      "2300\n"
     ]
    },
    {
     "name": "stderr",
     "output_type": "stream",
     "text": [
      "2401it [14:58,  3.30it/s]"
     ]
    },
    {
     "name": "stdout",
     "output_type": "stream",
     "text": [
      "2400\n"
     ]
    },
    {
     "name": "stderr",
     "output_type": "stream",
     "text": [
      "2501it [15:45,  2.47it/s]"
     ]
    },
    {
     "name": "stdout",
     "output_type": "stream",
     "text": [
      "2500\n"
     ]
    },
    {
     "name": "stderr",
     "output_type": "stream",
     "text": [
      "2601it [16:31,  2.43it/s]"
     ]
    },
    {
     "name": "stdout",
     "output_type": "stream",
     "text": [
      "2600\n"
     ]
    },
    {
     "name": "stderr",
     "output_type": "stream",
     "text": [
      "2701it [17:19,  2.13it/s]"
     ]
    },
    {
     "name": "stdout",
     "output_type": "stream",
     "text": [
      "2700\n"
     ]
    },
    {
     "name": "stderr",
     "output_type": "stream",
     "text": [
      "2802it [17:58,  5.14it/s]"
     ]
    },
    {
     "name": "stdout",
     "output_type": "stream",
     "text": [
      "2800\n"
     ]
    },
    {
     "name": "stderr",
     "output_type": "stream",
     "text": [
      "2901it [18:28,  2.79it/s]"
     ]
    },
    {
     "name": "stdout",
     "output_type": "stream",
     "text": [
      "2900\n"
     ]
    },
    {
     "name": "stderr",
     "output_type": "stream",
     "text": [
      "3001it [19:10,  2.39it/s]"
     ]
    },
    {
     "name": "stdout",
     "output_type": "stream",
     "text": [
      "3000\n"
     ]
    },
    {
     "name": "stderr",
     "output_type": "stream",
     "text": [
      "3103it [19:27,  8.25it/s]"
     ]
    },
    {
     "name": "stdout",
     "output_type": "stream",
     "text": [
      "3100\n"
     ]
    },
    {
     "name": "stderr",
     "output_type": "stream",
     "text": [
      "3203it [19:38,  8.93it/s]"
     ]
    },
    {
     "name": "stdout",
     "output_type": "stream",
     "text": [
      "3200\n"
     ]
    },
    {
     "name": "stderr",
     "output_type": "stream",
     "text": [
      "3302it [19:49,  8.31it/s]"
     ]
    },
    {
     "name": "stdout",
     "output_type": "stream",
     "text": [
      "3300\n"
     ]
    },
    {
     "name": "stderr",
     "output_type": "stream",
     "text": [
      "3402it [19:59,  7.01it/s]"
     ]
    },
    {
     "name": "stdout",
     "output_type": "stream",
     "text": [
      "3400\n"
     ]
    },
    {
     "name": "stderr",
     "output_type": "stream",
     "text": [
      "3501it [20:32,  2.51it/s]"
     ]
    },
    {
     "name": "stdout",
     "output_type": "stream",
     "text": [
      "3500\n"
     ]
    },
    {
     "name": "stderr",
     "output_type": "stream",
     "text": [
      "3602it [21:11,  2.83it/s]"
     ]
    },
    {
     "name": "stdout",
     "output_type": "stream",
     "text": [
      "3600\n"
     ]
    },
    {
     "name": "stderr",
     "output_type": "stream",
     "text": [
      "3700it [21:47,  2.71it/s]"
     ]
    },
    {
     "name": "stdout",
     "output_type": "stream",
     "text": [
      "3700\n"
     ]
    },
    {
     "name": "stderr",
     "output_type": "stream",
     "text": [
      "3801it [22:21,  3.00it/s]"
     ]
    },
    {
     "name": "stdout",
     "output_type": "stream",
     "text": [
      "3800\n"
     ]
    },
    {
     "name": "stderr",
     "output_type": "stream",
     "text": [
      "3901it [22:58,  1.73it/s]"
     ]
    },
    {
     "name": "stdout",
     "output_type": "stream",
     "text": [
      "3900\n"
     ]
    },
    {
     "name": "stderr",
     "output_type": "stream",
     "text": [
      "4001it [23:43,  4.74it/s]"
     ]
    },
    {
     "name": "stdout",
     "output_type": "stream",
     "text": [
      "4000\n"
     ]
    },
    {
     "name": "stderr",
     "output_type": "stream",
     "text": [
      "4100it [24:14,  3.28it/s]"
     ]
    },
    {
     "name": "stdout",
     "output_type": "stream",
     "text": [
      "4100\n"
     ]
    },
    {
     "name": "stderr",
     "output_type": "stream",
     "text": [
      "4201it [24:49,  4.80it/s]"
     ]
    },
    {
     "name": "stdout",
     "output_type": "stream",
     "text": [
      "4200\n"
     ]
    },
    {
     "name": "stderr",
     "output_type": "stream",
     "text": [
      "4301it [25:32,  1.84it/s]"
     ]
    },
    {
     "name": "stdout",
     "output_type": "stream",
     "text": [
      "4300\n"
     ]
    },
    {
     "name": "stderr",
     "output_type": "stream",
     "text": [
      "4401it [26:12,  3.26it/s]"
     ]
    },
    {
     "name": "stdout",
     "output_type": "stream",
     "text": [
      "4400\n"
     ]
    },
    {
     "name": "stderr",
     "output_type": "stream",
     "text": [
      "4502it [26:42,  4.99it/s]"
     ]
    },
    {
     "name": "stdout",
     "output_type": "stream",
     "text": [
      "4500\n"
     ]
    },
    {
     "name": "stderr",
     "output_type": "stream",
     "text": [
      "4603it [27:18,  3.52it/s]"
     ]
    },
    {
     "name": "stdout",
     "output_type": "stream",
     "text": [
      "4600\n"
     ]
    },
    {
     "name": "stderr",
     "output_type": "stream",
     "text": [
      "4701it [27:57,  3.40it/s]"
     ]
    },
    {
     "name": "stdout",
     "output_type": "stream",
     "text": [
      "4700\n"
     ]
    },
    {
     "name": "stderr",
     "output_type": "stream",
     "text": [
      "4801it [28:38,  2.91it/s]"
     ]
    },
    {
     "name": "stdout",
     "output_type": "stream",
     "text": [
      "4800\n"
     ]
    },
    {
     "name": "stderr",
     "output_type": "stream",
     "text": [
      "4901it [29:17,  2.19it/s]"
     ]
    },
    {
     "name": "stdout",
     "output_type": "stream",
     "text": [
      "4900\n"
     ]
    },
    {
     "name": "stderr",
     "output_type": "stream",
     "text": [
      "5001it [30:03,  4.25it/s]"
     ]
    },
    {
     "name": "stdout",
     "output_type": "stream",
     "text": [
      "5000\n"
     ]
    },
    {
     "name": "stderr",
     "output_type": "stream",
     "text": [
      "5101it [30:36,  2.12it/s]"
     ]
    },
    {
     "name": "stdout",
     "output_type": "stream",
     "text": [
      "5100\n"
     ]
    },
    {
     "name": "stderr",
     "output_type": "stream",
     "text": [
      "5201it [31:18,  1.82it/s]"
     ]
    },
    {
     "name": "stdout",
     "output_type": "stream",
     "text": [
      "5200\n"
     ]
    },
    {
     "name": "stderr",
     "output_type": "stream",
     "text": [
      "5301it [31:57,  2.66it/s]"
     ]
    },
    {
     "name": "stdout",
     "output_type": "stream",
     "text": [
      "5300\n"
     ]
    },
    {
     "name": "stderr",
     "output_type": "stream",
     "text": [
      "5401it [32:36,  3.07it/s]"
     ]
    },
    {
     "name": "stdout",
     "output_type": "stream",
     "text": [
      "5400\n"
     ]
    },
    {
     "ename": "TypeError",
     "evalue": "No matching overloads found for kr.lucypark.kkma.KkmaInterface.extractNoun(float), options are:\n\tpublic org.snu.ids.ha.index.KeywordList kr.lucypark.kkma.KkmaInterface.extractNoun(java.lang.String)\n\n",
     "output_type": "error",
     "traceback": [
      "\u001b[1;31m---------------------------------------------------------------------------\u001b[0m",
      "\u001b[1;31mTypeError\u001b[0m                                 Traceback (most recent call last)",
      "\u001b[1;32m<ipython-input-30-d6d62acadc0e>\u001b[0m in \u001b[0;36m<module>\u001b[1;34m\u001b[0m\n\u001b[0;32m      6\u001b[0m \u001b[1;33m\u001b[0m\u001b[0m\n\u001b[0;32m      7\u001b[0m \u001b[1;32mfor\u001b[0m \u001b[0mtp\u001b[0m \u001b[1;32min\u001b[0m \u001b[0mtqdm\u001b[0m\u001b[1;33m(\u001b[0m\u001b[0mnews_data\u001b[0m\u001b[1;33m[\u001b[0m\u001b[1;33m:\u001b[0m\u001b[1;33m]\u001b[0m\u001b[1;33m.\u001b[0m\u001b[0mitertuples\u001b[0m\u001b[1;33m(\u001b[0m\u001b[1;33m)\u001b[0m\u001b[1;33m)\u001b[0m\u001b[1;33m:\u001b[0m\u001b[1;33m\u001b[0m\u001b[1;33m\u001b[0m\u001b[0m\n\u001b[1;32m----> 8\u001b[1;33m     \u001b[0mwords\u001b[0m \u001b[1;33m+=\u001b[0m \u001b[0mk\u001b[0m\u001b[1;33m.\u001b[0m\u001b[0mnouns\u001b[0m\u001b[1;33m(\u001b[0m\u001b[0mtp\u001b[0m\u001b[1;33m[\u001b[0m\u001b[1;36m7\u001b[0m\u001b[1;33m]\u001b[0m\u001b[1;33m)\u001b[0m\u001b[1;33m\u001b[0m\u001b[1;33m\u001b[0m\u001b[0m\n\u001b[0m\u001b[0;32m      9\u001b[0m     \u001b[1;32mif\u001b[0m\u001b[1;33m(\u001b[0m\u001b[0mtp\u001b[0m\u001b[1;33m[\u001b[0m\u001b[1;36m0\u001b[0m\u001b[1;33m]\u001b[0m\u001b[1;33m%\u001b[0m\u001b[1;36m100\u001b[0m \u001b[1;33m==\u001b[0m \u001b[1;36m0\u001b[0m\u001b[1;33m)\u001b[0m\u001b[1;33m:\u001b[0m\u001b[1;33m\u001b[0m\u001b[1;33m\u001b[0m\u001b[0m\n\u001b[0;32m     10\u001b[0m         \u001b[0mprint\u001b[0m\u001b[1;33m(\u001b[0m\u001b[0mtp\u001b[0m\u001b[1;33m[\u001b[0m\u001b[1;36m0\u001b[0m\u001b[1;33m]\u001b[0m\u001b[1;33m)\u001b[0m\u001b[1;33m\u001b[0m\u001b[1;33m\u001b[0m\u001b[0m\n",
      "\u001b[1;32m~\\Anaconda3\\lib\\site-packages\\konlpy\\tag\\_kkma.py\u001b[0m in \u001b[0;36mnouns\u001b[1;34m(self, phrase)\u001b[0m\n\u001b[0;32m     42\u001b[0m         \u001b[1;34m\"\"\"Noun extractor.\"\"\"\u001b[0m\u001b[1;33m\u001b[0m\u001b[1;33m\u001b[0m\u001b[0m\n\u001b[0;32m     43\u001b[0m \u001b[1;33m\u001b[0m\u001b[0m\n\u001b[1;32m---> 44\u001b[1;33m         \u001b[0mnouns\u001b[0m \u001b[1;33m=\u001b[0m \u001b[0mself\u001b[0m\u001b[1;33m.\u001b[0m\u001b[0mjki\u001b[0m\u001b[1;33m.\u001b[0m\u001b[0mextractNoun\u001b[0m\u001b[1;33m(\u001b[0m\u001b[0mphrase\u001b[0m\u001b[1;33m)\u001b[0m\u001b[1;33m\u001b[0m\u001b[1;33m\u001b[0m\u001b[0m\n\u001b[0m\u001b[0;32m     45\u001b[0m         \u001b[1;32mif\u001b[0m \u001b[1;32mnot\u001b[0m \u001b[0mnouns\u001b[0m\u001b[1;33m:\u001b[0m \u001b[1;32mreturn\u001b[0m \u001b[1;33m[\u001b[0m\u001b[1;33m]\u001b[0m\u001b[1;33m\u001b[0m\u001b[1;33m\u001b[0m\u001b[0m\n\u001b[0;32m     46\u001b[0m         \u001b[1;32mreturn\u001b[0m \u001b[1;33m[\u001b[0m\u001b[0mnouns\u001b[0m\u001b[1;33m.\u001b[0m\u001b[0mget\u001b[0m\u001b[1;33m(\u001b[0m\u001b[0mi\u001b[0m\u001b[1;33m)\u001b[0m\u001b[1;33m.\u001b[0m\u001b[0mgetString\u001b[0m\u001b[1;33m(\u001b[0m\u001b[1;33m)\u001b[0m \u001b[1;32mfor\u001b[0m \u001b[0mi\u001b[0m \u001b[1;32min\u001b[0m \u001b[0mrange\u001b[0m\u001b[1;33m(\u001b[0m\u001b[0mnouns\u001b[0m\u001b[1;33m.\u001b[0m\u001b[0msize\u001b[0m\u001b[1;33m(\u001b[0m\u001b[1;33m)\u001b[0m\u001b[1;33m)\u001b[0m\u001b[1;33m]\u001b[0m\u001b[1;33m\u001b[0m\u001b[1;33m\u001b[0m\u001b[0m\n",
      "\u001b[1;31mTypeError\u001b[0m: No matching overloads found for kr.lucypark.kkma.KkmaInterface.extractNoun(float), options are:\n\tpublic org.snu.ids.ha.index.KeywordList kr.lucypark.kkma.KkmaInterface.extractNoun(java.lang.String)\n\n"
     ]
    }
   ],
   "source": [
    "from tqdm import tqdm\n",
    "\n",
    "k = Kkma()\n",
    "\n",
    "words = []\n",
    "\n",
    "for tp in tqdm(news_data[:].itertuples()):\n",
    "    words += k.nouns(tp[7])\n",
    "    if(tp[0]%100 == 0):\n",
    "        print(tp[0])"
   ]
  },
  {
   "cell_type": "code",
   "execution_count": null,
   "metadata": {},
   "outputs": [],
   "source": [
    "import pickle\n",
    "\n",
    "# save\n",
    "with open('words.pickle', 'wb') as f:\n",
    "    pickle.dump(words, f, pickle.HIGHEST_PROTOCOL)\n",
    "\n",
    "# load\n",
    "with open('words.pickle', 'rb') as f:\n",
    "    data = pickle.load(f)\n"
   ]
  },
  {
   "cell_type": "code",
   "execution_count": 27,
   "metadata": {},
   "outputs": [],
   "source": [
    "nouns = Hannanum().nouns(news_data['text'].iloc[0])"
   ]
  },
  {
   "cell_type": "code",
   "execution_count": 28,
   "metadata": {},
   "outputs": [
    {
     "data": {
      "text/plain": [
       "['(서울=뉴스1)',\n",
       " '정은지',\n",
       " '기',\n",
       " '외국',\n",
       " '투자자들',\n",
       " '한주',\n",
       " '2월',\n",
       " '24',\n",
       " '28일',\n",
       " '코스피',\n",
       " '시장',\n",
       " '5거래',\n",
       " '매물',\n",
       " '삼성전자',\n",
       " '등',\n",
       " '3조4635억원',\n",
       " '어치',\n",
       " '팔아치웠다',\n",
       " '신종',\n",
       " '코로나바이러스',\n",
       " '감염증(코로나19)',\n",
       " '국내외',\n",
       " '급속',\n",
       " '확산',\n",
       " '한국',\n",
       " '글로벌',\n",
       " '경제',\n",
       " '타격',\n",
       " '것',\n",
       " '우려감',\n",
       " '반영',\n",
       " '결과',\n",
       " '시가총액',\n",
       " '1위',\n",
       " '삼성전자',\n",
       " '순매',\n",
       " '규모',\n",
       " '1조6128억원',\n",
       " '전체',\n",
       " '순매도',\n",
       " '절반',\n",
       " '가량',\n",
       " '이',\n",
       " 'SK하이닉스(5100억원),',\n",
       " '삼성전자우(1523억원),',\n",
       " '현대차(1257억원),',\n",
       " 'SK이노베이션(1021억원),',\n",
       " '한국전력(783억원),',\n",
       " '삼성SDI(706억원),',\n",
       " 'LG생활건강(678억원)',\n",
       " '등',\n",
       " '시가총액',\n",
       " '20위',\n",
       " '대형주',\n",
       " '매도세가',\n",
       " '집중',\n",
       " '외국인',\n",
       " '국내',\n",
       " '첫',\n",
       " '확진자',\n",
       " '전',\n",
       " '지난달',\n",
       " '17일',\n",
       " '코스피',\n",
       " '시장',\n",
       " '1조7944억원',\n",
       " '순매수하',\n",
       " '증시',\n",
       " '활력',\n",
       " '주말',\n",
       " '기점',\n",
       " '국내',\n",
       " '코로나19',\n",
       " '확진자',\n",
       " '수',\n",
       " '급증',\n",
       " '속도',\n",
       " '주식',\n",
       " '팔아치웠다',\n",
       " '외국인',\n",
       " '한주',\n",
       " '종목',\n",
       " '최대',\n",
       " '순매수',\n",
       " '종목',\n",
       " '경영권',\n",
       " '분쟁',\n",
       " '이슈',\n",
       " '부각',\n",
       " '한진칼(559억원)',\n",
       " '이달',\n",
       " '한진칼',\n",
       " '주총',\n",
       " '조원태',\n",
       " '한진그룹',\n",
       " '회장',\n",
       " '조현아',\n",
       " '전',\n",
       " '대한항공',\n",
       " '부사장',\n",
       " '반도건설',\n",
       " '행동주의펀드',\n",
       " '3자',\n",
       " '주주연합',\n",
       " '측',\n",
       " '사이',\n",
       " '지분',\n",
       " '매입',\n",
       " '경쟁',\n",
       " '한진칼',\n",
       " '지분',\n",
       " '집',\n",
       " '주체',\n",
       " '조원태',\n",
       " '회장',\n",
       " '측',\n",
       " '우군',\n",
       " '델타항공',\n",
       " '가능성',\n",
       " '배제',\n",
       " '수',\n",
       " '관측',\n",
       " '델타항공',\n",
       " '장내',\n",
       " '매수',\n",
       " '한진칼',\n",
       " '지분율',\n",
       " '10',\n",
       " '11',\n",
       " '지난달',\n",
       " '24일',\n",
       " '공시',\n",
       " '공시',\n",
       " '델타항공',\n",
       " '지난달',\n",
       " '18일',\n",
       " '29만5852주',\n",
       " '19일',\n",
       " '29만5852주',\n",
       " '등',\n",
       " '이틀',\n",
       " '한진칼',\n",
       " '주식',\n",
       " '59만1704주',\n",
       " '장내',\n",
       " '매입',\n",
       " '증권가',\n",
       " '지난주',\n",
       " '델타항공',\n",
       " '추',\n",
       " '매입',\n",
       " '수',\n",
       " '델타항공',\n",
       " '한진칼',\n",
       " '지분',\n",
       " '매입',\n",
       " '것',\n",
       " '이달',\n",
       " '주총',\n",
       " '이후',\n",
       " '3자',\n",
       " '주주연합',\n",
       " '임시주총',\n",
       " '소집',\n",
       " '등',\n",
       " '대응',\n",
       " '조치',\n",
       " '해석',\n",
       " '델타항공',\n",
       " '추',\n",
       " '매입',\n",
       " '주식',\n",
       " '이달',\n",
       " '한진칼',\n",
       " '주총',\n",
       " '의결권',\n",
       " '부',\n",
       " '다음',\n",
       " '외국',\n",
       " '순매수',\n",
       " '종목',\n",
       " '삼성전기(508억원)였다',\n",
       " '이',\n",
       " '삼성전기',\n",
       " '증권가',\n",
       " '긍정적',\n",
       " '전망',\n",
       " '데',\n",
       " '것',\n",
       " '김운호',\n",
       " 'IBK투자증권',\n",
       " '연구원',\n",
       " '올해',\n",
       " '삼성전기',\n",
       " '사업부문',\n",
       " '성장',\n",
       " '영업이익',\n",
       " '29.9',\n",
       " '9178억원',\n",
       " '것',\n",
       " '예상한다\"며',\n",
       " '\"5G',\n",
       " '투',\n",
       " '확',\n",
       " '컴포넌트',\n",
       " '사업부',\n",
       " '실적',\n",
       " '하반기',\n",
       " '폭',\n",
       " '개선',\n",
       " '것',\n",
       " '외국인',\n",
       " '이',\n",
       " '카카오(397억원),',\n",
       " 'LG유플러스(396억원),',\n",
       " '삼성물산(283억원),',\n",
       " '일진머티리얼즈(165억원),',\n",
       " '엔씨소프트(165억원),',\n",
       " '현대엘리베이터(143억원)',\n",
       " '등',\n",
       " '지난주',\n",
       " '순매수했다',\n",
       " 'ejjung@news1',\n",
       " 'kr©',\n",
       " '뉴스1코리아(),',\n",
       " '무단',\n",
       " '전재',\n",
       " '재배포',\n",
       " '금지']"
      ]
     },
     "execution_count": 28,
     "metadata": {},
     "output_type": "execute_result"
    }
   ],
   "source": [
    "nouns"
   ]
  },
  {
   "cell_type": "code",
   "execution_count": 12,
   "metadata": {},
   "outputs": [
    {
     "data": {
      "text/plain": [
       "229"
      ]
     },
     "execution_count": 12,
     "metadata": {},
     "output_type": "execute_result"
    }
   ],
   "source": [
    "len(nouns)"
   ]
  },
  {
   "cell_type": "code",
   "execution_count": null,
   "metadata": {},
   "outputs": [],
   "source": []
  },
  {
   "cell_type": "code",
   "execution_count": null,
   "metadata": {},
   "outputs": [],
   "source": [
    "cnt = Counter(pos)"
   ]
  },
  {
   "cell_type": "code",
   "execution_count": null,
   "metadata": {},
   "outputs": [],
   "source": [
    "print('nchars  :', len(doc))\n",
    "print('ntokens :', len(doc.split()))\n",
    "print('nmorphs :', len(set(pos)))\n",
    "print('\\nTop 20 frequent morphemes:'); pprint(cnt.most_common(20))\n",
    "print('\\nLocations of \"대한민국\" in the document:')\n",
    "concordance(u'대한민국', doc, show=True)"
   ]
  }
 ],
 "metadata": {
  "kernelspec": {
   "display_name": "Python 3",
   "language": "python",
   "name": "python3"
  },
  "language_info": {
   "codemirror_mode": {
    "name": "ipython",
    "version": 3
   },
   "file_extension": ".py",
   "mimetype": "text/x-python",
   "name": "python",
   "nbconvert_exporter": "python",
   "pygments_lexer": "ipython3",
   "version": "3.7.3"
  }
 },
 "nbformat": 4,
 "nbformat_minor": 4
}
