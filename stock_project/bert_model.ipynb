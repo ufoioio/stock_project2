{
 "cells": [
  {
   "cell_type": "code",
   "execution_count": 1,
   "metadata": {},
   "outputs": [],
   "source": [
    "import pandas as pd\n",
    "import numpy as np\n",
    "import os\n",
    "import sys\n",
    "import glob\n",
    "import gc"
   ]
  },
  {
   "cell_type": "code",
   "execution_count": 2,
   "metadata": {},
   "outputs": [],
   "source": [
    "%matplotlib inline\n",
    "from matplotlib import pyplot as plt\n",
    "import seaborn as sns"
   ]
  },
  {
   "cell_type": "code",
   "execution_count": 3,
   "metadata": {},
   "outputs": [],
   "source": [
    "import re"
   ]
  },
  {
   "cell_type": "code",
   "execution_count": 4,
   "metadata": {},
   "outputs": [],
   "source": [
    "article_data = '/notebook/stock/sam/article/'\n",
    "seed_data = '/notebook/stock/sam/seed/'"
   ]
  },
  {
   "cell_type": "code",
   "execution_count": 5,
   "metadata": {},
   "outputs": [],
   "source": [
    "price_data = '/notebook/stock/sam/price/samsung_20200602_20171219.csv'\n",
    "precent_data = '/notebook/stock/sam/price/percent_samsung_06_02.csv'"
   ]
  },
  {
   "cell_type": "code",
   "execution_count": 6,
   "metadata": {},
   "outputs": [],
   "source": [
    "price_df = pd.read_csv(price_data)\n",
    "percent_df = pd.read_csv(precent_data)"
   ]
  },
  {
   "cell_type": "code",
   "execution_count": 7,
   "metadata": {},
   "outputs": [
    {
     "name": "stdout",
     "output_type": "stream",
     "text": [
      "35\n",
      "35\n"
     ]
    }
   ],
   "source": [
    "seed_all = glob.glob(seed_data + '/*.csv')\n",
    "print(len(seed_all))\n",
    "article_all = glob.glob(article_data + '/*.csv')\n",
    "print(len(article_all))"
   ]
  },
  {
   "cell_type": "code",
   "execution_count": 8,
   "metadata": {},
   "outputs": [],
   "source": [
    "seed_df = []\n",
    "article_df = []\n",
    "\n",
    "for seed_file, art_file  in zip(seed_all, article_all):\n",
    "    df_seed = pd.read_csv(seed_file, index_col=None, header = 0)\n",
    "    df_art = pd.read_csv(art_file, index_col=None, header = 0)\n",
    "    seed_df.append(df_seed)\n",
    "    article_df.append(df_art)\n",
    "seed_df = pd.concat(seed_df, axis=0, ignore_index=True)\n",
    "article_df = pd.concat(article_df, axis=0, ignore_index=True)"
   ]
  },
  {
   "cell_type": "code",
   "execution_count": 9,
   "metadata": {},
   "outputs": [
    {
     "name": "stdout",
     "output_type": "stream",
     "text": [
      "<class 'pandas.core.frame.DataFrame'>\n",
      "RangeIndex: 7421 entries, 0 to 7420\n",
      "Data columns (total 3 columns):\n",
      "head    3611 non-null object\n",
      "text    7416 non-null object\n",
      "url     7421 non-null object\n",
      "dtypes: object(3)\n",
      "memory usage: 174.1+ KB\n"
     ]
    }
   ],
   "source": [
    "article_df.info()"
   ]
  },
  {
   "cell_type": "code",
   "execution_count": 10,
   "metadata": {},
   "outputs": [
    {
     "name": "stdout",
     "output_type": "stream",
     "text": [
      "<class 'pandas.core.frame.DataFrame'>\n",
      "RangeIndex: 7421 entries, 0 to 7420\n",
      "Data columns (total 5 columns):\n",
      "title      7421 non-null object\n",
      "url        7421 non-null object\n",
      "press      7421 non-null object\n",
      "summary    7421 non-null object\n",
      "date       7421 non-null object\n",
      "dtypes: object(5)\n",
      "memory usage: 290.0+ KB\n"
     ]
    }
   ],
   "source": [
    "seed_df.info()"
   ]
  },
  {
   "cell_type": "code",
   "execution_count": 11,
   "metadata": {},
   "outputs": [
    {
     "data": {
      "text/html": [
       "<div>\n",
       "<style scoped>\n",
       "    .dataframe tbody tr th:only-of-type {\n",
       "        vertical-align: middle;\n",
       "    }\n",
       "\n",
       "    .dataframe tbody tr th {\n",
       "        vertical-align: top;\n",
       "    }\n",
       "\n",
       "    .dataframe thead th {\n",
       "        text-align: right;\n",
       "    }\n",
       "</style>\n",
       "<table border=\"1\" class=\"dataframe\">\n",
       "  <thead>\n",
       "    <tr style=\"text-align: right;\">\n",
       "      <th></th>\n",
       "      <th>title</th>\n",
       "      <th>url</th>\n",
       "      <th>press</th>\n",
       "      <th>summary</th>\n",
       "      <th>date</th>\n",
       "    </tr>\n",
       "  </thead>\n",
       "  <tbody>\n",
       "    <tr>\n",
       "      <td>0</td>\n",
       "      <td>반포3주구 홍보전 과열 양상…허울뿐인 '클린수주'?</td>\n",
       "      <td>/news/news_read.nhn?article_id=0000025040&amp;offi...</td>\n",
       "      <td>더팩트</td>\n",
       "      <td>지난 6일 삼성 준법감시위원회의 권고에 따라 이재용 삼성전자 부회장은 경영권 승계 ...</td>\n",
       "      <td>2020-05-08 00:00</td>\n",
       "    </tr>\n",
       "    <tr>\n",
       "      <td>1</td>\n",
       "      <td>삼성 준법감시위, 이재용 사과 관련 구체적 실천방안 마련해야</td>\n",
       "      <td>/news/news_read.nhn?article_id=0002998933&amp;offi...</td>\n",
       "      <td>중앙일보</td>\n",
       "      <td>삼성 준법감시위원회가 7일 이재용(52) 삼성전자 부회장의 대국민 사과와 관련해 “...</td>\n",
       "      <td>2020-05-08 00:04</td>\n",
       "    </tr>\n",
       "    <tr>\n",
       "      <td>2</td>\n",
       "      <td>삼성 준법위 \"이재용 사과 의미있게 평가…구체적인 실천방안 뒷받침돼야\"</td>\n",
       "      <td>/news/news_read.nhn?article_id=0003463155&amp;offi...</td>\n",
       "      <td>세계일보</td>\n",
       "      <td>삼성 관계사에도 개선방안 마련 주문 이재용 삼성전자 부회장이 지난 6일 서울 서초동...</td>\n",
       "      <td>2020-05-08 00:13</td>\n",
       "    </tr>\n",
       "    <tr>\n",
       "      <td>3</td>\n",
       "      <td>갤럭시 Z 플립 원하는대로 접히는 '하이드어웨이 힌지' 기술</td>\n",
       "      <td>/news/news_read.nhn?article_id=0009851418&amp;offi...</td>\n",
       "      <td>뉴시스</td>\n",
       "      <td>모바일 기술의 한계를 넘어선 삼성전자의 ‘갤럭시 Z 플립(Galaxy Z Flip)...</td>\n",
       "      <td>2020-05-08 00:31</td>\n",
       "    </tr>\n",
       "    <tr>\n",
       "      <td>4</td>\n",
       "      <td>삼성준법위 이재용 사과 의미있게 평가… 노동3권 보장 등 실행방안 마련해 달라</td>\n",
       "      <td>/news/news_read.nhn?article_id=0003284922&amp;offi...</td>\n",
       "      <td>동아일보</td>\n",
       "      <td>삼성 준법감시위원회가 이재용 삼성전자 부회장의 대국민 사과에 대해 “의미 있다”고 ...</td>\n",
       "      <td>2020-05-08 03:03</td>\n",
       "    </tr>\n",
       "  </tbody>\n",
       "</table>\n",
       "</div>"
      ],
      "text/plain": [
       "                                         title  \\\n",
       "0                 반포3주구 홍보전 과열 양상…허울뿐인 '클린수주'?   \n",
       "1            삼성 준법감시위, 이재용 사과 관련 구체적 실천방안 마련해야   \n",
       "2      삼성 준법위 \"이재용 사과 의미있게 평가…구체적인 실천방안 뒷받침돼야\"   \n",
       "3            갤럭시 Z 플립 원하는대로 접히는 '하이드어웨이 힌지' 기술   \n",
       "4  삼성준법위 이재용 사과 의미있게 평가… 노동3권 보장 등 실행방안 마련해 달라   \n",
       "\n",
       "                                                 url press  \\\n",
       "0  /news/news_read.nhn?article_id=0000025040&offi...   더팩트   \n",
       "1  /news/news_read.nhn?article_id=0002998933&offi...  중앙일보   \n",
       "2  /news/news_read.nhn?article_id=0003463155&offi...  세계일보   \n",
       "3  /news/news_read.nhn?article_id=0009851418&offi...   뉴시스   \n",
       "4  /news/news_read.nhn?article_id=0003284922&offi...  동아일보   \n",
       "\n",
       "                                             summary              date  \n",
       "0  지난 6일 삼성 준법감시위원회의 권고에 따라 이재용 삼성전자 부회장은 경영권 승계 ...  2020-05-08 00:00  \n",
       "1  삼성 준법감시위원회가 7일 이재용(52) 삼성전자 부회장의 대국민 사과와 관련해 “...  2020-05-08 00:04  \n",
       "2  삼성 관계사에도 개선방안 마련 주문 이재용 삼성전자 부회장이 지난 6일 서울 서초동...  2020-05-08 00:13  \n",
       "3  모바일 기술의 한계를 넘어선 삼성전자의 ‘갤럭시 Z 플립(Galaxy Z Flip)...  2020-05-08 00:31  \n",
       "4  삼성 준법감시위원회가 이재용 삼성전자 부회장의 대국민 사과에 대해 “의미 있다”고 ...  2020-05-08 03:03  "
      ]
     },
     "execution_count": 11,
     "metadata": {},
     "output_type": "execute_result"
    }
   ],
   "source": [
    "seed_df.head()"
   ]
  },
  {
   "cell_type": "code",
   "execution_count": 12,
   "metadata": {},
   "outputs": [
    {
     "data": {
      "text/html": [
       "<div>\n",
       "<style scoped>\n",
       "    .dataframe tbody tr th:only-of-type {\n",
       "        vertical-align: middle;\n",
       "    }\n",
       "\n",
       "    .dataframe tbody tr th {\n",
       "        vertical-align: top;\n",
       "    }\n",
       "\n",
       "    .dataframe thead th {\n",
       "        text-align: right;\n",
       "    }\n",
       "</style>\n",
       "<table border=\"1\" class=\"dataframe\">\n",
       "  <thead>\n",
       "    <tr style=\"text-align: right;\">\n",
       "      <th></th>\n",
       "      <th>head</th>\n",
       "      <th>text</th>\n",
       "      <th>url</th>\n",
       "    </tr>\n",
       "  </thead>\n",
       "  <tbody>\n",
       "    <tr>\n",
       "      <td>0</td>\n",
       "      <td>삼성물산 vs 대우건설 경쟁 과열…네가티브 공세불법 홍보 버젓이 이뤄져</td>\n",
       "      <td>[더팩트｜윤정원 기자] 삼성물산과 대우건설이 접전을 펼치고 있는 서울 서초구 반포주...</td>\n",
       "      <td>/news/news_read.nhn?article_id=0000025040&amp;offi...</td>\n",
       "    </tr>\n",
       "    <tr>\n",
       "      <td>1</td>\n",
       "      <td>준법 의지 표명은 의미있게 평가노동3권 실효성 있는 보장 등 필요삼성에 상세 개선방...</td>\n",
       "      <td>삼성 준법감시위원회가 7일 이재용(52) 삼성전자 부회장의 대국민 사과와 관련해 “...</td>\n",
       "      <td>/news/news_read.nhn?article_id=0002998933&amp;offi...</td>\n",
       "    </tr>\n",
       "    <tr>\n",
       "      <td>2</td>\n",
       "      <td>NaN</td>\n",
       "      <td>이재용 삼성전자 부회장이 지난 6일 서울 서초동 사옥에서 경영권 승계와 노동조합 문...</td>\n",
       "      <td>/news/news_read.nhn?article_id=0003463155&amp;offi...</td>\n",
       "    </tr>\n",
       "    <tr>\n",
       "      <td>3</td>\n",
       "      <td>능선(ridge) 형태의 듀얼 CAM 메커니즘이 핵심 기술단계별 각도조절 가능한 폴...</td>\n",
       "      <td>[서울=뉴시스] 김종민 기자 = 모바일 기술의 한계를 넘어선 삼성전자의 ‘갤럭시 Z...</td>\n",
       "      <td>/news/news_read.nhn?article_id=0009851418&amp;offi...</td>\n",
       "    </tr>\n",
       "    <tr>\n",
       "      <td>4</td>\n",
       "      <td>NaN</td>\n",
       "      <td>삼성 준법감시위원회가 이재용 삼성전자 부회장의 대국민 사과에 대해 “의미 있다”고 ...</td>\n",
       "      <td>/news/news_read.nhn?article_id=0003284922&amp;offi...</td>\n",
       "    </tr>\n",
       "  </tbody>\n",
       "</table>\n",
       "</div>"
      ],
      "text/plain": [
       "                                                head  \\\n",
       "0            삼성물산 vs 대우건설 경쟁 과열…네가티브 공세불법 홍보 버젓이 이뤄져   \n",
       "1  준법 의지 표명은 의미있게 평가노동3권 실효성 있는 보장 등 필요삼성에 상세 개선방...   \n",
       "2                                                NaN   \n",
       "3  능선(ridge) 형태의 듀얼 CAM 메커니즘이 핵심 기술단계별 각도조절 가능한 폴...   \n",
       "4                                                NaN   \n",
       "\n",
       "                                                text  \\\n",
       "0  [더팩트｜윤정원 기자] 삼성물산과 대우건설이 접전을 펼치고 있는 서울 서초구 반포주...   \n",
       "1  삼성 준법감시위원회가 7일 이재용(52) 삼성전자 부회장의 대국민 사과와 관련해 “...   \n",
       "2  이재용 삼성전자 부회장이 지난 6일 서울 서초동 사옥에서 경영권 승계와 노동조합 문...   \n",
       "3  [서울=뉴시스] 김종민 기자 = 모바일 기술의 한계를 넘어선 삼성전자의 ‘갤럭시 Z...   \n",
       "4  삼성 준법감시위원회가 이재용 삼성전자 부회장의 대국민 사과에 대해 “의미 있다”고 ...   \n",
       "\n",
       "                                                 url  \n",
       "0  /news/news_read.nhn?article_id=0000025040&offi...  \n",
       "1  /news/news_read.nhn?article_id=0002998933&offi...  \n",
       "2  /news/news_read.nhn?article_id=0003463155&offi...  \n",
       "3  /news/news_read.nhn?article_id=0009851418&offi...  \n",
       "4  /news/news_read.nhn?article_id=0003284922&offi...  "
      ]
     },
     "execution_count": 12,
     "metadata": {},
     "output_type": "execute_result"
    }
   ],
   "source": [
    "article_df.head()"
   ]
  },
  {
   "cell_type": "code",
   "execution_count": 13,
   "metadata": {},
   "outputs": [],
   "source": [
    "text_df = pd.merge(seed_df,article_df, how = 'left', on = ['url'])"
   ]
  },
  {
   "cell_type": "code",
   "execution_count": 14,
   "metadata": {},
   "outputs": [
    {
     "data": {
      "text/html": [
       "<div>\n",
       "<style scoped>\n",
       "    .dataframe tbody tr th:only-of-type {\n",
       "        vertical-align: middle;\n",
       "    }\n",
       "\n",
       "    .dataframe tbody tr th {\n",
       "        vertical-align: top;\n",
       "    }\n",
       "\n",
       "    .dataframe thead th {\n",
       "        text-align: right;\n",
       "    }\n",
       "</style>\n",
       "<table border=\"1\" class=\"dataframe\">\n",
       "  <thead>\n",
       "    <tr style=\"text-align: right;\">\n",
       "      <th></th>\n",
       "      <th>title</th>\n",
       "      <th>url</th>\n",
       "      <th>press</th>\n",
       "      <th>summary</th>\n",
       "      <th>date</th>\n",
       "      <th>head</th>\n",
       "      <th>text</th>\n",
       "    </tr>\n",
       "  </thead>\n",
       "  <tbody>\n",
       "    <tr>\n",
       "      <td>0</td>\n",
       "      <td>반포3주구 홍보전 과열 양상…허울뿐인 '클린수주'?</td>\n",
       "      <td>/news/news_read.nhn?article_id=0000025040&amp;offi...</td>\n",
       "      <td>더팩트</td>\n",
       "      <td>지난 6일 삼성 준법감시위원회의 권고에 따라 이재용 삼성전자 부회장은 경영권 승계 ...</td>\n",
       "      <td>2020-05-08 00:00</td>\n",
       "      <td>삼성물산 vs 대우건설 경쟁 과열…네가티브 공세불법 홍보 버젓이 이뤄져</td>\n",
       "      <td>[더팩트｜윤정원 기자] 삼성물산과 대우건설이 접전을 펼치고 있는 서울 서초구 반포주...</td>\n",
       "    </tr>\n",
       "    <tr>\n",
       "      <td>1</td>\n",
       "      <td>삼성 준법감시위, 이재용 사과 관련 구체적 실천방안 마련해야</td>\n",
       "      <td>/news/news_read.nhn?article_id=0002998933&amp;offi...</td>\n",
       "      <td>중앙일보</td>\n",
       "      <td>삼성 준법감시위원회가 7일 이재용(52) 삼성전자 부회장의 대국민 사과와 관련해 “...</td>\n",
       "      <td>2020-05-08 00:04</td>\n",
       "      <td>준법 의지 표명은 의미있게 평가노동3권 실효성 있는 보장 등 필요삼성에 상세 개선방...</td>\n",
       "      <td>삼성 준법감시위원회가 7일 이재용(52) 삼성전자 부회장의 대국민 사과와 관련해 “...</td>\n",
       "    </tr>\n",
       "    <tr>\n",
       "      <td>2</td>\n",
       "      <td>삼성 준법위 \"이재용 사과 의미있게 평가…구체적인 실천방안 뒷받침돼야\"</td>\n",
       "      <td>/news/news_read.nhn?article_id=0003463155&amp;offi...</td>\n",
       "      <td>세계일보</td>\n",
       "      <td>삼성 관계사에도 개선방안 마련 주문 이재용 삼성전자 부회장이 지난 6일 서울 서초동...</td>\n",
       "      <td>2020-05-08 00:13</td>\n",
       "      <td>NaN</td>\n",
       "      <td>이재용 삼성전자 부회장이 지난 6일 서울 서초동 사옥에서 경영권 승계와 노동조합 문...</td>\n",
       "    </tr>\n",
       "    <tr>\n",
       "      <td>3</td>\n",
       "      <td>갤럭시 Z 플립 원하는대로 접히는 '하이드어웨이 힌지' 기술</td>\n",
       "      <td>/news/news_read.nhn?article_id=0009851418&amp;offi...</td>\n",
       "      <td>뉴시스</td>\n",
       "      <td>모바일 기술의 한계를 넘어선 삼성전자의 ‘갤럭시 Z 플립(Galaxy Z Flip)...</td>\n",
       "      <td>2020-05-08 00:31</td>\n",
       "      <td>능선(ridge) 형태의 듀얼 CAM 메커니즘이 핵심 기술단계별 각도조절 가능한 폴...</td>\n",
       "      <td>[서울=뉴시스] 김종민 기자 = 모바일 기술의 한계를 넘어선 삼성전자의 ‘갤럭시 Z...</td>\n",
       "    </tr>\n",
       "    <tr>\n",
       "      <td>4</td>\n",
       "      <td>삼성준법위 이재용 사과 의미있게 평가… 노동3권 보장 등 실행방안 마련해 달라</td>\n",
       "      <td>/news/news_read.nhn?article_id=0003284922&amp;offi...</td>\n",
       "      <td>동아일보</td>\n",
       "      <td>삼성 준법감시위원회가 이재용 삼성전자 부회장의 대국민 사과에 대해 “의미 있다”고 ...</td>\n",
       "      <td>2020-05-08 03:03</td>\n",
       "      <td>NaN</td>\n",
       "      <td>삼성 준법감시위원회가 이재용 삼성전자 부회장의 대국민 사과에 대해 “의미 있다”고 ...</td>\n",
       "    </tr>\n",
       "    <tr>\n",
       "      <td>...</td>\n",
       "      <td>...</td>\n",
       "      <td>...</td>\n",
       "      <td>...</td>\n",
       "      <td>...</td>\n",
       "      <td>...</td>\n",
       "      <td>...</td>\n",
       "      <td>...</td>\n",
       "    </tr>\n",
       "    <tr>\n",
       "      <td>7416</td>\n",
       "      <td>신규채용 ‘비대면’ 안간힘…‘취업 가뭄’에는 역부족</td>\n",
       "      <td>/news/news_read.nhn?article_id=0010835346&amp;offi...</td>\n",
       "      <td>KBS</td>\n",
       "      <td>\"] 삼성전자는, '삼성고시'로 불리던 대규모 필기 시험을 이달 말 온라인으로 치르...</td>\n",
       "      <td>2020-05-14 21:22</td>\n",
       "      <td>NaN</td>\n",
       "      <td>[앵커]이렇게 정부가 공공분야 일자리를 만들겠다고 하는 건 민간 분야의 채용이 위축...</td>\n",
       "    </tr>\n",
       "    <tr>\n",
       "      <td>7417</td>\n",
       "      <td>트럼프 \"코로나19, 세계화 시대 끝장났다는 신호\"</td>\n",
       "      <td>/news/news_read.nhn?article_id=0004638844&amp;offi...</td>\n",
       "      <td>뉴스1</td>\n",
       "      <td>그는 수일 전 삼성전자, 인텔, 대만의 반도체 제조업체인 TSMC 등 반도체 업체들...</td>\n",
       "      <td>2020-05-14 21:49</td>\n",
       "      <td>NaN</td>\n",
       "      <td>(서울=뉴스1) 김정한 기자 = 도널드 트럼프 미국 대통령이 코로나19의 발병과 팬...</td>\n",
       "    </tr>\n",
       "    <tr>\n",
       "      <td>7418</td>\n",
       "      <td>[실리콘밸리는 지금] 그래픽카드 -&gt; 인공지능 -&gt; 데이터센터로 끊임없이 변신하는...</td>\n",
       "      <td>/news/news_read.nhn?article_id=0004575358&amp;offi...</td>\n",
       "      <td>매일경제</td>\n",
       "      <td>7나노 공정 반도체 생산을 할 수 있는 곳은 대만의 TSMC와 한국의 삼성전자 정도...</td>\n",
       "      <td>2020-05-14 22:02</td>\n",
       "      <td>\"엔비디아는 거대한 데이터센터 회사가 될 것\"다양한 기능 통합한 연산유닛으로 승부\"...</td>\n",
       "      <td>\"엔비디아의 비전은 거대한 데이터 센터 회사(Data Center Company a...</td>\n",
       "    </tr>\n",
       "    <tr>\n",
       "      <td>7419</td>\n",
       "      <td>[단독] '다닥다닥 일상'...불안에 떠는 삼성 건설현장 근로자</td>\n",
       "      <td>/news/news_read.nhn?article_id=0001440215&amp;offi...</td>\n",
       "      <td>YTN</td>\n",
       "      <td>하루에 2만여 명이 드나드는 경기 평택 고덕 삼성전자 반도체2기 증설 공사 현장에서...</td>\n",
       "      <td>2020-05-14 22:13</td>\n",
       "      <td>정부의 건설현장 대응 지침, 현장에서는 지켜지지 않아현장 직원 코로나19 확진…근로...</td>\n",
       "      <td>[앵커]하루에 2만여 명이 드나드는 경기 평택 고덕 삼성전자 반도체2기 증설 공사 ...</td>\n",
       "    </tr>\n",
       "    <tr>\n",
       "      <td>7420</td>\n",
       "      <td>이태원발 코로나 확산에 기업들 다시 '거리두기' 강화</td>\n",
       "      <td>/news/news_read.nhn?article_id=0001440229&amp;offi...</td>\n",
       "      <td>YTN</td>\n",
       "      <td>삼성전자 코로나19 대응 전담팀은 코로나19 관련 자진신고 기준을 확대한다고 임직원...</td>\n",
       "      <td>2020-05-14 22:43</td>\n",
       "      <td>NaN</td>\n",
       "      <td>서울 이태원 클럽 관련 코로나19 확진자가 수도권을 중심으로 확산하자 기업들이 다시...</td>\n",
       "    </tr>\n",
       "  </tbody>\n",
       "</table>\n",
       "<p>7421 rows × 7 columns</p>\n",
       "</div>"
      ],
      "text/plain": [
       "                                                 title  \\\n",
       "0                         반포3주구 홍보전 과열 양상…허울뿐인 '클린수주'?   \n",
       "1                    삼성 준법감시위, 이재용 사과 관련 구체적 실천방안 마련해야   \n",
       "2              삼성 준법위 \"이재용 사과 의미있게 평가…구체적인 실천방안 뒷받침돼야\"   \n",
       "3                    갤럭시 Z 플립 원하는대로 접히는 '하이드어웨이 힌지' 기술   \n",
       "4          삼성준법위 이재용 사과 의미있게 평가… 노동3권 보장 등 실행방안 마련해 달라   \n",
       "...                                                ...   \n",
       "7416                      신규채용 ‘비대면’ 안간힘…‘취업 가뭄’에는 역부족   \n",
       "7417                      트럼프 \"코로나19, 세계화 시대 끝장났다는 신호\"   \n",
       "7418  [실리콘밸리는 지금] 그래픽카드 -> 인공지능 -> 데이터센터로 끊임없이 변신하는...   \n",
       "7419               [단독] '다닥다닥 일상'...불안에 떠는 삼성 건설현장 근로자   \n",
       "7420                     이태원발 코로나 확산에 기업들 다시 '거리두기' 강화   \n",
       "\n",
       "                                                    url press  \\\n",
       "0     /news/news_read.nhn?article_id=0000025040&offi...   더팩트   \n",
       "1     /news/news_read.nhn?article_id=0002998933&offi...  중앙일보   \n",
       "2     /news/news_read.nhn?article_id=0003463155&offi...  세계일보   \n",
       "3     /news/news_read.nhn?article_id=0009851418&offi...   뉴시스   \n",
       "4     /news/news_read.nhn?article_id=0003284922&offi...  동아일보   \n",
       "...                                                 ...   ...   \n",
       "7416  /news/news_read.nhn?article_id=0010835346&offi...   KBS   \n",
       "7417  /news/news_read.nhn?article_id=0004638844&offi...   뉴스1   \n",
       "7418  /news/news_read.nhn?article_id=0004575358&offi...  매일경제   \n",
       "7419  /news/news_read.nhn?article_id=0001440215&offi...   YTN   \n",
       "7420  /news/news_read.nhn?article_id=0001440229&offi...   YTN   \n",
       "\n",
       "                                                summary              date  \\\n",
       "0     지난 6일 삼성 준법감시위원회의 권고에 따라 이재용 삼성전자 부회장은 경영권 승계 ...  2020-05-08 00:00   \n",
       "1     삼성 준법감시위원회가 7일 이재용(52) 삼성전자 부회장의 대국민 사과와 관련해 “...  2020-05-08 00:04   \n",
       "2     삼성 관계사에도 개선방안 마련 주문 이재용 삼성전자 부회장이 지난 6일 서울 서초동...  2020-05-08 00:13   \n",
       "3     모바일 기술의 한계를 넘어선 삼성전자의 ‘갤럭시 Z 플립(Galaxy Z Flip)...  2020-05-08 00:31   \n",
       "4     삼성 준법감시위원회가 이재용 삼성전자 부회장의 대국민 사과에 대해 “의미 있다”고 ...  2020-05-08 03:03   \n",
       "...                                                 ...               ...   \n",
       "7416  \"] 삼성전자는, '삼성고시'로 불리던 대규모 필기 시험을 이달 말 온라인으로 치르...  2020-05-14 21:22   \n",
       "7417  그는 수일 전 삼성전자, 인텔, 대만의 반도체 제조업체인 TSMC 등 반도체 업체들...  2020-05-14 21:49   \n",
       "7418  7나노 공정 반도체 생산을 할 수 있는 곳은 대만의 TSMC와 한국의 삼성전자 정도...  2020-05-14 22:02   \n",
       "7419  하루에 2만여 명이 드나드는 경기 평택 고덕 삼성전자 반도체2기 증설 공사 현장에서...  2020-05-14 22:13   \n",
       "7420  삼성전자 코로나19 대응 전담팀은 코로나19 관련 자진신고 기준을 확대한다고 임직원...  2020-05-14 22:43   \n",
       "\n",
       "                                                   head  \\\n",
       "0               삼성물산 vs 대우건설 경쟁 과열…네가티브 공세불법 홍보 버젓이 이뤄져   \n",
       "1     준법 의지 표명은 의미있게 평가노동3권 실효성 있는 보장 등 필요삼성에 상세 개선방...   \n",
       "2                                                   NaN   \n",
       "3     능선(ridge) 형태의 듀얼 CAM 메커니즘이 핵심 기술단계별 각도조절 가능한 폴...   \n",
       "4                                                   NaN   \n",
       "...                                                 ...   \n",
       "7416                                                NaN   \n",
       "7417                                                NaN   \n",
       "7418  \"엔비디아는 거대한 데이터센터 회사가 될 것\"다양한 기능 통합한 연산유닛으로 승부\"...   \n",
       "7419  정부의 건설현장 대응 지침, 현장에서는 지켜지지 않아현장 직원 코로나19 확진…근로...   \n",
       "7420                                                NaN   \n",
       "\n",
       "                                                   text  \n",
       "0     [더팩트｜윤정원 기자] 삼성물산과 대우건설이 접전을 펼치고 있는 서울 서초구 반포주...  \n",
       "1     삼성 준법감시위원회가 7일 이재용(52) 삼성전자 부회장의 대국민 사과와 관련해 “...  \n",
       "2     이재용 삼성전자 부회장이 지난 6일 서울 서초동 사옥에서 경영권 승계와 노동조합 문...  \n",
       "3     [서울=뉴시스] 김종민 기자 = 모바일 기술의 한계를 넘어선 삼성전자의 ‘갤럭시 Z...  \n",
       "4     삼성 준법감시위원회가 이재용 삼성전자 부회장의 대국민 사과에 대해 “의미 있다”고 ...  \n",
       "...                                                 ...  \n",
       "7416  [앵커]이렇게 정부가 공공분야 일자리를 만들겠다고 하는 건 민간 분야의 채용이 위축...  \n",
       "7417  (서울=뉴스1) 김정한 기자 = 도널드 트럼프 미국 대통령이 코로나19의 발병과 팬...  \n",
       "7418  \"엔비디아의 비전은 거대한 데이터 센터 회사(Data Center Company a...  \n",
       "7419  [앵커]하루에 2만여 명이 드나드는 경기 평택 고덕 삼성전자 반도체2기 증설 공사 ...  \n",
       "7420  서울 이태원 클럽 관련 코로나19 확진자가 수도권을 중심으로 확산하자 기업들이 다시...  \n",
       "\n",
       "[7421 rows x 7 columns]"
      ]
     },
     "execution_count": 14,
     "metadata": {},
     "output_type": "execute_result"
    }
   ],
   "source": [
    "text_df"
   ]
  },
  {
   "cell_type": "code",
   "execution_count": 15,
   "metadata": {},
   "outputs": [],
   "source": [
    "text_df['total'] = text_df['title'].str.cat(text_df['summary'], sep='. ', na_rep='')\n",
    "text_df['total'] = text_df['total'].str.cat(text_df['head'], sep='. ', na_rep='')\n",
    "text_df['total'] = text_df['total'].str.cat(text_df['text'], sep='. ', na_rep='')"
   ]
  },
  {
   "cell_type": "code",
   "execution_count": 16,
   "metadata": {},
   "outputs": [
    {
     "data": {
      "text/plain": [
       "'삼성 준법감시위, 이재용 사과 관련 구체적 실천방안 마련해야. 삼성 준법감시위원회가 7일 이재용(52) 삼성전자 부회장의 대국민 사과와 관련해 “의미있게 평가하지만 구체적인 실천방안을 마련해야 한다”고 밝혔.... 준법 의지 표명은 의미있게 평가노동3권 실효성 있는 보장 등 필요삼성에 상세 개선방안 마련 요청. 삼성 준법감시위원회가 7일 이재용(52) 삼성전자 부회장의 대국민 사과와 관련해 “의미있게 평가하지만 구체적인 실천방안을 마련해야 한다”고 밝혔다. 준법감시위는 이날 정기회의를 열고 이 부회장의 대국민 사과와 관련해 위원회의 입장을 논의했다.\\n\\n\\n준법감시위는 이날 “이 부회장의 답변 발표가 직접 이뤄지고 준법의 가치를 실현하겠다는 의지를 표명한 점에 대해서는 의미있게 평가한다”고 했다. 다만 “구체적인 실행방안 즉 준법 의무 위반이 발생하지 않을 지속 가능한 경영 체계의 수립, 노동 3권의 실효성 있는 보장, 시민사회의 실질적 신뢰 회복을 위한 실천방안 등이 뒷받침돼야 한다고 의견을 모았다”고 밝혔다. 준법감시위는 이와 관련 “삼성전자를 비롯한 계열사에 조만간 보다 자세한 개선방안을 마련해 줄 것을 요청했다”고 덧붙였다.\\n\\n\\n준법감시위의 박준영 커뮤니케이션팀장은 “이 부회장의 마음은 충분히 읽었지만, 아직도 비판이 계속되고 있지 않느냐”며 “위원회의 입장은 ‘선언적 의미’로는 부족하다는 취지이며, 삼성전자를 비롯한 각 계열사 준법지원인에게도 이같은 뜻을 전달했다”고 설명했다.\\n\\n\\n이 부회장은 하루 전인 6일 준법감시위가 꼽은 경영권 승계, 노조 문제, 시민단체 소통 등 3가지 사안에 대해 사과하고 재발 방지를 약속했다. 그는 “경영권 승계로 더 이상 논란이 생기지 않도록 하겠다”며 “제 아이들에게 회사 경영권을 물려주지 않을 생각”이라고 밝혔다.\\n\\n\\n준법위의 입장을 전달받은 삼성 7개 계열사의 준법경영팀장들은 조만간 이 부회장의 대국민 사과 내용에 기반한 ‘액션 플랜(실행 계획)’을 제출할 것으로 보인다.\\n\\n\\n김영민 기자 bradkim@joongang.co.kr\\n▶ ▶\\n/ ⓒ중앙일보(https://joongang.co.kr), 무단 전재 및 재배포 금지'"
      ]
     },
     "execution_count": 16,
     "metadata": {},
     "output_type": "execute_result"
    }
   ],
   "source": [
    "text_df.iloc[1]['total']"
   ]
  },
  {
   "cell_type": "code",
   "execution_count": 17,
   "metadata": {},
   "outputs": [],
   "source": [
    "def word_count(s):\n",
    "    a = s.split(' ')\n",
    "    return len(a)"
   ]
  },
  {
   "cell_type": "code",
   "execution_count": 18,
   "metadata": {},
   "outputs": [],
   "source": [
    "def add_end_tag(s):\n",
    "    a = s + '<end_tag>'\n",
    "    return a"
   ]
  },
  {
   "cell_type": "code",
   "execution_count": 19,
   "metadata": {},
   "outputs": [],
   "source": [
    "text_df['text_len'] = text_df['total'].map(word_count)"
   ]
  },
  {
   "cell_type": "code",
   "execution_count": 20,
   "metadata": {},
   "outputs": [
    {
     "data": {
      "image/png": "[encoded data removed]",
      "text/plain": [
       "<Figure size 432x288 with 1 Axes>"
      ]
     },
     "metadata": {
      "needs_background": "light"
     },
     "output_type": "display_data"
    }
   ],
   "source": [
    "text_df['text_len'].hist()\n",
    "plt.show()"
   ]
  },
  {
   "cell_type": "code",
   "execution_count": 21,
   "metadata": {},
   "outputs": [],
   "source": [
    "def email_filter(text):\n",
    "#     re_pattern = r\"(^[a-zA-Z0-9_.+-]+@[a-zA-Z0-9-]+\\.[a-zA-Z0-9-.]+$)\"\n",
    "    re_pattern = r\"\\S+@\\S+\"\n",
    "    \n",
    "    new_text = re.sub(re_pattern, 'email', text)\n",
    "    return new_text\n",
    "def url_filter(text):\n",
    "    re_pattern = r\"https?://(?:[-\\w.]|(?:%[\\da-fA-F]{2}))+\"\n",
    "    new_text = re.sub(re_pattern, 'url', text)\n",
    "    return new_text"
   ]
  },
  {
   "cell_type": "code",
   "execution_count": 22,
   "metadata": {},
   "outputs": [],
   "source": [
    "def text_clean(text):\n",
    "    text = text.replace('\\n', ' ')\n",
    "    text = text.replace('▶', '')\n",
    "    text = text.replace('\\'', '\"')\n",
    "    text = text.split('ⓒ')[0]\n",
    "    \n",
    "    text = email_filter(text)\n",
    "    text = url_filter(text)\n",
    "    return text"
   ]
  },
  {
   "cell_type": "code",
   "execution_count": 23,
   "metadata": {},
   "outputs": [],
   "source": [
    "text_df['total_clean'] = text_df['total'].map(lambda x : text_clean(x))"
   ]
  },
  {
   "cell_type": "code",
   "execution_count": 24,
   "metadata": {},
   "outputs": [],
   "source": [
    "# text_df['total_clean_2'] = text_df['total_clean'].map(add_end_tag)"
   ]
  },
  {
   "cell_type": "code",
   "execution_count": 25,
   "metadata": {},
   "outputs": [
    {
     "data": {
      "text/plain": [
       "'삼성 준법위 李 부회장 변화 의지 긍정적… 구체적 로드맵 필요. 삼성 준법감시위원회(준법위)가 이재용 삼성전자 부회장이 ‘세습 경영 및 무노조 경영 종식’을 밝힌 이른바 ‘5·6 선언’을 긍정적으로 평가했다..... 대법, 기존 재판부가 파기환송심 계속 맡을지에 대한 심리 착수. 삼성 준법감시위원회(준법위)가 이재용 삼성전자 부회장이 ‘세습 경영 및 무노조 경영 종식’을 밝힌 이른바 ‘5·6 선언’을 긍정적으로 평가했다. 다만 선언 실천을 위한 구체적인 로드맵이 필요하다고 권고했다.준법위는 7일 5차 정기회의를 열고 지난 6일 이 부회장의 대국민 사과와 5·6 선언에 대한 의견을 모았다. 오후 2시에 시작된 회의는 위원들 간 의견 조율 과정이 길어지면서 3시간 넘게 이어졌다.준법위는 입장문을 통해 “위원회 권고에 따라 이 부회장의 답변 발표가 직접적으로 이루어지고 준법의 가치를 실현하겠다는 의지를 표명한 점에 대해 의미 있게 평가한다”고 밝혔다. 또 보완해야 할 부분으로 ‘구체성’을 지적했다. 준법위는 “준법 의무 위반이 발생하지 않을 지속 가능한 경영 체계 수립, 노동 3권의 실효성 있는 보장, 시민사회의 실질적 신뢰 회복을 위한 실천 방안 등이 뒷받침돼야 한다고 의견을 모았다”며 “조만간 보다 자세한 개선 방안을 마련해줄 것을 관계사에 요청했다”고 밝혔다.이에 준법위가 준법감시 활동을 진행 중인 삼성전자, 삼성물산, 삼성SDI 등 삼성의 7개 주요 계열사가 어떻게 변화의 모습을 보일지 주목된다.이 부회장은 지난 6일 세습 경영 중단, 무노조 경영 폐지, 준법위 존속 등의 내용을 담은 입장문을 직접 발표했다. 이는 지난 3월 준법위가 권고한 내용을 모두 반영한 것으로 이 부회장은 권고문 답변 기한을 한 차례 연장한 바 있다. 늦어진 기한만큼 이 부회장의 ‘반성문’은 파격을 담은 것으로 평가됐다. 국내 대기업의 적폐로 지적돼온 ‘가족 경영’의 고리를 끊겠다고 공개적으로 발표했기 때문이다.준법위는 지난 2월 5일 삼성 계열사들의 준법 감시·통제 기능을 강화해 사회적 신뢰를 제고하기 위해 출범했다. 이 부회장은 지난 6일 자신과 관련한 재판이 끝나도 준법위는 남아 있을 것이라며 준법 의지를 내비쳤다.한편 대법원은 이 부회장의 파기환송심을 기존 재판부가 계속 맡을 것인지에 대한 심리에 착수했다. 다만 결정이 나기까지는 상당한 시일이 소요될 것으로 예상된다.권민지 기자 email paper '"
      ]
     },
     "execution_count": 25,
     "metadata": {},
     "output_type": "execute_result"
    }
   ],
   "source": [
    "text_df['total_clean'].iloc[10]"
   ]
  },
  {
   "cell_type": "code",
   "execution_count": 26,
   "metadata": {},
   "outputs": [],
   "source": [
    "tt = pd.read_csv('/notebook/stock/texts_and_fin2.csv')"
   ]
  },
  {
   "cell_type": "code",
   "execution_count": 27,
   "metadata": {},
   "outputs": [
    {
     "data": {
      "text/html": [
       "<div>\n",
       "<style scoped>\n",
       "    .dataframe tbody tr th:only-of-type {\n",
       "        vertical-align: middle;\n",
       "    }\n",
       "\n",
       "    .dataframe tbody tr th {\n",
       "        vertical-align: top;\n",
       "    }\n",
       "\n",
       "    .dataframe thead th {\n",
       "        text-align: right;\n",
       "    }\n",
       "</style>\n",
       "<table border=\"1\" class=\"dataframe\">\n",
       "  <thead>\n",
       "    <tr style=\"text-align: right;\">\n",
       "      <th></th>\n",
       "      <th>Unnamed: 0</th>\n",
       "      <th>ticker</th>\n",
       "      <th>signal</th>\n",
       "      <th>release_date</th>\n",
       "      <th>filtered_text3</th>\n",
       "    </tr>\n",
       "  </thead>\n",
       "  <tbody>\n",
       "    <tr>\n",
       "      <td>21</td>\n",
       "      <td>28</td>\n",
       "      <td>MMM</td>\n",
       "      <td>stay</td>\n",
       "      <td>2015-11-10 16:27:58</td>\n",
       "      <td>November 10, 2015, the Board of Directors of 3...</td>\n",
       "    </tr>\n",
       "    <tr>\n",
       "      <td>20</td>\n",
       "      <td>27</td>\n",
       "      <td>MMM</td>\n",
       "      <td>down</td>\n",
       "      <td>2015-12-15 07:48:12</td>\n",
       "      <td>December 15, 2015, 3M Company issued a press r...</td>\n",
       "    </tr>\n",
       "    <tr>\n",
       "      <td>19</td>\n",
       "      <td>26</td>\n",
       "      <td>MMM</td>\n",
       "      <td>up</td>\n",
       "      <td>2016-01-26 07:45:17</td>\n",
       "      <td>January 26, 2016, 3M Company issued a press re...</td>\n",
       "    </tr>\n",
       "    <tr>\n",
       "      <td>18</td>\n",
       "      <td>25</td>\n",
       "      <td>MMM</td>\n",
       "      <td>up</td>\n",
       "      <td>2016-02-02 10:23:47</td>\n",
       "      <td>February 1, 2016, the Board of Directors of 3M...</td>\n",
       "    </tr>\n",
       "    <tr>\n",
       "      <td>17</td>\n",
       "      <td>24</td>\n",
       "      <td>MMM</td>\n",
       "      <td>up</td>\n",
       "      <td>2016-02-03 14:11:14</td>\n",
       "      <td>February 2, 2016, 3M Company (the “Company”) a...</td>\n",
       "    </tr>\n",
       "  </tbody>\n",
       "</table>\n",
       "</div>"
      ],
      "text/plain": [
       "    Unnamed: 0 ticker signal         release_date  \\\n",
       "21          28    MMM   stay  2015-11-10 16:27:58   \n",
       "20          27    MMM   down  2015-12-15 07:48:12   \n",
       "19          26    MMM     up  2016-01-26 07:45:17   \n",
       "18          25    MMM     up  2016-02-02 10:23:47   \n",
       "17          24    MMM     up  2016-02-03 14:11:14   \n",
       "\n",
       "                                       filtered_text3  \n",
       "21  November 10, 2015, the Board of Directors of 3...  \n",
       "20  December 15, 2015, 3M Company issued a press r...  \n",
       "19  January 26, 2016, 3M Company issued a press re...  \n",
       "18  February 1, 2016, the Board of Directors of 3M...  \n",
       "17  February 2, 2016, 3M Company (the “Company”) a...  "
      ]
     },
     "execution_count": 27,
     "metadata": {},
     "output_type": "execute_result"
    }
   ],
   "source": [
    "tt[tt['ticker']=='MMM'].sort_values(by ='release_date').head()"
   ]
  },
  {
   "cell_type": "code",
   "execution_count": 28,
   "metadata": {},
   "outputs": [
    {
     "data": {
      "text/html": [
       "<div>\n",
       "<style scoped>\n",
       "    .dataframe tbody tr th:only-of-type {\n",
       "        vertical-align: middle;\n",
       "    }\n",
       "\n",
       "    .dataframe tbody tr th {\n",
       "        vertical-align: top;\n",
       "    }\n",
       "\n",
       "    .dataframe thead th {\n",
       "        text-align: right;\n",
       "    }\n",
       "</style>\n",
       "<table border=\"1\" class=\"dataframe\">\n",
       "  <thead>\n",
       "    <tr style=\"text-align: right;\">\n",
       "      <th></th>\n",
       "      <th>일자</th>\n",
       "      <th>현재가</th>\n",
       "      <th>시가</th>\n",
       "      <th>고가</th>\n",
       "      <th>저가</th>\n",
       "      <th>거래량</th>\n",
       "      <th>거래대금</th>\n",
       "    </tr>\n",
       "  </thead>\n",
       "  <tbody>\n",
       "    <tr>\n",
       "      <td>0</td>\n",
       "      <td>2020-06-02</td>\n",
       "      <td>51400</td>\n",
       "      <td>51000</td>\n",
       "      <td>51500</td>\n",
       "      <td>50800</td>\n",
       "      <td>14247933</td>\n",
       "      <td>730124</td>\n",
       "    </tr>\n",
       "    <tr>\n",
       "      <td>1</td>\n",
       "      <td>2020-06-01</td>\n",
       "      <td>51200</td>\n",
       "      <td>50800</td>\n",
       "      <td>51200</td>\n",
       "      <td>50600</td>\n",
       "      <td>16949183</td>\n",
       "      <td>864647</td>\n",
       "    </tr>\n",
       "    <tr>\n",
       "      <td>2</td>\n",
       "      <td>2020-05-29</td>\n",
       "      <td>50700</td>\n",
       "      <td>50000</td>\n",
       "      <td>50700</td>\n",
       "      <td>49700</td>\n",
       "      <td>27596961</td>\n",
       "      <td>1390446</td>\n",
       "    </tr>\n",
       "    <tr>\n",
       "      <td>3</td>\n",
       "      <td>2020-05-28</td>\n",
       "      <td>50400</td>\n",
       "      <td>51100</td>\n",
       "      <td>51200</td>\n",
       "      <td>49900</td>\n",
       "      <td>31309318</td>\n",
       "      <td>1585346</td>\n",
       "    </tr>\n",
       "    <tr>\n",
       "      <td>4</td>\n",
       "      <td>2020-05-27</td>\n",
       "      <td>49900</td>\n",
       "      <td>48950</td>\n",
       "      <td>50000</td>\n",
       "      <td>48800</td>\n",
       "      <td>19548479</td>\n",
       "      <td>969952</td>\n",
       "    </tr>\n",
       "  </tbody>\n",
       "</table>\n",
       "</div>"
      ],
      "text/plain": [
       "           일자    현재가     시가     고가     저가       거래량     거래대금\n",
       "0  2020-06-02  51400  51000  51500  50800  14247933   730124\n",
       "1  2020-06-01  51200  50800  51200  50600  16949183   864647\n",
       "2  2020-05-29  50700  50000  50700  49700  27596961  1390446\n",
       "3  2020-05-28  50400  51100  51200  49900  31309318  1585346\n",
       "4  2020-05-27  49900  48950  50000  48800  19548479   969952"
      ]
     },
     "execution_count": 28,
     "metadata": {},
     "output_type": "execute_result"
    }
   ],
   "source": [
    "price_df.head()"
   ]
  },
  {
   "cell_type": "code",
   "execution_count": 29,
   "metadata": {},
   "outputs": [
    {
     "data": {
      "text/plain": [
       "<matplotlib.axes._subplots.AxesSubplot at 0x7f811a995828>"
      ]
     },
     "execution_count": 29,
     "metadata": {},
     "output_type": "execute_result"
    },
    {
     "data": {
      "image/png": "[encoded data removed]",
      "text/plain": [
       "<Figure size 432x288 with 1 Axes>"
      ]
     },
     "metadata": {
      "needs_background": "light"
     },
     "output_type": "display_data"
    }
   ],
   "source": [
    "percent_df['현재가'].hist()"
   ]
  },
  {
   "cell_type": "code",
   "execution_count": 30,
   "metadata": {},
   "outputs": [],
   "source": [
    "percent_df['signal'] = percent_df['현재가'].map(lambda x: 'up' if (x>=0.01) else ('down' if x<=-0.01 else 'stay'))"
   ]
  },
  {
   "cell_type": "code",
   "execution_count": 31,
   "metadata": {},
   "outputs": [
    {
     "data": {
      "text/plain": [
       "stay    282\n",
       "up      158\n",
       "down    157\n",
       "Name: signal, dtype: int64"
      ]
     },
     "execution_count": 31,
     "metadata": {},
     "output_type": "execute_result"
    }
   ],
   "source": [
    "percent_df['signal'].value_counts()"
   ]
  },
  {
   "cell_type": "code",
   "execution_count": 32,
   "metadata": {},
   "outputs": [
    {
     "data": {
      "text/html": [
       "<div>\n",
       "<style scoped>\n",
       "    .dataframe tbody tr th:only-of-type {\n",
       "        vertical-align: middle;\n",
       "    }\n",
       "\n",
       "    .dataframe tbody tr th {\n",
       "        vertical-align: top;\n",
       "    }\n",
       "\n",
       "    .dataframe thead th {\n",
       "        text-align: right;\n",
       "    }\n",
       "</style>\n",
       "<table border=\"1\" class=\"dataframe\">\n",
       "  <thead>\n",
       "    <tr style=\"text-align: right;\">\n",
       "      <th></th>\n",
       "      <th>Unnamed: 0</th>\n",
       "      <th>일자</th>\n",
       "      <th>현재가</th>\n",
       "      <th>시가</th>\n",
       "      <th>고가</th>\n",
       "      <th>저가</th>\n",
       "      <th>거래량</th>\n",
       "      <th>거래대금</th>\n",
       "      <th>signal</th>\n",
       "    </tr>\n",
       "  </thead>\n",
       "  <tbody>\n",
       "    <tr>\n",
       "      <td>0</td>\n",
       "      <td>0</td>\n",
       "      <td>2017-12-19</td>\n",
       "      <td>NaN</td>\n",
       "      <td>NaN</td>\n",
       "      <td>NaN</td>\n",
       "      <td>NaN</td>\n",
       "      <td>NaN</td>\n",
       "      <td>NaN</td>\n",
       "      <td>stay</td>\n",
       "    </tr>\n",
       "    <tr>\n",
       "      <td>1</td>\n",
       "      <td>1</td>\n",
       "      <td>2017-12-20</td>\n",
       "      <td>-0.013365</td>\n",
       "      <td>-0.000777</td>\n",
       "      <td>-0.006182</td>\n",
       "      <td>-0.013774</td>\n",
       "      <td>-0.188288</td>\n",
       "      <td>-0.200704</td>\n",
       "      <td>down</td>\n",
       "    </tr>\n",
       "    <tr>\n",
       "      <td>2</td>\n",
       "      <td>2</td>\n",
       "      <td>2017-12-21</td>\n",
       "      <td>-0.035409</td>\n",
       "      <td>-0.009804</td>\n",
       "      <td>-0.013709</td>\n",
       "      <td>-0.035031</td>\n",
       "      <td>0.354816</td>\n",
       "      <td>0.336392</td>\n",
       "      <td>down</td>\n",
       "    </tr>\n",
       "    <tr>\n",
       "      <td>3</td>\n",
       "      <td>3</td>\n",
       "      <td>2017-12-22</td>\n",
       "      <td>0.011268</td>\n",
       "      <td>-0.032389</td>\n",
       "      <td>-0.022018</td>\n",
       "      <td>0.002843</td>\n",
       "      <td>-0.395070</td>\n",
       "      <td>-0.398404</td>\n",
       "      <td>up</td>\n",
       "    </tr>\n",
       "    <tr>\n",
       "      <td>4</td>\n",
       "      <td>4</td>\n",
       "      <td>2017-12-26</td>\n",
       "      <td>-0.031120</td>\n",
       "      <td>0.007235</td>\n",
       "      <td>0.002794</td>\n",
       "      <td>-0.021577</td>\n",
       "      <td>0.301761</td>\n",
       "      <td>0.294528</td>\n",
       "      <td>down</td>\n",
       "    </tr>\n",
       "  </tbody>\n",
       "</table>\n",
       "</div>"
      ],
      "text/plain": [
       "   Unnamed: 0          일자       현재가        시가        고가        저가       거래량  \\\n",
       "0           0  2017-12-19       NaN       NaN       NaN       NaN       NaN   \n",
       "1           1  2017-12-20 -0.013365 -0.000777 -0.006182 -0.013774 -0.188288   \n",
       "2           2  2017-12-21 -0.035409 -0.009804 -0.013709 -0.035031  0.354816   \n",
       "3           3  2017-12-22  0.011268 -0.032389 -0.022018  0.002843 -0.395070   \n",
       "4           4  2017-12-26 -0.031120  0.007235  0.002794 -0.021577  0.301761   \n",
       "\n",
       "       거래대금 signal  \n",
       "0       NaN   stay  \n",
       "1 -0.200704   down  \n",
       "2  0.336392   down  \n",
       "3 -0.398404     up  \n",
       "4  0.294528   down  "
      ]
     },
     "execution_count": 32,
     "metadata": {},
     "output_type": "execute_result"
    }
   ],
   "source": [
    "percent_df.head()"
   ]
  },
  {
   "cell_type": "code",
   "execution_count": 33,
   "metadata": {},
   "outputs": [],
   "source": [
    "def oversample(X,y):\n",
    "    # Get number of rows with imbalanced class\n",
    "    target = y.sum().idxmax()\n",
    "    n = y[target].sum()\n",
    "    # identify imbalanced targets\n",
    "    imbalanced = y.drop(target,axis=1)\n",
    "    #For each target, create a dataframe of randomly sampled rows, append to list\n",
    "    append_list =  [y.loc[y[col]==1].sample(n=n-y[col].sum(),replace=True,random_state=20) for col in imbalanced.columns]\n",
    "    append_list.append(y)\n",
    "    y = pd.concat(append_list,axis=0)\n",
    "    # match y indexes on other inputs\n",
    "    X = X.loc[y.index]\n",
    "    assert (y.index.all() == X.index.all())\n",
    "    return X, y"
   ]
  },
  {
   "cell_type": "code",
   "execution_count": 34,
   "metadata": {},
   "outputs": [],
   "source": [
    "text_df = text_df.rename(columns = {\"total_clean\": \"filtered_text\"})"
   ]
  },
  {
   "cell_type": "code",
   "execution_count": 35,
   "metadata": {},
   "outputs": [
    {
     "data": {
      "text/html": [
       "<div>\n",
       "<style scoped>\n",
       "    .dataframe tbody tr th:only-of-type {\n",
       "        vertical-align: middle;\n",
       "    }\n",
       "\n",
       "    .dataframe tbody tr th {\n",
       "        vertical-align: top;\n",
       "    }\n",
       "\n",
       "    .dataframe thead th {\n",
       "        text-align: right;\n",
       "    }\n",
       "</style>\n",
       "<table border=\"1\" class=\"dataframe\">\n",
       "  <thead>\n",
       "    <tr style=\"text-align: right;\">\n",
       "      <th></th>\n",
       "      <th>title</th>\n",
       "      <th>url</th>\n",
       "      <th>press</th>\n",
       "      <th>summary</th>\n",
       "      <th>date</th>\n",
       "      <th>head</th>\n",
       "      <th>text</th>\n",
       "      <th>total</th>\n",
       "      <th>text_len</th>\n",
       "      <th>filtered_text</th>\n",
       "    </tr>\n",
       "  </thead>\n",
       "  <tbody>\n",
       "    <tr>\n",
       "      <td>0</td>\n",
       "      <td>[경제 브리핑] 삼성전자, 미국 가전시장 4년연속 1위</td>\n",
       "      <td>/news/news_read.nhn?article_id=0002997342&amp;offi...</td>\n",
       "      <td>중앙일보</td>\n",
       "      <td>삼성전자가 4년째 세계 최대 가전 시장인 미국에서 점유율 1위를 차지했다. 30일 ...</td>\n",
       "      <td>2020-05-01 00:03</td>\n",
       "      <td>NaN</td>\n",
       "      <td>삼성전자가 4년째 세계 최대 가전 시장인 미국에서 점유율 1위를 차지했다. 30일 ...</td>\n",
       "      <td>[경제 브리핑] 삼성전자, 미국 가전시장 4년연속 1위. 삼성전자가 4년째 세계 최...</td>\n",
       "      <td>74</td>\n",
       "      <td>[경제 브리핑] 삼성전자, 미국 가전시장 4년연속 1위. 삼성전자가 4년째 세계 최...</td>\n",
       "    </tr>\n",
       "    <tr>\n",
       "      <td>1</td>\n",
       "      <td>삼성전자, 美 가전 점유율 20.9%… 4년연속 1위</td>\n",
       "      <td>/news/news_read.nhn?article_id=0003283914&amp;offi...</td>\n",
       "      <td>동아일보</td>\n",
       "      <td>1분기 프리미엄 냉장고 25% 차지… 세탁기-건조기 7개 분기 연속 선두 코로나 불...</td>\n",
       "      <td>2020-05-01 03:04</td>\n",
       "      <td>1분기 프리미엄 냉장고 25% 차지… 세탁기-건조기 7개 분기 연속 선두코로나 불황...</td>\n",
       "      <td>삼성전자가 올해 1분기(1∼3월) 미국 시장에서 냉장고, 세탁기, 건조기 등 주요 ...</td>\n",
       "      <td>삼성전자, 美 가전 점유율 20.9%… 4년연속 1위. 1분기 프리미엄 냉장고 25...</td>\n",
       "      <td>430</td>\n",
       "      <td>삼성전자, 美 가전 점유율 20.9%… 4년연속 1위. 1분기 프리미엄 냉장고 25...</td>\n",
       "    </tr>\n",
       "    <tr>\n",
       "      <td>2</td>\n",
       "      <td>삼성전자 가전, 美서 16분기째 1위</td>\n",
       "      <td>/news/news_read.nhn?article_id=0003527792&amp;offi...</td>\n",
       "      <td>조선일보</td>\n",
       "      <td>삼성전자가 올 1분기 세계 최대 생활가전 시장인 미국에서 시장 점유율 1위를 차지했...</td>\n",
       "      <td>2020-05-01 03:05</td>\n",
       "      <td>NaN</td>\n",
       "      <td>삼성전자가 올 1분기 세계 최대 생활가전 시장인 미국에서 시장 점유율 1위를 차지했...</td>\n",
       "      <td>삼성전자 가전, 美서 16분기째 1위. 삼성전자가 올 1분기 세계 최대 생활가전 시...</td>\n",
       "      <td>72</td>\n",
       "      <td>삼성전자 가전, 美서 16분기째 1위. 삼성전자가 올 1분기 세계 최대 생활가전 시...</td>\n",
       "    </tr>\n",
       "    <tr>\n",
       "      <td>3</td>\n",
       "      <td>원통형 전기차 배터리, 3년 뒤 시장규모 2배로</td>\n",
       "      <td>/news/news_read.nhn?article_id=0001317034&amp;offi...</td>\n",
       "      <td>국민일보</td>\n",
       "      <td>LG화학과 삼성SDI는 LG전자, 삼성전자 등의 스마트폰과 노트북에 탑재되는 원통형...</td>\n",
       "      <td>2020-05-01 04:10</td>\n",
       "      <td>노트북·청소기 등 탑재 이어 규격이 표준화돼 대량 생산 용이</td>\n",
       "      <td>노트북, 스마트폰 등 IT기기와 무선 청소기 등에 탑재되던 원통형 배터리가 전기차에...</td>\n",
       "      <td>원통형 전기차 배터리, 3년 뒤 시장규모 2배로. LG화학과 삼성SDI는 LG전자,...</td>\n",
       "      <td>333</td>\n",
       "      <td>원통형 전기차 배터리, 3년 뒤 시장규모 2배로. LG화학과 삼성SDI는 LG전자,...</td>\n",
       "    </tr>\n",
       "    <tr>\n",
       "      <td>4</td>\n",
       "      <td>미국 생활가전 점유율 삼성전자 4년 연속 1위</td>\n",
       "      <td>/news/news_read.nhn?article_id=0001317039&amp;offi...</td>\n",
       "      <td>국민일보</td>\n",
       "      <td>삼성전자가 미국 생활가전 시장에서 4년 연속 점유율 1위를 차지했다. 삼성전자는 시...</td>\n",
       "      <td>2020-05-01 04:11</td>\n",
       "      <td>NaN</td>\n",
       "      <td>삼성전자가 미국 생활가전 시장에서 4년 연속 점유율 1위를 차지했다.삼성전자는 시장...</td>\n",
       "      <td>미국 생활가전 점유율 삼성전자 4년 연속 1위. 삼성전자가 미국 생활가전 시장에서 ...</td>\n",
       "      <td>162</td>\n",
       "      <td>미국 생활가전 점유율 삼성전자 4년 연속 1위. 삼성전자가 미국 생활가전 시장에서 ...</td>\n",
       "    </tr>\n",
       "  </tbody>\n",
       "</table>\n",
       "</div>"
      ],
      "text/plain": [
       "                            title  \\\n",
       "0  [경제 브리핑] 삼성전자, 미국 가전시장 4년연속 1위   \n",
       "1   삼성전자, 美 가전 점유율 20.9%… 4년연속 1위   \n",
       "2            삼성전자 가전, 美서 16분기째 1위   \n",
       "3      원통형 전기차 배터리, 3년 뒤 시장규모 2배로   \n",
       "4       미국 생활가전 점유율 삼성전자 4년 연속 1위   \n",
       "\n",
       "                                                 url press  \\\n",
       "0  /news/news_read.nhn?article_id=0002997342&offi...  중앙일보   \n",
       "1  /news/news_read.nhn?article_id=0003283914&offi...  동아일보   \n",
       "2  /news/news_read.nhn?article_id=0003527792&offi...  조선일보   \n",
       "3  /news/news_read.nhn?article_id=0001317034&offi...  국민일보   \n",
       "4  /news/news_read.nhn?article_id=0001317039&offi...  국민일보   \n",
       "\n",
       "                                             summary              date  \\\n",
       "0  삼성전자가 4년째 세계 최대 가전 시장인 미국에서 점유율 1위를 차지했다. 30일 ...  2020-05-01 00:03   \n",
       "1  1분기 프리미엄 냉장고 25% 차지… 세탁기-건조기 7개 분기 연속 선두 코로나 불...  2020-05-01 03:04   \n",
       "2  삼성전자가 올 1분기 세계 최대 생활가전 시장인 미국에서 시장 점유율 1위를 차지했...  2020-05-01 03:05   \n",
       "3  LG화학과 삼성SDI는 LG전자, 삼성전자 등의 스마트폰과 노트북에 탑재되는 원통형...  2020-05-01 04:10   \n",
       "4  삼성전자가 미국 생활가전 시장에서 4년 연속 점유율 1위를 차지했다. 삼성전자는 시...  2020-05-01 04:11   \n",
       "\n",
       "                                                head  \\\n",
       "0                                                NaN   \n",
       "1  1분기 프리미엄 냉장고 25% 차지… 세탁기-건조기 7개 분기 연속 선두코로나 불황...   \n",
       "2                                                NaN   \n",
       "3                  노트북·청소기 등 탑재 이어 규격이 표준화돼 대량 생산 용이   \n",
       "4                                                NaN   \n",
       "\n",
       "                                                text  \\\n",
       "0  삼성전자가 4년째 세계 최대 가전 시장인 미국에서 점유율 1위를 차지했다. 30일 ...   \n",
       "1  삼성전자가 올해 1분기(1∼3월) 미국 시장에서 냉장고, 세탁기, 건조기 등 주요 ...   \n",
       "2  삼성전자가 올 1분기 세계 최대 생활가전 시장인 미국에서 시장 점유율 1위를 차지했...   \n",
       "3  노트북, 스마트폰 등 IT기기와 무선 청소기 등에 탑재되던 원통형 배터리가 전기차에...   \n",
       "4  삼성전자가 미국 생활가전 시장에서 4년 연속 점유율 1위를 차지했다.삼성전자는 시장...   \n",
       "\n",
       "                                               total  text_len  \\\n",
       "0  [경제 브리핑] 삼성전자, 미국 가전시장 4년연속 1위. 삼성전자가 4년째 세계 최...        74   \n",
       "1  삼성전자, 美 가전 점유율 20.9%… 4년연속 1위. 1분기 프리미엄 냉장고 25...       430   \n",
       "2  삼성전자 가전, 美서 16분기째 1위. 삼성전자가 올 1분기 세계 최대 생활가전 시...        72   \n",
       "3  원통형 전기차 배터리, 3년 뒤 시장규모 2배로. LG화학과 삼성SDI는 LG전자,...       333   \n",
       "4  미국 생활가전 점유율 삼성전자 4년 연속 1위. 삼성전자가 미국 생활가전 시장에서 ...       162   \n",
       "\n",
       "                                       filtered_text  \n",
       "0  [경제 브리핑] 삼성전자, 미국 가전시장 4년연속 1위. 삼성전자가 4년째 세계 최...  \n",
       "1  삼성전자, 美 가전 점유율 20.9%… 4년연속 1위. 1분기 프리미엄 냉장고 25...  \n",
       "2  삼성전자 가전, 美서 16분기째 1위. 삼성전자가 올 1분기 세계 최대 생활가전 시...  \n",
       "3  원통형 전기차 배터리, 3년 뒤 시장규모 2배로. LG화학과 삼성SDI는 LG전자,...  \n",
       "4  미국 생활가전 점유율 삼성전자 4년 연속 1위. 삼성전자가 미국 생활가전 시장에서 ...  "
      ]
     },
     "execution_count": 35,
     "metadata": {},
     "output_type": "execute_result"
    }
   ],
   "source": [
    "text_df = text_df.sort_values(by = 'date', ascending=True, axis =0).reset_index(drop=True)\n",
    "text_df.head()"
   ]
  },
  {
   "cell_type": "code",
   "execution_count": 36,
   "metadata": {},
   "outputs": [],
   "source": [
    "import datetime"
   ]
  },
  {
   "cell_type": "code",
   "execution_count": 37,
   "metadata": {},
   "outputs": [
    {
     "data": {
      "text/plain": [
       "'2020-05-01 00:03'"
      ]
     },
     "execution_count": 37,
     "metadata": {},
     "output_type": "execute_result"
    }
   ],
   "source": [
    "text_df['date'].iloc[0]"
   ]
  },
  {
   "cell_type": "markdown",
   "metadata": {},
   "source": [
    "### Date process"
   ]
  },
  {
   "cell_type": "code",
   "execution_count": 38,
   "metadata": {},
   "outputs": [],
   "source": [
    "text_df['day'] = text_df['date'].map(lambda x : datetime.datetime.strptime( x,'%Y-%m-%d %H:%M' ).date().strftime('%Y-%m-%d'))"
   ]
  },
  {
   "cell_type": "code",
   "execution_count": 39,
   "metadata": {},
   "outputs": [],
   "source": [
    "# datetime.datetime.strptime(text_df['date'].iloc[0],'%Y-%m-%d %H:%M' ).date().strftime('%Y-%m-%d')"
   ]
  },
  {
   "cell_type": "code",
   "execution_count": 40,
   "metadata": {},
   "outputs": [
    {
     "data": {
      "text/html": [
       "<div>\n",
       "<style scoped>\n",
       "    .dataframe tbody tr th:only-of-type {\n",
       "        vertical-align: middle;\n",
       "    }\n",
       "\n",
       "    .dataframe tbody tr th {\n",
       "        vertical-align: top;\n",
       "    }\n",
       "\n",
       "    .dataframe thead th {\n",
       "        text-align: right;\n",
       "    }\n",
       "</style>\n",
       "<table border=\"1\" class=\"dataframe\">\n",
       "  <thead>\n",
       "    <tr style=\"text-align: right;\">\n",
       "      <th></th>\n",
       "      <th>Unnamed: 0</th>\n",
       "      <th>일자</th>\n",
       "      <th>현재가</th>\n",
       "      <th>시가</th>\n",
       "      <th>고가</th>\n",
       "      <th>저가</th>\n",
       "      <th>거래량</th>\n",
       "      <th>거래대금</th>\n",
       "      <th>signal</th>\n",
       "    </tr>\n",
       "  </thead>\n",
       "  <tbody>\n",
       "    <tr>\n",
       "      <td>0</td>\n",
       "      <td>0</td>\n",
       "      <td>2017-12-19</td>\n",
       "      <td>NaN</td>\n",
       "      <td>NaN</td>\n",
       "      <td>NaN</td>\n",
       "      <td>NaN</td>\n",
       "      <td>NaN</td>\n",
       "      <td>NaN</td>\n",
       "      <td>stay</td>\n",
       "    </tr>\n",
       "    <tr>\n",
       "      <td>1</td>\n",
       "      <td>1</td>\n",
       "      <td>2017-12-20</td>\n",
       "      <td>-0.013365</td>\n",
       "      <td>-0.000777</td>\n",
       "      <td>-0.006182</td>\n",
       "      <td>-0.013774</td>\n",
       "      <td>-0.188288</td>\n",
       "      <td>-0.200704</td>\n",
       "      <td>down</td>\n",
       "    </tr>\n",
       "    <tr>\n",
       "      <td>2</td>\n",
       "      <td>2</td>\n",
       "      <td>2017-12-21</td>\n",
       "      <td>-0.035409</td>\n",
       "      <td>-0.009804</td>\n",
       "      <td>-0.013709</td>\n",
       "      <td>-0.035031</td>\n",
       "      <td>0.354816</td>\n",
       "      <td>0.336392</td>\n",
       "      <td>down</td>\n",
       "    </tr>\n",
       "    <tr>\n",
       "      <td>3</td>\n",
       "      <td>3</td>\n",
       "      <td>2017-12-22</td>\n",
       "      <td>0.011268</td>\n",
       "      <td>-0.032389</td>\n",
       "      <td>-0.022018</td>\n",
       "      <td>0.002843</td>\n",
       "      <td>-0.395070</td>\n",
       "      <td>-0.398404</td>\n",
       "      <td>up</td>\n",
       "    </tr>\n",
       "    <tr>\n",
       "      <td>4</td>\n",
       "      <td>4</td>\n",
       "      <td>2017-12-26</td>\n",
       "      <td>-0.031120</td>\n",
       "      <td>0.007235</td>\n",
       "      <td>0.002794</td>\n",
       "      <td>-0.021577</td>\n",
       "      <td>0.301761</td>\n",
       "      <td>0.294528</td>\n",
       "      <td>down</td>\n",
       "    </tr>\n",
       "  </tbody>\n",
       "</table>\n",
       "</div>"
      ],
      "text/plain": [
       "   Unnamed: 0          일자       현재가        시가        고가        저가       거래량  \\\n",
       "0           0  2017-12-19       NaN       NaN       NaN       NaN       NaN   \n",
       "1           1  2017-12-20 -0.013365 -0.000777 -0.006182 -0.013774 -0.188288   \n",
       "2           2  2017-12-21 -0.035409 -0.009804 -0.013709 -0.035031  0.354816   \n",
       "3           3  2017-12-22  0.011268 -0.032389 -0.022018  0.002843 -0.395070   \n",
       "4           4  2017-12-26 -0.031120  0.007235  0.002794 -0.021577  0.301761   \n",
       "\n",
       "       거래대금 signal  \n",
       "0       NaN   stay  \n",
       "1 -0.200704   down  \n",
       "2  0.336392   down  \n",
       "3 -0.398404     up  \n",
       "4  0.294528   down  "
      ]
     },
     "execution_count": 40,
     "metadata": {},
     "output_type": "execute_result"
    }
   ],
   "source": [
    "percent_df.head()"
   ]
  },
  {
   "cell_type": "code",
   "execution_count": 41,
   "metadata": {},
   "outputs": [
    {
     "data": {
      "text/plain": [
       "567    2020-04-17\n",
       "568    2020-04-20\n",
       "569    2020-04-21\n",
       "570    2020-04-22\n",
       "571    2020-04-23\n",
       "572    2020-04-24\n",
       "573    2020-04-27\n",
       "574    2020-04-28\n",
       "575    2020-04-29\n",
       "576    2020-05-04\n",
       "577    2020-05-06\n",
       "578    2020-05-07\n",
       "579    2020-05-08\n",
       "580    2020-05-11\n",
       "581    2020-05-12\n",
       "582    2020-05-13\n",
       "583    2020-05-14\n",
       "584    2020-05-15\n",
       "585    2020-05-18\n",
       "586    2020-05-19\n",
       "587    2020-05-20\n",
       "588    2020-05-21\n",
       "589    2020-05-22\n",
       "590    2020-05-25\n",
       "591    2020-05-26\n",
       "592    2020-05-27\n",
       "593    2020-05-28\n",
       "594    2020-05-29\n",
       "595    2020-06-01\n",
       "596    2020-06-02\n",
       "Name: 일자, dtype: object"
      ]
     },
     "execution_count": 41,
     "metadata": {},
     "output_type": "execute_result"
    }
   ],
   "source": [
    "percent_df['일자'].sort_values().iloc[-30:]"
   ]
  },
  {
   "cell_type": "code",
   "execution_count": 42,
   "metadata": {},
   "outputs": [
    {
     "data": {
      "text/html": [
       "<div>\n",
       "<style scoped>\n",
       "    .dataframe tbody tr th:only-of-type {\n",
       "        vertical-align: middle;\n",
       "    }\n",
       "\n",
       "    .dataframe tbody tr th {\n",
       "        vertical-align: top;\n",
       "    }\n",
       "\n",
       "    .dataframe thead th {\n",
       "        text-align: right;\n",
       "    }\n",
       "</style>\n",
       "<table border=\"1\" class=\"dataframe\">\n",
       "  <thead>\n",
       "    <tr style=\"text-align: right;\">\n",
       "      <th></th>\n",
       "      <th>Unnamed: 0</th>\n",
       "      <th>일자</th>\n",
       "      <th>현재가</th>\n",
       "      <th>시가</th>\n",
       "      <th>고가</th>\n",
       "      <th>저가</th>\n",
       "      <th>거래량</th>\n",
       "      <th>거래대금</th>\n",
       "      <th>signal</th>\n",
       "    </tr>\n",
       "  </thead>\n",
       "  <tbody>\n",
       "  </tbody>\n",
       "</table>\n",
       "</div>"
      ],
      "text/plain": [
       "Empty DataFrame\n",
       "Columns: [Unnamed: 0, 일자, 현재가, 시가, 고가, 저가, 거래량, 거래대금, signal]\n",
       "Index: []"
      ]
     },
     "execution_count": 42,
     "metadata": {},
     "output_type": "execute_result"
    }
   ],
   "source": [
    "percent_df[percent_df['일자']=='2020-05-10']"
   ]
  },
  {
   "cell_type": "code",
   "execution_count": 43,
   "metadata": {},
   "outputs": [],
   "source": [
    "merge_df = pd.merge(text_df, percent_df, how='left', left_on=['day'], right_on=['일자'])"
   ]
  },
  {
   "cell_type": "code",
   "execution_count": 44,
   "metadata": {},
   "outputs": [],
   "source": [
    "merge_df['signal'] = merge_df['signal'].fillna(method = 'bfill')\n",
    "merge_df['현재가'] = merge_df['현재가'].fillna(method = 'bfill')"
   ]
  },
  {
   "cell_type": "code",
   "execution_count": 45,
   "metadata": {},
   "outputs": [
    {
     "data": {
      "text/plain": [
       "title               0\n",
       "url                 0\n",
       "press               0\n",
       "summary             0\n",
       "date                0\n",
       "head             3810\n",
       "text                5\n",
       "total               0\n",
       "text_len            0\n",
       "filtered_text       0\n",
       "day                 0\n",
       "Unnamed: 0       1626\n",
       "일자               1626\n",
       "현재가               786\n",
       "시가               1626\n",
       "고가               1626\n",
       "저가               1626\n",
       "거래량              1626\n",
       "거래대금             1626\n",
       "signal            786\n",
       "dtype: int64"
      ]
     },
     "execution_count": 45,
     "metadata": {},
     "output_type": "execute_result"
    }
   ],
   "source": [
    "merge_df.isnull().sum()"
   ]
  },
  {
   "cell_type": "code",
   "execution_count": 46,
   "metadata": {},
   "outputs": [],
   "source": [
    "merge_df = merge_df.dropna(subset=['signal'])"
   ]
  },
  {
   "cell_type": "code",
   "execution_count": 47,
   "metadata": {},
   "outputs": [],
   "source": [
    "merge_df.reset_index(drop=True, inplace=True)"
   ]
  },
  {
   "cell_type": "code",
   "execution_count": 48,
   "metadata": {},
   "outputs": [
    {
     "name": "stdout",
     "output_type": "stream",
     "text": [
      "-663\n"
     ]
    }
   ],
   "source": [
    "testNum = int(len(merge_df) * -.1)\n",
    "print(testNum)"
   ]
  },
  {
   "cell_type": "code",
   "execution_count": 49,
   "metadata": {},
   "outputs": [],
   "source": [
    "X_train = merge_df['filtered_text'][:testNum]\n",
    "y_train = pd.get_dummies(columns=['signal'],data=merge_df['signal'])[:testNum].iloc[:, :]\n",
    "test = merge_df.loc[list(set(list(merge_df.index)) - set(list(X_train.index)))]\n",
    "X_test = test['filtered_text']\n",
    "y_test = test['signal']"
   ]
  },
  {
   "cell_type": "code",
   "execution_count": 50,
   "metadata": {},
   "outputs": [],
   "source": [
    "X_train, y_train = oversample(X_train, y_train)"
   ]
  },
  {
   "cell_type": "code",
   "execution_count": 51,
   "metadata": {},
   "outputs": [
    {
     "data": {
      "text/html": [
       "<div>\n",
       "<style scoped>\n",
       "    .dataframe tbody tr th:only-of-type {\n",
       "        vertical-align: middle;\n",
       "    }\n",
       "\n",
       "    .dataframe tbody tr th {\n",
       "        vertical-align: top;\n",
       "    }\n",
       "\n",
       "    .dataframe thead th {\n",
       "        text-align: right;\n",
       "    }\n",
       "</style>\n",
       "<table border=\"1\" class=\"dataframe\">\n",
       "  <thead>\n",
       "    <tr style=\"text-align: right;\">\n",
       "      <th></th>\n",
       "      <th>down</th>\n",
       "      <th>stay</th>\n",
       "      <th>up</th>\n",
       "    </tr>\n",
       "  </thead>\n",
       "  <tbody>\n",
       "    <tr>\n",
       "      <td>2127</td>\n",
       "      <td>1</td>\n",
       "      <td>0</td>\n",
       "      <td>0</td>\n",
       "    </tr>\n",
       "    <tr>\n",
       "      <td>271</td>\n",
       "      <td>1</td>\n",
       "      <td>0</td>\n",
       "      <td>0</td>\n",
       "    </tr>\n",
       "    <tr>\n",
       "      <td>4512</td>\n",
       "      <td>1</td>\n",
       "      <td>0</td>\n",
       "      <td>0</td>\n",
       "    </tr>\n",
       "    <tr>\n",
       "      <td>2046</td>\n",
       "      <td>1</td>\n",
       "      <td>0</td>\n",
       "      <td>0</td>\n",
       "    </tr>\n",
       "    <tr>\n",
       "      <td>4580</td>\n",
       "      <td>1</td>\n",
       "      <td>0</td>\n",
       "      <td>0</td>\n",
       "    </tr>\n",
       "    <tr>\n",
       "      <td>...</td>\n",
       "      <td>...</td>\n",
       "      <td>...</td>\n",
       "      <td>...</td>\n",
       "    </tr>\n",
       "    <tr>\n",
       "      <td>5967</td>\n",
       "      <td>0</td>\n",
       "      <td>1</td>\n",
       "      <td>0</td>\n",
       "    </tr>\n",
       "    <tr>\n",
       "      <td>5968</td>\n",
       "      <td>0</td>\n",
       "      <td>1</td>\n",
       "      <td>0</td>\n",
       "    </tr>\n",
       "    <tr>\n",
       "      <td>5969</td>\n",
       "      <td>0</td>\n",
       "      <td>1</td>\n",
       "      <td>0</td>\n",
       "    </tr>\n",
       "    <tr>\n",
       "      <td>5970</td>\n",
       "      <td>0</td>\n",
       "      <td>1</td>\n",
       "      <td>0</td>\n",
       "    </tr>\n",
       "    <tr>\n",
       "      <td>5971</td>\n",
       "      <td>0</td>\n",
       "      <td>1</td>\n",
       "      <td>0</td>\n",
       "    </tr>\n",
       "  </tbody>\n",
       "</table>\n",
       "<p>7641 rows × 3 columns</p>\n",
       "</div>"
      ],
      "text/plain": [
       "      down  stay  up\n",
       "2127     1     0   0\n",
       "271      1     0   0\n",
       "4512     1     0   0\n",
       "2046     1     0   0\n",
       "4580     1     0   0\n",
       "...    ...   ...  ..\n",
       "5967     0     1   0\n",
       "5968     0     1   0\n",
       "5969     0     1   0\n",
       "5970     0     1   0\n",
       "5971     0     1   0\n",
       "\n",
       "[7641 rows x 3 columns]"
      ]
     },
     "execution_count": 51,
     "metadata": {},
     "output_type": "execute_result"
    }
   ],
   "source": [
    "y_train"
   ]
  },
  {
   "cell_type": "code",
   "execution_count": 52,
   "metadata": {},
   "outputs": [],
   "source": [
    "y_train[\"signal\"] = np.nan"
   ]
  },
  {
   "cell_type": "code",
   "execution_count": 53,
   "metadata": {},
   "outputs": [],
   "source": [
    "for i, y in y_train.iterrows():\n",
    "    if str(type(y_train.loc[i])) == \"<class 'pandas.core.frame.DataFrame'>\": # If an index only has one observation, it draws up an error if we try to use the indexer agaon\n",
    "        # They're usually classed as a series while the ones with many observations are considered a df. This is a way to get\n",
    "        # rid of them\n",
    "        if y_train.loc[i].iloc[0, 0] == 1:\n",
    "            y_train.loc[i, \"signal\"] = \"down\"\n",
    "        elif y_train.loc[i].iloc[0, 1] == 1:\n",
    "            y_train.loc[i, \"signal\"] = \"stay\"\n",
    "        else:\n",
    "            y_train.loc[i, \"signal\"] = \"up\"\n",
    "    else: # If they only have one observation, we settle it here instead\n",
    "        if y_train.loc[i][0] == 1:\n",
    "              y_train.loc[i, \"signal\"] = \"down\"\n",
    "        elif y_train.loc[i][1] == 1:\n",
    "            y_train.loc[i, \"signal\"] = \"stay\"\n",
    "        else:\n",
    "            y_train.loc[i, \"signal\"] = \"up\""
   ]
  },
  {
   "cell_type": "code",
   "execution_count": 54,
   "metadata": {},
   "outputs": [],
   "source": [
    "X_train2 = X_train.reset_index(drop = True)\n",
    "y_train2 = y_train['signal'].reset_index(drop = True)\n",
    "\n",
    "data = pd.concat([X_train2, y_train2], axis = 1)\n",
    "data.rename(columns = {\"filtered_text\":\"doc\"}, inplace = True)\n",
    "\n",
    "X_test = X_test.reset_index(drop = True)\n",
    "y_test = y_test.reset_index(drop = True)\n",
    "\n",
    "train = data\n",
    "test = pd.concat([X_test, y_test], axis = 1) \n",
    "test.rename(columns = {\"filtered_text\":\"doc\"}, inplace = True)"
   ]
  },
  {
   "cell_type": "code",
   "execution_count": 55,
   "metadata": {},
   "outputs": [
    {
     "data": {
      "text/html": [
       "<div>\n",
       "<style scoped>\n",
       "    .dataframe tbody tr th:only-of-type {\n",
       "        vertical-align: middle;\n",
       "    }\n",
       "\n",
       "    .dataframe tbody tr th {\n",
       "        vertical-align: top;\n",
       "    }\n",
       "\n",
       "    .dataframe thead th {\n",
       "        text-align: right;\n",
       "    }\n",
       "</style>\n",
       "<table border=\"1\" class=\"dataframe\">\n",
       "  <thead>\n",
       "    <tr style=\"text-align: right;\">\n",
       "      <th></th>\n",
       "      <th>doc</th>\n",
       "      <th>signal</th>\n",
       "    </tr>\n",
       "  </thead>\n",
       "  <tbody>\n",
       "    <tr>\n",
       "      <td>0</td>\n",
       "      <td>잘 다니던 삼성전자 관둔다고 하니 부모님부터 말렸죠. 인터뷰에서 “삼성전자에서 전자...</td>\n",
       "      <td>stay</td>\n",
       "    </tr>\n",
       "    <tr>\n",
       "      <td>1</td>\n",
       "      <td>무더위 맞이하는 가전업계…삼성-LG \"여름가전\" 대전 돌입. 여름철 대표가전이라고 ...</td>\n",
       "      <td>stay</td>\n",
       "    </tr>\n",
       "    <tr>\n",
       "      <td>2</td>\n",
       "      <td>[포스트 코로나(1)-전자] 생존 위한 내실 초점…생산·기술 경쟁력 키운다. 국내 ...</td>\n",
       "      <td>stay</td>\n",
       "    </tr>\n",
       "    <tr>\n",
       "      <td>3</td>\n",
       "      <td>‘언택트’ 펀드 출시 봇물… \"무슨 종목 담는지 잘 보세요\". 관련된 삼성전자(00...</td>\n",
       "      <td>stay</td>\n",
       "    </tr>\n",
       "    <tr>\n",
       "      <td>4</td>\n",
       "      <td>돈 굴릴 곳이 없네… 0%대 금리에도 예·적금 못 떠나는 사람들. 그러나 개인 투자...</td>\n",
       "      <td>stay</td>\n",
       "    </tr>\n",
       "    <tr>\n",
       "      <td>...</td>\n",
       "      <td>...</td>\n",
       "      <td>...</td>\n",
       "    </tr>\n",
       "    <tr>\n",
       "      <td>658</td>\n",
       "      <td>‘바이오-언택트’ 서정진-김범수-김택진 주식부자 순위 껑충. 삼성전자 이건희 회장과...</td>\n",
       "      <td>stay</td>\n",
       "    </tr>\n",
       "    <tr>\n",
       "      <td>659</td>\n",
       "      <td>[용품] \"홀까지 거리는 □□㎝ 입니다\"…거리측정기는 기술 전쟁중. 올해 2월 말 ...</td>\n",
       "      <td>stay</td>\n",
       "    </tr>\n",
       "    <tr>\n",
       "      <td>660</td>\n",
       "      <td>삼성이 포문 연 온라인 공채 시험… 무난히 합격점. 삼성전자에 따르면 지난 30일에...</td>\n",
       "      <td>stay</td>\n",
       "    </tr>\n",
       "    <tr>\n",
       "      <td>661</td>\n",
       "      <td>‘바이오·언택트’ 열풍에… 시총 10위 비중 45%로. 31일 한국거래소에 따르면 ...</td>\n",
       "      <td>stay</td>\n",
       "    </tr>\n",
       "    <tr>\n",
       "      <td>662</td>\n",
       "      <td>삼성전자 새 규정, 이재용에도 적용할까. 삼성전자가 횡령·배임 등의 혐의로 재판을 ...</td>\n",
       "      <td>stay</td>\n",
       "    </tr>\n",
       "  </tbody>\n",
       "</table>\n",
       "<p>663 rows × 2 columns</p>\n",
       "</div>"
      ],
      "text/plain": [
       "                                                   doc signal\n",
       "0    잘 다니던 삼성전자 관둔다고 하니 부모님부터 말렸죠. 인터뷰에서 “삼성전자에서 전자...   stay\n",
       "1    무더위 맞이하는 가전업계…삼성-LG \"여름가전\" 대전 돌입. 여름철 대표가전이라고 ...   stay\n",
       "2    [포스트 코로나(1)-전자] 생존 위한 내실 초점…생산·기술 경쟁력 키운다. 국내 ...   stay\n",
       "3    ‘언택트’ 펀드 출시 봇물… \"무슨 종목 담는지 잘 보세요\". 관련된 삼성전자(00...   stay\n",
       "4    돈 굴릴 곳이 없네… 0%대 금리에도 예·적금 못 떠나는 사람들. 그러나 개인 투자...   stay\n",
       "..                                                 ...    ...\n",
       "658  ‘바이오-언택트’ 서정진-김범수-김택진 주식부자 순위 껑충. 삼성전자 이건희 회장과...   stay\n",
       "659  [용품] \"홀까지 거리는 □□㎝ 입니다\"…거리측정기는 기술 전쟁중. 올해 2월 말 ...   stay\n",
       "660  삼성이 포문 연 온라인 공채 시험… 무난히 합격점. 삼성전자에 따르면 지난 30일에...   stay\n",
       "661  ‘바이오·언택트’ 열풍에… 시총 10위 비중 45%로. 31일 한국거래소에 따르면 ...   stay\n",
       "662  삼성전자 새 규정, 이재용에도 적용할까. 삼성전자가 횡령·배임 등의 혐의로 재판을 ...   stay\n",
       "\n",
       "[663 rows x 2 columns]"
      ]
     },
     "execution_count": 55,
     "metadata": {},
     "output_type": "execute_result"
    }
   ],
   "source": [
    "test"
   ]
  },
  {
   "cell_type": "markdown",
   "metadata": {},
   "source": [
    "### BERT Model"
   ]
  },
  {
   "cell_type": "code",
   "execution_count": 56,
   "metadata": {},
   "outputs": [
    {
     "name": "stderr",
     "output_type": "stream",
     "text": [
      "Using TensorFlow backend.\n"
     ]
    }
   ],
   "source": [
    "import tensorflow as tf\n",
    "import keras as keras\n",
    "import keras.backend as K\n",
    "from keras.models import load_model\n",
    "\n",
    "from keras_bert import load_trained_model_from_checkpoint, load_vocabulary\n",
    "from keras_bert import Tokenizer\n",
    "from keras_bert import AdamWarmup, calc_train_steps\n",
    "from keras_bert import get_pretrained, PretrainedList, get_checkpoint_paths"
   ]
  },
  {
   "cell_type": "code",
   "execution_count": 57,
   "metadata": {},
   "outputs": [],
   "source": [
    "from tqdm import tqdm\n",
    "import gc"
   ]
  },
  {
   "cell_type": "code",
   "execution_count": 58,
   "metadata": {},
   "outputs": [
    {
     "name": "stdout",
     "output_type": "stream",
     "text": [
      "/root/.keras/datasets/multi_cased_L-12_H-768_A-12/bert_config.json /root/.keras/datasets/multi_cased_L-12_H-768_A-12/bert_model.ckpt /root/.keras/datasets/multi_cased_L-12_H-768_A-12/vocab.txt\n"
     ]
    }
   ],
   "source": [
    "model_path = get_pretrained(PretrainedList.multi_cased_base)\n",
    "paths = get_checkpoint_paths(model_path)\n",
    "print(paths.config, paths.checkpoint, paths.vocab)"
   ]
  },
  {
   "cell_type": "code",
   "execution_count": 59,
   "metadata": {},
   "outputs": [],
   "source": [
    "DATA_COLUMN = 'doc'\n",
    "LABEL_COLUMN = 'signal'\n",
    "# label_list is the list of labels\n",
    "label_list = ['up', 'down', 'stay']"
   ]
  },
  {
   "cell_type": "code",
   "execution_count": 60,
   "metadata": {},
   "outputs": [],
   "source": [
    "SEQ_LEN = 128\n",
    "BATCH_SIZE = 16\n",
    "EPOCHS = 50\n",
    "LR = 1e-4"
   ]
  },
  {
   "cell_type": "code",
   "execution_count": 61,
   "metadata": {},
   "outputs": [],
   "source": [
    "token_dict = load_vocabulary(paths.vocab)\n",
    "tokenizer = Tokenizer(token_dict)"
   ]
  },
  {
   "cell_type": "code",
   "execution_count": 62,
   "metadata": {},
   "outputs": [],
   "source": [
    "from sklearn.preprocessing import MultiLabelBinarizer\n",
    "mlb_= MultiLabelBinarizer(classes=('up', 'stay','down'))"
   ]
  },
  {
   "cell_type": "code",
   "execution_count": 63,
   "metadata": {},
   "outputs": [],
   "source": [
    "def convert_data(data_df):\n",
    "    global tokenizer\n",
    "    indices, targets = [], []\n",
    "    for i in tqdm(range(len(data_df))):\n",
    "        ids, segments = tokenizer.encode(data_df[DATA_COLUMN][i], max_len=SEQ_LEN)\n",
    "        indices.append(ids)\n",
    "        targets.append(data_df[LABEL_COLUMN][i])\n",
    "    items = list(zip(indices, targets))\n",
    "    np.random.shuffle(items)\n",
    "    indices, targets = zip(*items)\n",
    "    indices = np.array(indices)\n",
    "    return [indices, np.zeros_like(indices)], mlb_.fit_transform(np.array(targets).reshape(-1,1))"
   ]
  },
  {
   "cell_type": "code",
   "execution_count": 64,
   "metadata": {},
   "outputs": [
    {
     "name": "stderr",
     "output_type": "stream",
     "text": [
      "100%|██████████| 7641/7641 [01:40<00:00, 75.91it/s] \n"
     ]
    }
   ],
   "source": [
    "train_x, train_y = convert_data(train)"
   ]
  },
  {
   "cell_type": "code",
   "execution_count": 65,
   "metadata": {},
   "outputs": [
    {
     "data": {
      "text/plain": [
       "array([[1, 0, 0],\n",
       "       [1, 0, 0],\n",
       "       [0, 0, 1],\n",
       "       ...,\n",
       "       [0, 1, 0],\n",
       "       [0, 0, 1],\n",
       "       [0, 1, 0]])"
      ]
     },
     "execution_count": 65,
     "metadata": {},
     "output_type": "execute_result"
    }
   ],
   "source": [
    "train_y"
   ]
  },
  {
   "cell_type": "code",
   "execution_count": 66,
   "metadata": {},
   "outputs": [],
   "source": [
    "model = load_trained_model_from_checkpoint(\n",
    "    paths.config,\n",
    "    paths.checkpoint,\n",
    "    training=True,\n",
    "    trainable=True,\n",
    "    seq_len=SEQ_LEN,\n",
    ")"
   ]
  },
  {
   "cell_type": "code",
   "execution_count": 67,
   "metadata": {},
   "outputs": [],
   "source": [
    "inputs = model.inputs[:2]\n",
    "dense = model.layers[-3].output\n",
    "outputs = keras.layers.Dense(3, activation='softmax', kernel_initializer=keras.initializers.TruncatedNormal(stddev=0.02),\n",
    "                             name = 'real_output')(dense)\n",
    "\n",
    "decay_steps, warmup_steps = calc_train_steps(\n",
    "    train_y.shape[0],\n",
    "    batch_size=BATCH_SIZE,\n",
    "    epochs=EPOCHS,\n",
    ")\n",
    "\n",
    "model = keras.models.Model(inputs, outputs)\n",
    "model.compile(\n",
    "    AdamWarmup(decay_steps=decay_steps, warmup_steps=warmup_steps, lr=LR),\n",
    "    loss='categorical_crossentropy',\n",
    "    metrics=['accuracy']\n",
    ")"
   ]
  },
  {
   "cell_type": "code",
   "execution_count": 68,
   "metadata": {},
   "outputs": [
    {
     "name": "stdout",
     "output_type": "stream",
     "text": [
      "Model: \"model_2\"\n",
      "__________________________________________________________________________________________________\n",
      "Layer (type)                    Output Shape         Param #     Connected to                     \n",
      "==================================================================================================\n",
      "Input-Token (InputLayer)        (None, 128)          0                                            \n",
      "__________________________________________________________________________________________________\n",
      "Input-Segment (InputLayer)      (None, 128)          0                                            \n",
      "__________________________________________________________________________________________________\n",
      "Embedding-Token (TokenEmbedding [(None, 128, 768), ( 91812096    Input-Token[0][0]                \n",
      "__________________________________________________________________________________________________\n",
      "Embedding-Segment (Embedding)   (None, 128, 768)     1536        Input-Segment[0][0]              \n",
      "__________________________________________________________________________________________________\n",
      "Embedding-Token-Segment (Add)   (None, 128, 768)     0           Embedding-Token[0][0]            \n",
      "                                                                 Embedding-Segment[0][0]          \n",
      "__________________________________________________________________________________________________\n",
      "Embedding-Position (PositionEmb (None, 128, 768)     98304       Embedding-Token-Segment[0][0]    \n",
      "__________________________________________________________________________________________________\n",
      "Embedding-Dropout (Dropout)     (None, 128, 768)     0           Embedding-Position[0][0]         \n",
      "__________________________________________________________________________________________________\n",
      "Embedding-Norm (LayerNormalizat (None, 128, 768)     1536        Embedding-Dropout[0][0]          \n",
      "__________________________________________________________________________________________________\n",
      "Encoder-1-MultiHeadSelfAttentio (None, 128, 768)     2362368     Embedding-Norm[0][0]             \n",
      "__________________________________________________________________________________________________\n",
      "Encoder-1-MultiHeadSelfAttentio (None, 128, 768)     0           Encoder-1-MultiHeadSelfAttention[\n",
      "__________________________________________________________________________________________________\n",
      "Encoder-1-MultiHeadSelfAttentio (None, 128, 768)     0           Embedding-Norm[0][0]             \n",
      "                                                                 Encoder-1-MultiHeadSelfAttention-\n",
      "__________________________________________________________________________________________________\n",
      "Encoder-1-MultiHeadSelfAttentio (None, 128, 768)     1536        Encoder-1-MultiHeadSelfAttention-\n",
      "__________________________________________________________________________________________________\n",
      "Encoder-1-FeedForward (FeedForw (None, 128, 768)     4722432     Encoder-1-MultiHeadSelfAttention-\n",
      "__________________________________________________________________________________________________\n",
      "Encoder-1-FeedForward-Dropout ( (None, 128, 768)     0           Encoder-1-FeedForward[0][0]      \n",
      "__________________________________________________________________________________________________\n",
      "Encoder-1-FeedForward-Add (Add) (None, 128, 768)     0           Encoder-1-MultiHeadSelfAttention-\n",
      "                                                                 Encoder-1-FeedForward-Dropout[0][\n",
      "__________________________________________________________________________________________________\n",
      "Encoder-1-FeedForward-Norm (Lay (None, 128, 768)     1536        Encoder-1-FeedForward-Add[0][0]  \n",
      "__________________________________________________________________________________________________\n",
      "Encoder-2-MultiHeadSelfAttentio (None, 128, 768)     2362368     Encoder-1-FeedForward-Norm[0][0] \n",
      "__________________________________________________________________________________________________\n",
      "Encoder-2-MultiHeadSelfAttentio (None, 128, 768)     0           Encoder-2-MultiHeadSelfAttention[\n",
      "__________________________________________________________________________________________________\n",
      "Encoder-2-MultiHeadSelfAttentio (None, 128, 768)     0           Encoder-1-FeedForward-Norm[0][0] \n",
      "                                                                 Encoder-2-MultiHeadSelfAttention-\n",
      "__________________________________________________________________________________________________\n",
      "Encoder-2-MultiHeadSelfAttentio (None, 128, 768)     1536        Encoder-2-MultiHeadSelfAttention-\n",
      "__________________________________________________________________________________________________\n",
      "Encoder-2-FeedForward (FeedForw (None, 128, 768)     4722432     Encoder-2-MultiHeadSelfAttention-\n",
      "__________________________________________________________________________________________________\n",
      "Encoder-2-FeedForward-Dropout ( (None, 128, 768)     0           Encoder-2-FeedForward[0][0]      \n",
      "__________________________________________________________________________________________________\n",
      "Encoder-2-FeedForward-Add (Add) (None, 128, 768)     0           Encoder-2-MultiHeadSelfAttention-\n",
      "                                                                 Encoder-2-FeedForward-Dropout[0][\n",
      "__________________________________________________________________________________________________\n",
      "Encoder-2-FeedForward-Norm (Lay (None, 128, 768)     1536        Encoder-2-FeedForward-Add[0][0]  \n",
      "__________________________________________________________________________________________________\n",
      "Encoder-3-MultiHeadSelfAttentio (None, 128, 768)     2362368     Encoder-2-FeedForward-Norm[0][0] \n",
      "__________________________________________________________________________________________________\n",
      "Encoder-3-MultiHeadSelfAttentio (None, 128, 768)     0           Encoder-3-MultiHeadSelfAttention[\n",
      "__________________________________________________________________________________________________\n",
      "Encoder-3-MultiHeadSelfAttentio (None, 128, 768)     0           Encoder-2-FeedForward-Norm[0][0] \n",
      "                                                                 Encoder-3-MultiHeadSelfAttention-\n",
      "__________________________________________________________________________________________________\n",
      "Encoder-3-MultiHeadSelfAttentio (None, 128, 768)     1536        Encoder-3-MultiHeadSelfAttention-\n",
      "__________________________________________________________________________________________________\n",
      "Encoder-3-FeedForward (FeedForw (None, 128, 768)     4722432     Encoder-3-MultiHeadSelfAttention-\n",
      "__________________________________________________________________________________________________\n",
      "Encoder-3-FeedForward-Dropout ( (None, 128, 768)     0           Encoder-3-FeedForward[0][0]      \n",
      "__________________________________________________________________________________________________\n",
      "Encoder-3-FeedForward-Add (Add) (None, 128, 768)     0           Encoder-3-MultiHeadSelfAttention-\n",
      "                                                                 Encoder-3-FeedForward-Dropout[0][\n",
      "__________________________________________________________________________________________________\n",
      "Encoder-3-FeedForward-Norm (Lay (None, 128, 768)     1536        Encoder-3-FeedForward-Add[0][0]  \n",
      "__________________________________________________________________________________________________\n",
      "Encoder-4-MultiHeadSelfAttentio (None, 128, 768)     2362368     Encoder-3-FeedForward-Norm[0][0] \n",
      "__________________________________________________________________________________________________\n",
      "Encoder-4-MultiHeadSelfAttentio (None, 128, 768)     0           Encoder-4-MultiHeadSelfAttention[\n",
      "__________________________________________________________________________________________________\n",
      "Encoder-4-MultiHeadSelfAttentio (None, 128, 768)     0           Encoder-3-FeedForward-Norm[0][0] \n",
      "                                                                 Encoder-4-MultiHeadSelfAttention-\n",
      "__________________________________________________________________________________________________\n",
      "Encoder-4-MultiHeadSelfAttentio (None, 128, 768)     1536        Encoder-4-MultiHeadSelfAttention-\n",
      "__________________________________________________________________________________________________\n",
      "Encoder-4-FeedForward (FeedForw (None, 128, 768)     4722432     Encoder-4-MultiHeadSelfAttention-\n",
      "__________________________________________________________________________________________________\n",
      "Encoder-4-FeedForward-Dropout ( (None, 128, 768)     0           Encoder-4-FeedForward[0][0]      \n",
      "__________________________________________________________________________________________________\n",
      "Encoder-4-FeedForward-Add (Add) (None, 128, 768)     0           Encoder-4-MultiHeadSelfAttention-\n",
      "                                                                 Encoder-4-FeedForward-Dropout[0][\n",
      "__________________________________________________________________________________________________\n",
      "Encoder-4-FeedForward-Norm (Lay (None, 128, 768)     1536        Encoder-4-FeedForward-Add[0][0]  \n",
      "__________________________________________________________________________________________________\n",
      "Encoder-5-MultiHeadSelfAttentio (None, 128, 768)     2362368     Encoder-4-FeedForward-Norm[0][0] \n",
      "__________________________________________________________________________________________________\n",
      "Encoder-5-MultiHeadSelfAttentio (None, 128, 768)     0           Encoder-5-MultiHeadSelfAttention[\n",
      "__________________________________________________________________________________________________\n",
      "Encoder-5-MultiHeadSelfAttentio (None, 128, 768)     0           Encoder-4-FeedForward-Norm[0][0] \n",
      "                                                                 Encoder-5-MultiHeadSelfAttention-\n",
      "__________________________________________________________________________________________________\n",
      "Encoder-5-MultiHeadSelfAttentio (None, 128, 768)     1536        Encoder-5-MultiHeadSelfAttention-\n",
      "__________________________________________________________________________________________________\n",
      "Encoder-5-FeedForward (FeedForw (None, 128, 768)     4722432     Encoder-5-MultiHeadSelfAttention-\n",
      "__________________________________________________________________________________________________\n",
      "Encoder-5-FeedForward-Dropout ( (None, 128, 768)     0           Encoder-5-FeedForward[0][0]      \n",
      "__________________________________________________________________________________________________\n",
      "Encoder-5-FeedForward-Add (Add) (None, 128, 768)     0           Encoder-5-MultiHeadSelfAttention-\n",
      "                                                                 Encoder-5-FeedForward-Dropout[0][\n",
      "__________________________________________________________________________________________________\n",
      "Encoder-5-FeedForward-Norm (Lay (None, 128, 768)     1536        Encoder-5-FeedForward-Add[0][0]  \n",
      "__________________________________________________________________________________________________\n",
      "Encoder-6-MultiHeadSelfAttentio (None, 128, 768)     2362368     Encoder-5-FeedForward-Norm[0][0] \n",
      "__________________________________________________________________________________________________\n",
      "Encoder-6-MultiHeadSelfAttentio (None, 128, 768)     0           Encoder-6-MultiHeadSelfAttention[\n",
      "__________________________________________________________________________________________________\n",
      "Encoder-6-MultiHeadSelfAttentio (None, 128, 768)     0           Encoder-5-FeedForward-Norm[0][0] \n",
      "                                                                 Encoder-6-MultiHeadSelfAttention-\n",
      "__________________________________________________________________________________________________\n",
      "Encoder-6-MultiHeadSelfAttentio (None, 128, 768)     1536        Encoder-6-MultiHeadSelfAttention-\n",
      "__________________________________________________________________________________________________\n",
      "Encoder-6-FeedForward (FeedForw (None, 128, 768)     4722432     Encoder-6-MultiHeadSelfAttention-\n",
      "__________________________________________________________________________________________________\n",
      "Encoder-6-FeedForward-Dropout ( (None, 128, 768)     0           Encoder-6-FeedForward[0][0]      \n",
      "__________________________________________________________________________________________________\n",
      "Encoder-6-FeedForward-Add (Add) (None, 128, 768)     0           Encoder-6-MultiHeadSelfAttention-\n",
      "                                                                 Encoder-6-FeedForward-Dropout[0][\n",
      "__________________________________________________________________________________________________\n",
      "Encoder-6-FeedForward-Norm (Lay (None, 128, 768)     1536        Encoder-6-FeedForward-Add[0][0]  \n",
      "__________________________________________________________________________________________________\n",
      "Encoder-7-MultiHeadSelfAttentio (None, 128, 768)     2362368     Encoder-6-FeedForward-Norm[0][0] \n",
      "__________________________________________________________________________________________________\n",
      "Encoder-7-MultiHeadSelfAttentio (None, 128, 768)     0           Encoder-7-MultiHeadSelfAttention[\n",
      "__________________________________________________________________________________________________\n",
      "Encoder-7-MultiHeadSelfAttentio (None, 128, 768)     0           Encoder-6-FeedForward-Norm[0][0] \n",
      "                                                                 Encoder-7-MultiHeadSelfAttention-\n",
      "__________________________________________________________________________________________________\n",
      "Encoder-7-MultiHeadSelfAttentio (None, 128, 768)     1536        Encoder-7-MultiHeadSelfAttention-\n",
      "__________________________________________________________________________________________________\n",
      "Encoder-7-FeedForward (FeedForw (None, 128, 768)     4722432     Encoder-7-MultiHeadSelfAttention-\n",
      "__________________________________________________________________________________________________\n",
      "Encoder-7-FeedForward-Dropout ( (None, 128, 768)     0           Encoder-7-FeedForward[0][0]      \n",
      "__________________________________________________________________________________________________\n",
      "Encoder-7-FeedForward-Add (Add) (None, 128, 768)     0           Encoder-7-MultiHeadSelfAttention-\n",
      "                                                                 Encoder-7-FeedForward-Dropout[0][\n",
      "__________________________________________________________________________________________________\n",
      "Encoder-7-FeedForward-Norm (Lay (None, 128, 768)     1536        Encoder-7-FeedForward-Add[0][0]  \n",
      "__________________________________________________________________________________________________\n",
      "Encoder-8-MultiHeadSelfAttentio (None, 128, 768)     2362368     Encoder-7-FeedForward-Norm[0][0] \n",
      "__________________________________________________________________________________________________\n",
      "Encoder-8-MultiHeadSelfAttentio (None, 128, 768)     0           Encoder-8-MultiHeadSelfAttention[\n",
      "__________________________________________________________________________________________________\n",
      "Encoder-8-MultiHeadSelfAttentio (None, 128, 768)     0           Encoder-7-FeedForward-Norm[0][0] \n",
      "                                                                 Encoder-8-MultiHeadSelfAttention-\n",
      "__________________________________________________________________________________________________\n",
      "Encoder-8-MultiHeadSelfAttentio (None, 128, 768)     1536        Encoder-8-MultiHeadSelfAttention-\n",
      "__________________________________________________________________________________________________\n",
      "Encoder-8-FeedForward (FeedForw (None, 128, 768)     4722432     Encoder-8-MultiHeadSelfAttention-\n",
      "__________________________________________________________________________________________________\n",
      "Encoder-8-FeedForward-Dropout ( (None, 128, 768)     0           Encoder-8-FeedForward[0][0]      \n",
      "__________________________________________________________________________________________________\n",
      "Encoder-8-FeedForward-Add (Add) (None, 128, 768)     0           Encoder-8-MultiHeadSelfAttention-\n",
      "                                                                 Encoder-8-FeedForward-Dropout[0][\n",
      "__________________________________________________________________________________________________\n",
      "Encoder-8-FeedForward-Norm (Lay (None, 128, 768)     1536        Encoder-8-FeedForward-Add[0][0]  \n",
      "__________________________________________________________________________________________________\n",
      "Encoder-9-MultiHeadSelfAttentio (None, 128, 768)     2362368     Encoder-8-FeedForward-Norm[0][0] \n",
      "__________________________________________________________________________________________________\n",
      "Encoder-9-MultiHeadSelfAttentio (None, 128, 768)     0           Encoder-9-MultiHeadSelfAttention[\n",
      "__________________________________________________________________________________________________\n",
      "Encoder-9-MultiHeadSelfAttentio (None, 128, 768)     0           Encoder-8-FeedForward-Norm[0][0] \n",
      "                                                                 Encoder-9-MultiHeadSelfAttention-\n",
      "__________________________________________________________________________________________________\n",
      "Encoder-9-MultiHeadSelfAttentio (None, 128, 768)     1536        Encoder-9-MultiHeadSelfAttention-\n",
      "__________________________________________________________________________________________________\n",
      "Encoder-9-FeedForward (FeedForw (None, 128, 768)     4722432     Encoder-9-MultiHeadSelfAttention-\n",
      "__________________________________________________________________________________________________\n",
      "Encoder-9-FeedForward-Dropout ( (None, 128, 768)     0           Encoder-9-FeedForward[0][0]      \n",
      "__________________________________________________________________________________________________\n",
      "Encoder-9-FeedForward-Add (Add) (None, 128, 768)     0           Encoder-9-MultiHeadSelfAttention-\n",
      "                                                                 Encoder-9-FeedForward-Dropout[0][\n",
      "__________________________________________________________________________________________________\n",
      "Encoder-9-FeedForward-Norm (Lay (None, 128, 768)     1536        Encoder-9-FeedForward-Add[0][0]  \n",
      "__________________________________________________________________________________________________\n",
      "Encoder-10-MultiHeadSelfAttenti (None, 128, 768)     2362368     Encoder-9-FeedForward-Norm[0][0] \n",
      "__________________________________________________________________________________________________\n",
      "Encoder-10-MultiHeadSelfAttenti (None, 128, 768)     0           Encoder-10-MultiHeadSelfAttention\n",
      "__________________________________________________________________________________________________\n",
      "Encoder-10-MultiHeadSelfAttenti (None, 128, 768)     0           Encoder-9-FeedForward-Norm[0][0] \n",
      "                                                                 Encoder-10-MultiHeadSelfAttention\n",
      "__________________________________________________________________________________________________\n",
      "Encoder-10-MultiHeadSelfAttenti (None, 128, 768)     1536        Encoder-10-MultiHeadSelfAttention\n",
      "__________________________________________________________________________________________________\n",
      "Encoder-10-FeedForward (FeedFor (None, 128, 768)     4722432     Encoder-10-MultiHeadSelfAttention\n",
      "__________________________________________________________________________________________________\n",
      "Encoder-10-FeedForward-Dropout  (None, 128, 768)     0           Encoder-10-FeedForward[0][0]     \n",
      "__________________________________________________________________________________________________\n",
      "Encoder-10-FeedForward-Add (Add (None, 128, 768)     0           Encoder-10-MultiHeadSelfAttention\n",
      "                                                                 Encoder-10-FeedForward-Dropout[0]\n",
      "__________________________________________________________________________________________________\n",
      "Encoder-10-FeedForward-Norm (La (None, 128, 768)     1536        Encoder-10-FeedForward-Add[0][0] \n",
      "__________________________________________________________________________________________________\n",
      "Encoder-11-MultiHeadSelfAttenti (None, 128, 768)     2362368     Encoder-10-FeedForward-Norm[0][0]\n",
      "__________________________________________________________________________________________________\n",
      "Encoder-11-MultiHeadSelfAttenti (None, 128, 768)     0           Encoder-11-MultiHeadSelfAttention\n",
      "__________________________________________________________________________________________________\n",
      "Encoder-11-MultiHeadSelfAttenti (None, 128, 768)     0           Encoder-10-FeedForward-Norm[0][0]\n",
      "                                                                 Encoder-11-MultiHeadSelfAttention\n",
      "__________________________________________________________________________________________________\n",
      "Encoder-11-MultiHeadSelfAttenti (None, 128, 768)     1536        Encoder-11-MultiHeadSelfAttention\n",
      "__________________________________________________________________________________________________\n",
      "Encoder-11-FeedForward (FeedFor (None, 128, 768)     4722432     Encoder-11-MultiHeadSelfAttention\n",
      "__________________________________________________________________________________________________\n",
      "Encoder-11-FeedForward-Dropout  (None, 128, 768)     0           Encoder-11-FeedForward[0][0]     \n",
      "__________________________________________________________________________________________________\n",
      "Encoder-11-FeedForward-Add (Add (None, 128, 768)     0           Encoder-11-MultiHeadSelfAttention\n",
      "                                                                 Encoder-11-FeedForward-Dropout[0]\n",
      "__________________________________________________________________________________________________\n",
      "Encoder-11-FeedForward-Norm (La (None, 128, 768)     1536        Encoder-11-FeedForward-Add[0][0] \n",
      "__________________________________________________________________________________________________\n",
      "Encoder-12-MultiHeadSelfAttenti (None, 128, 768)     2362368     Encoder-11-FeedForward-Norm[0][0]\n",
      "__________________________________________________________________________________________________\n",
      "Encoder-12-MultiHeadSelfAttenti (None, 128, 768)     0           Encoder-12-MultiHeadSelfAttention\n",
      "__________________________________________________________________________________________________\n",
      "Encoder-12-MultiHeadSelfAttenti (None, 128, 768)     0           Encoder-11-FeedForward-Norm[0][0]\n",
      "                                                                 Encoder-12-MultiHeadSelfAttention\n",
      "__________________________________________________________________________________________________\n",
      "Encoder-12-MultiHeadSelfAttenti (None, 128, 768)     1536        Encoder-12-MultiHeadSelfAttention\n",
      "__________________________________________________________________________________________________\n",
      "Encoder-12-FeedForward (FeedFor (None, 128, 768)     4722432     Encoder-12-MultiHeadSelfAttention\n",
      "__________________________________________________________________________________________________\n",
      "Encoder-12-FeedForward-Dropout  (None, 128, 768)     0           Encoder-12-FeedForward[0][0]     \n",
      "__________________________________________________________________________________________________\n",
      "Encoder-12-FeedForward-Add (Add (None, 128, 768)     0           Encoder-12-MultiHeadSelfAttention\n",
      "                                                                 Encoder-12-FeedForward-Dropout[0]\n",
      "__________________________________________________________________________________________________\n",
      "Encoder-12-FeedForward-Norm (La (None, 128, 768)     1536        Encoder-12-FeedForward-Add[0][0] \n",
      "__________________________________________________________________________________________________\n",
      "Extract (Extract)               (None, 768)          0           Encoder-12-FeedForward-Norm[0][0]\n",
      "__________________________________________________________________________________________________\n",
      "NSP-Dense (Dense)               (None, 768)          590592      Extract[0][0]                    \n",
      "__________________________________________________________________________________________________\n",
      "real_output (Dense)             (None, 3)            2307        NSP-Dense[0][0]                  \n",
      "==================================================================================================\n",
      "Total params: 177,560,835\n",
      "Trainable params: 177,560,835\n",
      "Non-trainable params: 0\n",
      "__________________________________________________________________________________________________\n"
     ]
    }
   ],
   "source": [
    "model.summary()"
   ]
  },
  {
   "cell_type": "code",
   "execution_count": 69,
   "metadata": {},
   "outputs": [
    {
     "name": "stderr",
     "output_type": "stream",
     "text": [
      "WARNING: Logging before flag parsing goes to stderr.\n",
      "W0611 02:05:35.618458 140193663985472 deprecation.py:323] From /usr/local/lib/python3.6/dist-packages/tensorflow/python/ops/array_ops.py:1354: add_dispatch_support.<locals>.wrapper (from tensorflow.python.ops.array_ops) is deprecated and will be removed in a future version.\n",
      "Instructions for updating:\n",
      "Use tf.where in 2.0, which has the same broadcast rule as np.where\n"
     ]
    }
   ],
   "source": [
    "sess = K.get_session()\n",
    "uninitialized_variables = set([i.decode('ascii') for i in sess.run(tf.report_uninitialized_variables())])\n",
    "init_op = tf.variables_initializer(\n",
    "    [v for v in tf.global_variables() if v.name.split(':')[0] in uninitialized_variables]\n",
    ")\n",
    "sess.run(init_op)"
   ]
  },
  {
   "cell_type": "code",
   "execution_count": 70,
   "metadata": {},
   "outputs": [
    {
     "name": "stderr",
     "output_type": "stream",
     "text": [
      "W0611 02:05:53.643377 140193663985472 deprecation_wrapper.py:119] From /usr/local/lib/python3.6/dist-packages/keras/backend/tensorflow_backend.py:422: The name tf.global_variables is deprecated. Please use tf.compat.v1.global_variables instead.\n",
      "\n"
     ]
    },
    {
     "name": "stdout",
     "output_type": "stream",
     "text": [
      "Epoch 1/50\n",
      "7641/7641 [==============================] - 157s 21ms/step - loss: 1.0640 - accuracy: 0.4102\n",
      "Epoch 2/50\n",
      "7641/7641 [==============================] - 146s 19ms/step - loss: 0.9553 - accuracy: 0.5248\n",
      "Epoch 3/50\n",
      "7641/7641 [==============================] - 146s 19ms/step - loss: 0.8901 - accuracy: 0.5785\n",
      "Epoch 4/50\n",
      "7641/7641 [==============================] - 146s 19ms/step - loss: 0.8529 - accuracy: 0.6029\n",
      "Epoch 5/50\n",
      "7641/7641 [==============================] - 147s 19ms/step - loss: 0.9183 - accuracy: 0.5278\n",
      "Epoch 6/50\n",
      "7641/7641 [==============================] - 146s 19ms/step - loss: 1.1046 - accuracy: 0.3324\n",
      "Epoch 7/50\n",
      "7641/7641 [==============================] - 146s 19ms/step - loss: 1.1029 - accuracy: 0.3350\n",
      "Epoch 8/50\n",
      "7641/7641 [==============================] - 146s 19ms/step - loss: 1.1019 - accuracy: 0.3394\n",
      "Epoch 9/50\n",
      "7641/7641 [==============================] - 146s 19ms/step - loss: 1.1022 - accuracy: 0.3323\n",
      "Epoch 10/50\n",
      "7641/7641 [==============================] - 147s 19ms/step - loss: 1.1020 - accuracy: 0.3409\n",
      "Epoch 11/50\n",
      "7641/7641 [==============================] - 146s 19ms/step - loss: 1.1015 - accuracy: 0.3255\n",
      "Epoch 12/50\n",
      "7641/7641 [==============================] - 147s 19ms/step - loss: 1.1008 - accuracy: 0.3331\n",
      "Epoch 13/50\n",
      "7641/7641 [==============================] - 147s 19ms/step - loss: 1.1005 - accuracy: 0.3329\n",
      "Epoch 14/50\n",
      "7641/7641 [==============================] - 146s 19ms/step - loss: 1.1005 - accuracy: 0.3281\n",
      "Epoch 15/50\n",
      "4144/7641 [===============>..............] - ETA: 1:07 - loss: 1.1009 - accuracy: 0.3231"
     ]
    },
    {
     "ename": "KeyboardInterrupt",
     "evalue": "",
     "output_type": "error",
     "traceback": [
      "\u001b[0;31m\u001b[0m",
      "\u001b[0;31mKeyboardInterrupt\u001b[0mTraceback (most recent call last)",
      "\u001b[0;32m<ipython-input-70-ef41a46707b5>\u001b[0m in \u001b[0;36m<module>\u001b[0;34m\u001b[0m\n\u001b[1;32m      3\u001b[0m         \u001b[0mtrain_y\u001b[0m\u001b[0;34m,\u001b[0m\u001b[0;34m\u001b[0m\u001b[0;34m\u001b[0m\u001b[0m\n\u001b[1;32m      4\u001b[0m         \u001b[0mepochs\u001b[0m\u001b[0;34m=\u001b[0m\u001b[0mEPOCHS\u001b[0m\u001b[0;34m,\u001b[0m\u001b[0;34m\u001b[0m\u001b[0;34m\u001b[0m\u001b[0m\n\u001b[0;32m----> 5\u001b[0;31m         \u001b[0mbatch_size\u001b[0m\u001b[0;34m=\u001b[0m\u001b[0mBATCH_SIZE\u001b[0m\u001b[0;34m,\u001b[0m\u001b[0;34m\u001b[0m\u001b[0;34m\u001b[0m\u001b[0m\n\u001b[0m\u001b[1;32m      6\u001b[0m     )\n",
      "\u001b[0;32m/usr/local/lib/python3.6/dist-packages/keras/engine/training.py\u001b[0m in \u001b[0;36mfit\u001b[0;34m(self, x, y, batch_size, epochs, verbose, callbacks, validation_split, validation_data, shuffle, class_weight, sample_weight, initial_epoch, steps_per_epoch, validation_steps, validation_freq, max_queue_size, workers, use_multiprocessing, **kwargs)\u001b[0m\n\u001b[1;32m   1237\u001b[0m                                         \u001b[0msteps_per_epoch\u001b[0m\u001b[0;34m=\u001b[0m\u001b[0msteps_per_epoch\u001b[0m\u001b[0;34m,\u001b[0m\u001b[0;34m\u001b[0m\u001b[0;34m\u001b[0m\u001b[0m\n\u001b[1;32m   1238\u001b[0m                                         \u001b[0mvalidation_steps\u001b[0m\u001b[0;34m=\u001b[0m\u001b[0mvalidation_steps\u001b[0m\u001b[0;34m,\u001b[0m\u001b[0;34m\u001b[0m\u001b[0;34m\u001b[0m\u001b[0m\n\u001b[0;32m-> 1239\u001b[0;31m                                         validation_freq=validation_freq)\n\u001b[0m\u001b[1;32m   1240\u001b[0m \u001b[0;34m\u001b[0m\u001b[0m\n\u001b[1;32m   1241\u001b[0m     def evaluate(self,\n",
      "\u001b[0;32m/usr/local/lib/python3.6/dist-packages/keras/engine/training_arrays.py\u001b[0m in \u001b[0;36mfit_loop\u001b[0;34m(model, fit_function, fit_inputs, out_labels, batch_size, epochs, verbose, callbacks, val_function, val_inputs, shuffle, initial_epoch, steps_per_epoch, validation_steps, validation_freq)\u001b[0m\n\u001b[1;32m    194\u001b[0m                     \u001b[0mins_batch\u001b[0m\u001b[0;34m[\u001b[0m\u001b[0mi\u001b[0m\u001b[0;34m]\u001b[0m \u001b[0;34m=\u001b[0m \u001b[0mins_batch\u001b[0m\u001b[0;34m[\u001b[0m\u001b[0mi\u001b[0m\u001b[0;34m]\u001b[0m\u001b[0;34m.\u001b[0m\u001b[0mtoarray\u001b[0m\u001b[0;34m(\u001b[0m\u001b[0;34m)\u001b[0m\u001b[0;34m\u001b[0m\u001b[0;34m\u001b[0m\u001b[0m\n\u001b[1;32m    195\u001b[0m \u001b[0;34m\u001b[0m\u001b[0m\n\u001b[0;32m--> 196\u001b[0;31m                 \u001b[0mouts\u001b[0m \u001b[0;34m=\u001b[0m \u001b[0mfit_function\u001b[0m\u001b[0;34m(\u001b[0m\u001b[0mins_batch\u001b[0m\u001b[0;34m)\u001b[0m\u001b[0;34m\u001b[0m\u001b[0;34m\u001b[0m\u001b[0m\n\u001b[0m\u001b[1;32m    197\u001b[0m                 \u001b[0mouts\u001b[0m \u001b[0;34m=\u001b[0m \u001b[0mto_list\u001b[0m\u001b[0;34m(\u001b[0m\u001b[0mouts\u001b[0m\u001b[0;34m)\u001b[0m\u001b[0;34m\u001b[0m\u001b[0;34m\u001b[0m\u001b[0m\n\u001b[1;32m    198\u001b[0m                 \u001b[0;32mfor\u001b[0m \u001b[0ml\u001b[0m\u001b[0;34m,\u001b[0m \u001b[0mo\u001b[0m \u001b[0;32min\u001b[0m \u001b[0mzip\u001b[0m\u001b[0;34m(\u001b[0m\u001b[0mout_labels\u001b[0m\u001b[0;34m,\u001b[0m \u001b[0mouts\u001b[0m\u001b[0;34m)\u001b[0m\u001b[0;34m:\u001b[0m\u001b[0;34m\u001b[0m\u001b[0;34m\u001b[0m\u001b[0m\n",
      "\u001b[0;32m/usr/local/lib/python3.6/dist-packages/tensorflow/python/keras/backend.py\u001b[0m in \u001b[0;36m__call__\u001b[0;34m(self, inputs)\u001b[0m\n\u001b[1;32m   3290\u001b[0m \u001b[0;34m\u001b[0m\u001b[0m\n\u001b[1;32m   3291\u001b[0m     fetched = self._callable_fn(*array_vals,\n\u001b[0;32m-> 3292\u001b[0;31m                                 run_metadata=self.run_metadata)\n\u001b[0m\u001b[1;32m   3293\u001b[0m     \u001b[0mself\u001b[0m\u001b[0;34m.\u001b[0m\u001b[0m_call_fetch_callbacks\u001b[0m\u001b[0;34m(\u001b[0m\u001b[0mfetched\u001b[0m\u001b[0;34m[\u001b[0m\u001b[0;34m-\u001b[0m\u001b[0mlen\u001b[0m\u001b[0;34m(\u001b[0m\u001b[0mself\u001b[0m\u001b[0;34m.\u001b[0m\u001b[0m_fetches\u001b[0m\u001b[0;34m)\u001b[0m\u001b[0;34m:\u001b[0m\u001b[0;34m]\u001b[0m\u001b[0;34m)\u001b[0m\u001b[0;34m\u001b[0m\u001b[0;34m\u001b[0m\u001b[0m\n\u001b[1;32m   3294\u001b[0m     output_structure = nest.pack_sequence_as(\n",
      "\u001b[0;32m/usr/local/lib/python3.6/dist-packages/tensorflow/python/client/session.py\u001b[0m in \u001b[0;36m__call__\u001b[0;34m(self, *args, **kwargs)\u001b[0m\n\u001b[1;32m   1456\u001b[0m         ret = tf_session.TF_SessionRunCallable(self._session._session,\n\u001b[1;32m   1457\u001b[0m                                                \u001b[0mself\u001b[0m\u001b[0;34m.\u001b[0m\u001b[0m_handle\u001b[0m\u001b[0;34m,\u001b[0m \u001b[0margs\u001b[0m\u001b[0;34m,\u001b[0m\u001b[0;34m\u001b[0m\u001b[0;34m\u001b[0m\u001b[0m\n\u001b[0;32m-> 1458\u001b[0;31m                                                run_metadata_ptr)\n\u001b[0m\u001b[1;32m   1459\u001b[0m         \u001b[0;32mif\u001b[0m \u001b[0mrun_metadata\u001b[0m\u001b[0;34m:\u001b[0m\u001b[0;34m\u001b[0m\u001b[0;34m\u001b[0m\u001b[0m\n\u001b[1;32m   1460\u001b[0m           \u001b[0mproto_data\u001b[0m \u001b[0;34m=\u001b[0m \u001b[0mtf_session\u001b[0m\u001b[0;34m.\u001b[0m\u001b[0mTF_GetBuffer\u001b[0m\u001b[0;34m(\u001b[0m\u001b[0mrun_metadata_ptr\u001b[0m\u001b[0;34m)\u001b[0m\u001b[0;34m\u001b[0m\u001b[0;34m\u001b[0m\u001b[0m\n",
      "\u001b[0;31mKeyboardInterrupt\u001b[0m: "
     ]
    }
   ],
   "source": [
    "model.fit(\n",
    "        train_x,\n",
    "        train_y,\n",
    "        epochs=EPOCHS,\n",
    "        batch_size=BATCH_SIZE,\n",
    "    )"
   ]
  },
  {
   "cell_type": "code",
   "execution_count": null,
   "metadata": {},
   "outputs": [],
   "source": []
  }
 ],
 "metadata": {
  "kernelspec": {
   "display_name": "Python 3",
   "language": "python",
   "name": "python3"
  },
  "language_info": {
   "codemirror_mode": {
    "name": "ipython",
    "version": 3
   },
   "file_extension": ".py",
   "mimetype": "text/x-python",
   "name": "python",
   "nbconvert_exporter": "python",
   "pygments_lexer": "ipython3",
   "version": "3.7.3"
  }
 },
 "nbformat": 4,
 "nbformat_minor": 4
}
