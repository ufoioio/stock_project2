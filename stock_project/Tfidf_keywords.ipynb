{
 "cells": [
  {
   "cell_type": "code",
   "execution_count": 1,
   "metadata": {},
   "outputs": [],
   "source": [
    "import pandas as pd\n",
    "import numpy as np"
   ]
  },
  {
   "cell_type": "code",
   "execution_count": 2,
   "metadata": {},
   "outputs": [],
   "source": [
    "import os\n",
    "import pandas as pd\n",
    "import numpy as np\n",
    "import glob\n",
    "from newstock.news import Newstock"
   ]
  },
  {
   "cell_type": "code",
   "execution_count": 3,
   "metadata": {},
   "outputs": [],
   "source": [
    "from sklearn.pipeline import Pipeline\n",
    "from sklearn.naive_bayes import MultinomialNB"
   ]
  },
  {
   "cell_type": "code",
   "execution_count": 4,
   "metadata": {},
   "outputs": [],
   "source": [
    "import sklearn.metrics as m"
   ]
  },
  {
   "cell_type": "code",
   "execution_count": 14,
   "metadata": {},
   "outputs": [],
   "source": [
    "from sklearn.base import BaseEstimator, TransformerMixin\n",
    "from sklearn.feature_extraction.text import CountVectorizer, TfidfVectorizer"
   ]
  },
  {
   "cell_type": "code",
   "execution_count": 6,
   "metadata": {},
   "outputs": [],
   "source": [
    "import matplotlib\n",
    "import matplotlib.font_manager as fm\n",
    "fm.get_fontconfig_fonts()\n",
    "# font_location = '/usr/share/fonts/truetype/nanum/NanumGothicOTF.ttf'\n",
    "font_location = 'C:/Windows/Fonts/gulim.ttc' # For Windows\n",
    "font_name = fm.FontProperties(fname=font_location).get_name()\n",
    "matplotlib.rc('font', family=font_name)"
   ]
  },
  {
   "cell_type": "code",
   "execution_count": 7,
   "metadata": {},
   "outputs": [],
   "source": [
    "from sklearn.base import BaseEstimator, TransformerMixin\n",
    "\n",
    "class TextSelector(BaseEstimator, TransformerMixin):\n",
    "    \"\"\"\n",
    "    Transformer to select a single column from the data frame to perform additional transformations on\n",
    "    Use on text columns in the data\n",
    "    \"\"\"\n",
    "    def __init__(self, text='text'):\n",
    "        self.text = text\n",
    "\n",
    "    def fit(self, X, y=None):\n",
    "        return self\n",
    "\n",
    "    def transform(self, X, y=None):\n",
    "        return X[self.text]"
   ]
  },
  {
   "cell_type": "code",
   "execution_count": 8,
   "metadata": {},
   "outputs": [],
   "source": [
    "from sklearn.base import BaseEstimator, TransformerMixin\n",
    "\n",
    "class Buy_Sell_transformer_slope(BaseEstimator, TransformerMixin):\n",
    "    \"\"\"\n",
    "    Transformer to select a single column from the data frame to perform additional transformations on\n",
    "    Use on text columns in the data\n",
    "    \"\"\"\n",
    "    def __init__(self, cut_percent=0.2):\n",
    "        self.cut_percent = 1-cut_percent\n",
    "\n",
    "    def fit(self, y):\n",
    "        return self\n",
    "\n",
    "    def transform(self, y):\n",
    "        y = y.apply(lambda x: x.coef_[0][0])\n",
    "        cut_value = y.quantile(self.cut_percent)\n",
    "        print(cut_value)\n",
    "        y = pd.cut(y, bins=[-np.inf, cut_value, np.inf], labels=['nothing','buy'])\n",
    "        return y"
   ]
  },
  {
   "cell_type": "code",
   "execution_count": 9,
   "metadata": {},
   "outputs": [],
   "source": [
    "import pandas as pd\n",
    "import datetime\n",
    "from datetime import datetime as dt\n",
    "from dateutil.relativedelta import *\n",
    "\n",
    "class TimeBasedCV(object):\n",
    "    '''\n",
    "    Parameters \n",
    "    ----------\n",
    "    train_period: int\n",
    "        number of time units to include in each train set\n",
    "        default is 30\n",
    "    test_period: int\n",
    "        number of time units to include in each test set\n",
    "        default is 7\n",
    "    freq: string\n",
    "        frequency of input parameters. possible values are: days, months, years, weeks, hours, minutes, seconds\n",
    "        possible values designed to be used by dateutil.relativedelta class\n",
    "        deafault is days\n",
    "    '''\n",
    "    \n",
    "    \n",
    "    def __init__(self, train_period=30, test_period=7, freq='days'):\n",
    "        self.train_period = train_period\n",
    "        self.test_period = test_period\n",
    "        self.freq = freq\n",
    "\n",
    "        \n",
    "        \n",
    "    def split(self, data, validation_split_date=None, date_column='record_date', gap=0):\n",
    "        '''\n",
    "        Generate indices to split data into training and test set\n",
    "        \n",
    "        Parameters \n",
    "        ----------\n",
    "        data: pandas DataFrame\n",
    "            your data, contain one column for the record date \n",
    "        validation_split_date: datetime.date()\n",
    "            first date to perform the splitting on.\n",
    "            if not provided will set to be the minimum date in the data after the first training set\n",
    "        date_column: string, deafult='record_date'\n",
    "            date of each record\n",
    "        gap: int, default=0\n",
    "            for cases the test set does not come right after the train set,\n",
    "            *gap* days are left between train and test sets\n",
    "        \n",
    "        Returns \n",
    "        -------\n",
    "        train_index ,test_index: \n",
    "            list of tuples (train index, test index) similar to sklearn model selection\n",
    "        '''\n",
    "        \n",
    "        # check that date_column exist in the data:\n",
    "        try:\n",
    "            data[date_column]\n",
    "        except:\n",
    "            raise KeyError(date_column)\n",
    "                    \n",
    "        train_indices_list = []\n",
    "        test_indices_list = []\n",
    "\n",
    "        if validation_split_date==None:\n",
    "            validation_split_date = data[date_column].min().date() + eval('relativedelta('+self.freq+'=self.train_period)')\n",
    "        \n",
    "        start_train = validation_split_date - eval('relativedelta('+self.freq+'=self.train_period)')\n",
    "        end_train = start_train + eval('relativedelta('+self.freq+'=self.train_period)')\n",
    "        start_test = end_train + eval('relativedelta('+self.freq+'=gap)')\n",
    "        end_test = start_test + eval('relativedelta('+self.freq+'=self.test_period)')\n",
    "\n",
    "        while end_test <= data[date_column].max().date() + eval('relativedelta('+self.freq+'=1)'):\n",
    "            # train indices:\n",
    "            cur_train_indices = list(data[(data[date_column].dt.date>=start_train) & \n",
    "                                     (data[date_column].dt.date<end_train)].index)\n",
    "\n",
    "            # test indices:\n",
    "            cur_test_indices = list(data[(data[date_column].dt.date>=start_test) &\n",
    "                                    (data[date_column].dt.date<end_test)].index)\n",
    "            \n",
    "            print(\"Train period:\",start_train,\"<= day <\" , end_train, \", Test period\", start_test, \"<= day <\", end_test,\n",
    "                  \"# train records\", len(cur_train_indices), \", # test records\", len(cur_test_indices))\n",
    "\n",
    "            train_indices_list.append(cur_train_indices)\n",
    "            test_indices_list.append(cur_test_indices)\n",
    "\n",
    "            # update dates:\n",
    "            start_train = start_train + eval('relativedelta('+self.freq+'=self.test_period)')\n",
    "            end_train = start_train + eval('relativedelta('+self.freq+'=self.train_period)')\n",
    "            start_test = end_train + eval('relativedelta('+self.freq+'=gap)')\n",
    "            end_test = start_test + eval('relativedelta('+self.freq+'=self.test_period)')\n",
    "\n",
    "        # mimic sklearn output  \n",
    "        index_output = [(train,test) for train,test in zip(train_indices_list,test_indices_list)]\n",
    "\n",
    "        self.n_splits = len(index_output)\n",
    "        \n",
    "        return index_output\n",
    "    \n",
    "    \n",
    "    def get_n_splits(self):\n",
    "        \"\"\"Returns the number of splitting iterations in the cross-validator\n",
    "        Returns\n",
    "        -------\n",
    "        n_splits : int\n",
    "            Returns the number of splitting iterations in the cross-validator.\n",
    "        \"\"\"\n",
    "        return self.n_splits "
   ]
  },
  {
   "cell_type": "code",
   "execution_count": 10,
   "metadata": {},
   "outputs": [],
   "source": [
    "names = os.listdir('./stock_data/stock_article0301_0531/article/')"
   ]
  },
  {
   "cell_type": "code",
   "execution_count": 11,
   "metadata": {},
   "outputs": [
    {
     "name": "stdout",
     "output_type": "stream",
     "text": [
      "KB금융\n",
      "LG생활건강\n",
      "LG화학\n",
      "NAVER\n",
      "POSCO\n",
      "SK\n",
      "SK텔레콤\n",
      "SK하이닉스\n",
      "기아차\n",
      "삼성SDI\n",
      "삼성물산\n",
      "삼성바이오로직스\n",
      "삼성에스디에스\n",
      "삼성전자\n",
      "셀트리온\n",
      "신한지주\n",
      "엔씨소프트\n",
      "카카오\n",
      "현대모비스\n",
      "현대차\n"
     ]
    }
   ],
   "source": [
    "data = {}\n",
    "for name in names:\n",
    "    print(name)\n",
    "    ns = Newstock(name)\n",
    "    data[name] = {'X' : ns.news_data_with_price}"
   ]
  },
  {
   "cell_type": "code",
   "execution_count": 18,
   "metadata": {},
   "outputs": [
    {
     "name": "stdout",
     "output_type": "stream",
     "text": [
      "Train period: 2020-03-02 <= day < 2020-05-01 , Test period 2020-05-01 <= day < 2020-05-30 # train records 735 , # test records 272\n"
     ]
    }
   ],
   "source": [
    "train_period=60\n",
    "test_period=29\n",
    "tscv = TimeBasedCV(train_period=train_period, test_period=test_period, freq='days')\n",
    "cv_sets = tscv.split(data['LG생활건강']['X'].reset_index(drop=True), validation_split_date=None, date_column='timestamps', gap=0)"
   ]
  },
  {
   "cell_type": "code",
   "execution_count": 125,
   "metadata": {},
   "outputs": [
    {
     "data": {
      "text/plain": [
       "TfidfVectorizer(analyzer='word', binary=False, decode_error='strict',\n",
       "                dtype=<class 'numpy.float64'>, encoding='utf-8',\n",
       "                input='content', lowercase=True, max_df=1.0, max_features=None,\n",
       "                min_df=1, ngram_range=(1, 1), norm='l2', preprocessor=None,\n",
       "                smooth_idf=True, stop_words=None, strip_accents=None,\n",
       "                sublinear_tf=True, token_pattern='(?u)\\\\b\\\\w\\\\w+\\\\b',\n",
       "                tokenizer=None, use_idf=True, vocabulary=None)"
      ]
     },
     "execution_count": 125,
     "metadata": {},
     "output_type": "execute_result"
    }
   ],
   "source": [
    "tfidf = TfidfVectorizer(sublinear_tf=False)\n",
    "tfidf.fit(data['LG생활건강']['X']['text'].iloc[cv_sets[0][0]])\n",
    "\n",
    "tfidf_s = TfidfVectorizer(sublinear_tf=True)\n",
    "tfidf_s.fit(data['LG생활건강']['X']['text'].iloc[cv_sets[0][0]])"
   ]
  },
  {
   "cell_type": "code",
   "execution_count": 126,
   "metadata": {},
   "outputs": [],
   "source": [
    "test_vec = tfidf.transform(data['LG생활건강']['X']['text'].iloc[cv_sets[0][1]])\n",
    "test_vec_s = tfidf_s.transform(data['LG생활건강']['X']['text'].iloc[cv_sets[0][1]])"
   ]
  },
  {
   "cell_type": "code",
   "execution_count": 127,
   "metadata": {},
   "outputs": [
    {
     "data": {
      "text/plain": [
       "(272, 28301)"
      ]
     },
     "execution_count": 127,
     "metadata": {},
     "output_type": "execute_result"
    }
   ],
   "source": [
    "test_vec.shape"
   ]
  },
  {
   "cell_type": "code",
   "execution_count": 128,
   "metadata": {},
   "outputs": [
    {
     "data": {
      "text/plain": [
       "272"
      ]
     },
     "execution_count": 128,
     "metadata": {},
     "output_type": "execute_result"
    }
   ],
   "source": [
    "len(data['LG생활건강']['X']['text'].iloc[cv_sets[0][1]])"
   ]
  },
  {
   "cell_type": "code",
   "execution_count": 129,
   "metadata": {},
   "outputs": [
    {
     "data": {
      "text/plain": [
       "array([ 5044,  2300, 23328,  9948, 22248, 13019,   329, 18271,  4037,\n",
       "        9935], dtype=int64)"
      ]
     },
     "execution_count": 129,
     "metadata": {},
     "output_type": "execute_result"
    }
   ],
   "source": [
    "test_vec[0, :].toarray().argsort()[0][::-1][:10]"
   ]
  },
  {
   "cell_type": "code",
   "execution_count": 140,
   "metadata": {},
   "outputs": [
    {
     "name": "stdout",
     "output_type": "stream",
     "text": [
      "['강보합권에서' '4월' '고용' '미국의' '하지만' '있다' '외국인과' '내리고' '동반' '매도에도']\n",
      "['강보합권에서' '고용' '4월' '미국의' '감소했다고' '노동부는' '예상은' '조정치' '계절' '치솟았다']\n"
     ]
    },
    {
     "data": {
      "text/plain": [
       "'코스피가 외국인과 기관의 동반 매도에도 강보합권에서 출발하고 있다. 11일 오전 9시 3분 현재 코스피는 전 거래일 대비 8.52포인트(0.44%)오른 1954.34를 기록하고 있다.이날 7.69포인트(0.40%) 상승 출발한 지수는 장 초반 외국인과 기관이 동반 \\'팔자\\'로 나섰지만 개인 중심의 매수세가 유입되면서 1950선 강보합권에서 움직이고 있다. 지난주 코스피는 코로나19를 둘러싼 발병지 논란으로 미중간 무역분쟁 우려가 재부각되면서 매물이 출회했다. 하지만 미국 대형 기술주와 반도체 중심으로 강세를 보이면서 반등을 보인 데 힘입어 낙폭을 축소했다. 마감. 코스닥 지수는 기획재정부의 \\'한국판 뉴딜\\' 부양정책 추진 발표에 주 후반 강세를 보였다.앞서 지난 주말 뉴욕증시는 미국의 4월 고용지표가 우려보다는 덜 나빴던 데 힘입어 큰 폭으로 올랐다.미 노동부는 지난 4월 비농업부문 고용이 2050만 명(계절 조정치) 감소했다고 발표했다. 실업률은 3월의 4.4%에서 14.7%로 치솟았다. 고용 감소 규모와 실업률 모두 사상 최악 수준의 수치를 기록했다.하지만 시장이 우려했던 것보다는 나쁘지 않았던 점이 투자자들에게 안도감을 제공했다. 월스트리트저널이 집계한 시장 예상은 실업률이 16%로 치솟고, 고용은 2150만 명 감소하는 것이었다. 4월 실직자의 78% 이상이 \\'일시해고\\' 상태인 것으로 조사된 점도 향후 고용 반등에 대한 기대를 자극했다.서상영 키움증권 연구원은 \"한국 증시는 글로벌 경제 재개에 대한 기대와 기업들의 급격한 이익 추정치 하향 조정에 따른 높은 밸류에이션, 미국의 코로나 19 확진자 추이 및 미중 무역협상 점검, 미국종양임상학회(ASCO) 초록 결과에 따른 제약, 바이오 업종의 변동성 확대 등을 감안 시 뚜렷한 방향성을 보이기 보다는 지난주에 이어 업종별, 종목별 차별화가 지속될 것으로 예상한다\"고 말했다.이날 유가증권시장에서는 업종별로 의료정밀, 의약품, 운송장비, 서비스업, 종이목재 등이 오르고 있고 섬유의복, 건설업, 유통업, 비금속광물 등이 내리고 있다.매매주체별로 개인이 240억원 순매수 중이고 외국인과 기관은 각각 37억원, 209억원 순매도 중이다. 프로그램 매매는 158억원 매도 우위다.시가총액 상위 종목들 가운데 삼성전자, 삼성바이오로직스, NAVER, 셀트리온, LG화학, 현대차, 삼성SDI, 카카오, 현대모비스 등은 상승하고 있으나 SK하이닉스, LG생활건강, 삼성물산 등은 하락하고 있다.이날 유가증권시장에서는 411개 종목이 오르고 있고 322개 종목이 내리고 있다.코스닥은 전 거래일 대비 3.42포인트(0.50%) 오른 685.72를 기록 중이다.[디지털뉴스국 김경택 기자]\\xa0[ⓒ 매일경제 & mk.co.kr, 무단전재 및 재배포 금지]'"
      ]
     },
     "execution_count": 140,
     "metadata": {},
     "output_type": "execute_result"
    }
   ],
   "source": [
    "n = 51\n",
    "print(np.take(tfidf.get_feature_names(), test_vec[n, :].toarray().argsort()[0][::-1])[:10])\n",
    "print(np.take(tfidf_s.get_feature_names(), test_vec_s[n, :].toarray().argsort()[0][::-1])[:10])\n",
    "\n",
    "data['LG생활건강']['X']['text'].iloc[cv_sets[0][1]].iloc[n]"
   ]
  },
  {
   "cell_type": "markdown",
   "metadata": {},
   "source": [
    "# 전체 데이터 tf-idf & cosine-similiarity"
   ]
  },
  {
   "cell_type": "code",
   "execution_count": 218,
   "metadata": {},
   "outputs": [],
   "source": [
    "x_all = pd.DataFrame()\n",
    "\n",
    "for key in data.keys():\n",
    "    x_tmp = data[key]['X']\n",
    "    x_all = x_all.append(x_tmp)"
   ]
  },
  {
   "cell_type": "code",
   "execution_count": 219,
   "metadata": {},
   "outputs": [
    {
     "data": {
      "text/plain": [
       "39016"
      ]
     },
     "execution_count": 219,
     "metadata": {},
     "output_type": "execute_result"
    }
   ],
   "source": [
    "len(x_all)"
   ]
  },
  {
   "cell_type": "code",
   "execution_count": 144,
   "metadata": {},
   "outputs": [
    {
     "name": "stdout",
     "output_type": "stream",
     "text": [
      "Train period: 2020-03-02 <= day < 2020-05-01 , Test period 2020-05-01 <= day < 2020-05-30 # train records 26608 , # test records 12408\n"
     ]
    }
   ],
   "source": [
    "train_period=60\n",
    "test_period=29\n",
    "tscv = TimeBasedCV(train_period=train_period, test_period=test_period, freq='days')\n",
    "cv_sets = tscv.split(x_all.reset_index(drop=True), validation_split_date=None, date_column='timestamps', gap=0)"
   ]
  },
  {
   "cell_type": "code",
   "execution_count": 145,
   "metadata": {},
   "outputs": [
    {
     "data": {
      "text/plain": [
       "TfidfVectorizer(analyzer='word', binary=False, decode_error='strict',\n",
       "                dtype=<class 'numpy.float64'>, encoding='utf-8',\n",
       "                input='content', lowercase=True, max_df=1.0, max_features=None,\n",
       "                min_df=1, ngram_range=(1, 1), norm='l2', preprocessor=None,\n",
       "                smooth_idf=True, stop_words=None, strip_accents=None,\n",
       "                sublinear_tf=True, token_pattern='(?u)\\\\b\\\\w\\\\w+\\\\b',\n",
       "                tokenizer=None, use_idf=True, vocabulary=None)"
      ]
     },
     "execution_count": 145,
     "metadata": {},
     "output_type": "execute_result"
    }
   ],
   "source": [
    "tfidf = TfidfVectorizer(sublinear_tf=False)\n",
    "tfidf.fit(x_all['text'].iloc[cv_sets[0][0]])\n",
    "\n",
    "tfidf_s = TfidfVectorizer(sublinear_tf=True)\n",
    "tfidf_s.fit(x_all['text'].iloc[cv_sets[0][0]])"
   ]
  },
  {
   "cell_type": "code",
   "execution_count": 146,
   "metadata": {},
   "outputs": [],
   "source": [
    "test_vec = tfidf.transform(x_all['text'].iloc[cv_sets[0][1]])\n",
    "test_vec_s = tfidf_s.transform(x_all['text'].iloc[cv_sets[0][1]])"
   ]
  },
  {
   "cell_type": "code",
   "execution_count": 153,
   "metadata": {},
   "outputs": [
    {
     "name": "stdout",
     "output_type": "stream",
     "text": [
      "['재고관련' '배터리' '항공유와' 'sk이노베이션은' '관련해선' '휘발유' '1분기' '손실이' '목표를' '15만배럴'\n",
      " '중이라' '고밀도' '크랙' '손익에' '수송용' '있어선' '두바이' '원유가' '생산물량' '이노베이션을']\n",
      "['재고관련' '항공유와' '관련해선' '휘발유' 'sk이노베이션은' '배터리' '15만배럴' '중이라' '수송용' '고밀도'\n",
      " '크랙' '손익에' '있어선' '두바이' '손실이' '목표를' '생산물량' '원유가' '이노베이션을' '감안한다면']\n"
     ]
    },
    {
     "data": {
      "text/plain": [
       "'[서울=뉴시스] 김지은 기자 = SK이노베이션은 6일 올해 배터리 매출 목표를 10% 내외 수준에서 하향 조정한다\"고 밝혔다. SK이노베이션은 이날 1분기 실적 발표 이후 열린 콘퍼런스콜에서 \"앞서 올해 매출 목표를 2조원으로 제시했는데 코로나19 확산으로 생산물량 조정 등이 불가피하게 됐다\"고 말했다.다만 \"손익에 있어선 수율 개선, 비용 최적화 등을 통해 당초 목표치를 유지하려 한다\"고 했다.배터리사업은 유럽, 중국, 미국 등에서 생산시설을 확충 중이다. 예정대로 완공되면 2022년에는 연 60GW, 2023년에는 연 70GW의 생산능력을 보유하게 된다.전고체 배터리 개발과 관련해선 \"글로벌 전문가와 함께 연구 중\"이라며 \"오픈 이노베이션을 채택해 고밀도 에너지 배터리 개발에 속도를 낼 것\"이라고 부연했다.다만 \"기술 발전 수준을 감안한다면 비즈니스 모델로 이어지기까지는 시간이 걸릴 것\"이라고 언급했다.미국에서의 LG화학과의 소송과 관련해선 \"구체적으로 말하는 것은 결과에 영향 미칠 수 있기 때문에 추가 코멘트를 할 순 없다\"면서도 \"다양한 가능성에 대해 모니터링, 준비 중이라 상황에 따라 맞게 대응할 것\"이라고 말했다.정제공장은 추가적인 가동률 조정에 나선다.SK이노베이션은 \"SK에너지는 코로나19에 따른 전 세계적 항공유와 휘발유 수요 급감과 크랙 하락 등을 고려해 울산Complex를 보수적으로 가동할 계획\"이라며 \"특히 2분기엔 넘버5 정기보수 계획이 있어 1분기에 비해 15만배럴 줄일 계획이다\"고 말했다.이어 \"감압잔사유 탈황설비(VRDS)의 경우 성공적으로 조기 가동했지만 코로나19로 예측했던 것보다 가동을 다소 줄였다\"며 \"최적 운영으로 4만배럴을 정상 가동하고 있다\"고 했다.항공유와 휘발유 등 수송용 석유제품의 정제마진은 2분기까지 약세가 이어지고 6월부터 점진적으로 상승할 것으로 내다봤다.1분기 재고관련손실 규모는 총 1조1138억원으로 집계됐다. 사업별로 석유사업이 9418억원, 화학이 1393억원, 윤활유 327억원이다.회사 관계자는 \"1분기 두바이 원유가 30달러 하락하고, 석유제품도 큰 폭으로 하락했다\"며 \"이에 따라 저가법 평가를 포함해 1분기 영업이익에 대규모 재고관련 손실이 포함됐다\"고 설명했다.이어 \"화학사업에서 재고관련 손실이 예전보다 크게 난 이유는 제품뿐만 아니라 원재료로 활용하는 납사 가격이 큰 폭으로 하락했기 때문이다\"고 보충했다.올해 설비투자(CAPEX)와 관련해서는 \"3조 후반에서 4조 안팎의 연간 캐팩스가 예상된다\"며 \"60%는 배터리 및 리튬이온배터리 분리막에 쓴다\"고 덧붙였다. kje1321@newsis.com<ⓒ 공감언론 뉴시스통신사. 무단전재-재배포 금지>'"
      ]
     },
     "execution_count": 153,
     "metadata": {},
     "output_type": "execute_result"
    }
   ],
   "source": [
    "n = 450\n",
    "print(np.take(tfidf.get_feature_names(), test_vec[n, :].toarray().argsort()[0][::-1])[:20])\n",
    "print(np.take(tfidf_s.get_feature_names(), test_vec_s[n, :].toarray().argsort()[0][::-1])[:20])\n",
    "\n",
    "x_all['text'].iloc[cv_sets[0][1]].iloc[n]"
   ]
  },
  {
   "cell_type": "code",
   "execution_count": 156,
   "metadata": {},
   "outputs": [],
   "source": [
    "cos_sim = test_vec * test_vec.T"
   ]
  },
  {
   "cell_type": "code",
   "execution_count": 165,
   "metadata": {},
   "outputs": [
    {
     "data": {
      "text/plain": [
       "array([[1.        , 0.03283852, 0.03414869, ..., 0.01393147, 0.01487106,\n",
       "        0.02629644]])"
      ]
     },
     "execution_count": 165,
     "metadata": {},
     "output_type": "execute_result"
    }
   ],
   "source": [
    "cos_sim[0, :].toarray()"
   ]
  },
  {
   "cell_type": "code",
   "execution_count": 171,
   "metadata": {},
   "outputs": [
    {
     "name": "stdout",
     "output_type": "stream",
     "text": [
      "[1.         0.17610834 0.15317275 ... 0.         0.         0.        ]\n"
     ]
    }
   ],
   "source": [
    "print(np.sort(cos_sim[0, :].toarray())[0][::-1])"
   ]
  },
  {
   "cell_type": "code",
   "execution_count": 179,
   "metadata": {},
   "outputs": [
    {
     "data": {
      "text/plain": [
       "array([   0, 1324, 5484, ..., 8423, 7069, 2438], dtype=int64)"
      ]
     },
     "execution_count": 179,
     "metadata": {},
     "output_type": "execute_result"
    }
   ],
   "source": [
    "cos_sim[0, :].toarray()[0].argsort()[::-1]"
   ]
  },
  {
   "cell_type": "code",
   "execution_count": 212,
   "metadata": {},
   "outputs": [
    {
     "name": "stdout",
     "output_type": "stream",
     "text": [
      "1602     지난 25일 김정태 하나금융그룹 회장과 조용병 신한금융그룹 회장이 글로벌 사업을 위...\n",
      "1600     [헤럴드경제=금융팀] 지난 25일 김정태 하나금융그룹 회장과 조용병 신한금융그룹 회...\n",
      "1000     (서울=뉴스1) 민정혜 기자,김도엽 기자 = \"국내에선 두 금융그룹이 경쟁관계에 있...\n",
      "16120    [아시아경제 이동우 기자] 우마르 하디(Umar Hadi) 주한 인도네시아 대사는 ...\n",
      "15889    [아시아경제 이동우 기자] 우마르 하디(Umar Hadi) 주한 인도네시아 대사는 ...\n",
      "982      국내 금융그룹 중 1위(순이익 기준)를 달리고 있는 와 3위 가 글로벌 경쟁력 강화...\n",
      "1002     자산 기준 국내 1위 금융그룹인 와 3위인 가 국내 금융지주 최초로 글로벌 경쟁력 ...\n",
      "Name: text, dtype: object\n"
     ]
    }
   ],
   "source": [
    "n = 106\n",
    "\n",
    "similars = np.take(x_all['text'].iloc[cv_sets[0][1]], cos_sim[n, :].toarray()[0].argsort()[::-1])\n",
    "\n",
    "print(similars[0:7])"
   ]
  },
  {
   "cell_type": "code",
   "execution_count": 220,
   "metadata": {},
   "outputs": [
    {
     "data": {
      "text/plain": [
       "'지난 25일 김정태 하나금융그룹 회장과 조용병 신한금융그룹 회장이 글로벌 사업을 위해 손을 잡았다. 양해각서(MOU)는 보통 뭔가를 ‘같이 하자’는 뜻이지만, 이 날은 좀 달랐다. ‘다투지 말자’는 게 핵심이다. 이번 협약에는 ‘과당경쟁을 지양한다’는 대목이 들어갔다.이른바 ‘신남방’으로 불리는 동남아시아 금융시장에서는 그야말로 한국 금융사들이 ‘바글바글’하다. 금융감독원에 따르면 지난해 말 기준 국내은행들이 나라 밖에 낸 점포는 195곳이다. 이 가운데 69.2%(135곳)는 아시아권역이다. 베트남에만 우리나라 은행 점포가 19개가 몰렸다. 중국, 인도(16개), 미얀마(14개), 홍콩(11개), 캄보디아(10개) 등은 국내 은행들이 진출한 대표적인 지역이다.은행을 포함해 금융그룹 내 계열사로 따지면 밀도는 더 높아진다. 인도네시아, 베트남, 미얀마, 캄보디아에서는 우리 금융회사 끼리 경쟁을 벌일 정도다.인도네시아에는 신한·하나금융이 각각 43개, 72개 지점(은행, 캐피탈 등)을 거느리고 있다. 우리금융은 2014년 현지 소다라은행을 인수했고 현재 157개 영업점을 운영하고 있다.진출 초기엔 현지법인, 지점을 늘리던 금융사들의 글로벌 전략은 이제 현지 금융사 인수합병(M&A), 지분 매입 등으로 진화했다. 기존에는 현지에 진출한 국내 기업들을 주요 고객으로 삼았다면, 이제는 현지 고객들을 직접 겨냥한 리테일 서비스를 늘려가고 있다.비슷한 전략으로 경쟁하다보니 ‘출혈 경쟁’도 벌어진다.한 은행 관계자는 “지난해 몇몇 은행이 인도네시아, 캄보디아의 현지 금융사를 인수하는 과정에서 주가 순자산비율(PBR)의 3배 가까이 지불한 사례가 있다”며 “지나치다는 말들도 있었다”고 전했다.지난해 하나금융그룹은 베트남투자개발은행(BIDV)의 전략투자자(SI)로 지분 15%를 사는데 1조148억원을 지불했다. 덕분에 BIDV 자본은 전년 말 2조7245억원대에서 3조8826억원(100동=5원 )대로 급증했다. 순익과 배당을 고려할 때 지분 15%를 확보하면서 자본을 40% 가량 늘려준 셈이다. 하나금융은 1조원을 넘게 투입해 130억원 가량의 배당을 받았다.지난해 말 기준 자산 74조4979억원에 순익 4274억원 낸 BIDV의 최근 시가총액은 약 8조원이다. 자산 421조원에 순익 2조4256억원으로 덩치가 5배 이상 큰 하나금융지주의 시총과 비슷할 정도로 밸류에이션이 높다. 유통주식수가 밸행주식의 채 5%도 안된다. 정부의 허가가 없으면 하나금융의 보유지분은 유동화가 불가능하다.상황이 이런데다, 코로나19까지 발발하면서 국내 금융사들 사이에 위기의식이 높아졌다. 코로나19는 선진국의 공장역할을 해온 신흥국 경제에는 치명적일 것이란 평가가 많다.한 시중은행 고위관계자는 “아직 (국내 은행들은) 해외에서 경쟁력이 약한데 투자 사업, 인수합병 등에서 우리끼리도 경쟁하니 결국 제살깍아먹는 셈”이라며 “서로 힘을 합쳐 글로벌 은행과 경쟁하며 해외 사업을 공동으로 확대할 필요가 있다”고 말했다.관건은 KB금융과 우리금융이다. KB금융은 신한금융과 경쟁구도다. 우리금융은 우리은행 비중을 줄이기 위한 외연확장이 절실하다. 김정태 하나금융 회장은 윤종규 KB금융회장과 손태승 우리금융 회장의 성균관 대학 선배다. 조 회장에 이어 금융지주간 ‘평화협정’을 이끌어 낼 수 인물로 평가된다. 금융팀\\n- Copyrights ⓒ 헤럴드경제 & heraldbiz.com, 무단 전재 및 재배포 금지 -'"
      ]
     },
     "execution_count": 220,
     "metadata": {},
     "output_type": "execute_result"
    }
   ],
   "source": [
    "similars.iloc[0]"
   ]
  },
  {
   "cell_type": "code",
   "execution_count": 221,
   "metadata": {},
   "outputs": [
    {
     "data": {
      "text/plain": [
       "'[아시아경제 이동우 기자] 우마르 하디(Umar Hadi) 주한 인도네시아 대사는 현지에 진출한 국내 기업인들과 만나 신종 코로나바이러스감염증(코로나19) 사태에 따른 양국 경제협력 방안을 모색할 예정이다.22일 재계에 따르면 하디 대사는 오는 27일 여의도 전경련회관에서 우리 기업인들과 만나 양국 교역 확대를 위한 적극적인 현지 투자 방안을 요청할 계획이다. 하디 대사는 포스트코로나 시대에 맞춰 자국 내 투자 강화를 위한 기업 친화적인 정책을 소개하고, 관광 산업 등 분야에서 양국 기업 간 긴밀한 협력 관계를 추진하자는 뜻을 전달할 것으로 알려졌다.대한무역투자진흥공사에 따르면 인도네시아는 2018년 역대 최대 규모인 85억7000만달러(9조6000억원)의 무역적자를 기록한 후 현재까지 회복이 더딘 상황이다.권태신 전경련 부회장은 이 자리에서 하디 대사에게 현지 진출한 국내 기업의 코로나19 피해를 적극적으로 지원해줄 것을 요청할 계획이다. 또 현지 진출한 20여개의 국내 주요 기업인들이 참석해 경영 애로사항을 건의할 방침이다. 국내 대표적인 진출 기업으로는 1969년 코린도그룹을 시작으로 현재 삼성전자, LG전자, CJ, 롯데마트, SK에너지 등이 있다.재계 관계자는 \"최근 국내 주요 기업이 인도네시아로 생산라인을 이전하는 등 현지 정부가 우리 기업의 투자 유치를 위해 적극적으로 노력하고 있다\"며 \"이와 관련한 인도네시아 정부의 구체적인 사항이 나오길 기대하고 있다\"고 말했다. 이동우 기자 dwlee@asiae.co.kr <ⓒ경제를 보는 눈, 세계를 보는 창 아시아경제 무단전재 배포금지>'"
      ]
     },
     "execution_count": 221,
     "metadata": {},
     "output_type": "execute_result"
    }
   ],
   "source": [
    "similars.iloc[3]"
   ]
  },
  {
   "cell_type": "code",
   "execution_count": null,
   "metadata": {},
   "outputs": [],
   "source": []
  }
 ],
 "metadata": {
  "kernelspec": {
   "display_name": "Python 3",
   "language": "python",
   "name": "python3"
  },
  "language_info": {
   "codemirror_mode": {
    "name": "ipython",
    "version": 3
   },
   "file_extension": ".py",
   "mimetype": "text/x-python",
   "name": "python",
   "nbconvert_exporter": "python",
   "pygments_lexer": "ipython3",
   "version": "3.7.6"
  }
 },
 "nbformat": 4,
 "nbformat_minor": 4
}
